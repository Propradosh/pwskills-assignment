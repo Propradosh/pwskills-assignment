{
 "cells": [
  {
   "cell_type": "markdown",
   "id": "6e6319c1-8650-41cb-97d5-33cb5b3056c4",
   "metadata": {},
   "source": [
    "#### Question 1. Write a program to accept percentage from the user and display the grade according to the following."
   ]
  },
  {
   "cell_type": "code",
   "execution_count": 17,
   "id": "919830f1-c389-454a-b146-0bf2c5bb48fb",
   "metadata": {},
   "outputs": [
    {
     "name": "stdin",
     "output_type": "stream",
     "text": [
      "Enter Your Percentage in Intenger Value 23\n"
     ]
    },
    {
     "name": "stdout",
     "output_type": "stream",
     "text": [
      "Your Grade is D\n"
     ]
    }
   ],
   "source": [
    "a=int(input(\"Enter Your Percentage in Intenger Value\"))\n",
    "if a>100:\n",
    "    print(\"Percentage does not exceed maximum value of 100\")\n",
    "elif a>90 and a<=100:\n",
    "    print(\"Your Grade is A\")\n",
    "elif a>80 and a<=90:\n",
    "    print(\"Your Grade is B\")\n",
    "elif a>=60 and a<=80:\n",
    "    print(\"Your Grade is C\")\n",
    "else:\n",
    "    print(\"Your Grade is D\")"
   ]
  },
  {
   "cell_type": "markdown",
   "id": "11e8edb7-5aef-4212-8366-fbe72b87549d",
   "metadata": {},
   "source": [
    "### Question 2. Write a program to accept the cost price of a bike and display the road tax to be paid according to the following criteria:"
   ]
  },
  {
   "cell_type": "code",
   "execution_count": 3,
   "id": "8398c7e4-0246-4f37-ab41-1d34cac45696",
   "metadata": {},
   "outputs": [
    {
     "name": "stdin",
     "output_type": "stream",
     "text": [
      "Enter your bike Price 500002\n"
     ]
    },
    {
     "name": "stdout",
     "output_type": "stream",
     "text": [
      "Road tax to be paid for your bike is 75000.3\n",
      "Your final bike price including road tax is 575002.2999999999\n"
     ]
    }
   ],
   "source": [
    "a=int(input(\"Enter your bike Price\"))\n",
    "if a>100000:\n",
    "      print(f\"Road tax to be paid for your bike is {a*0.15}\")\n",
    "      print(f\"Your final bike price including road tax is {a*1.15}\")\n",
    "elif a>50000 and a<=100000:\n",
    "    print(f\"Road tax to be paid for your bike is {a*0.10}\")\n",
    "    print(f\"Your final bike price including road tax is {a*1.10}\")\n",
    "else:\n",
    "    print(f\"Road tax to be paid for your bike is {a*0.05}\")\n",
    "    print(f\"Your final bike price including road tax is {a*1.05}\")\n",
    "    "
   ]
  },
  {
   "cell_type": "markdown",
   "id": "6e4a85fd-19c3-4551-ae5d-1779d7c76014",
   "metadata": {},
   "source": [
    "#### Question 3. Accept any city from the user and display monumnets of that city"
   ]
  },
  {
   "cell_type": "code",
   "execution_count": 4,
   "id": "1a99ab2b-722e-48eb-8d7c-456d00c0194d",
   "metadata": {},
   "outputs": [
    {
     "name": "stdin",
     "output_type": "stream",
     "text": [
      "Enter city delhi\n"
     ]
    },
    {
     "name": "stdout",
     "output_type": "stream",
     "text": [
      "Monument you can saw in DELHI is Red Fort\n"
     ]
    }
   ],
   "source": [
    "a= input(\"Enter city\").upper()\n",
    "if a == \"DELHI\":\n",
    "    print(f\"Monument you can saw in {a} is Red Fort\")\n",
    "elif a == \"AGRA\":\n",
    "    print(f\"Monument you can saw in {a} is Taj Mahal\")\n",
    "elif a == \"JAIPUR\":\n",
    "    print(f\"Monumnet you can visit in {a} is Jal Mahal\")\n",
    "else: print(\"Enter right city from DELHI,AGRA & JAIPUR\")"
   ]
  },
  {
   "cell_type": "markdown",
   "id": "68aa13b5-be16-4a00-b2b4-adaf0e2d3d36",
   "metadata": {},
   "source": [
    "#### Question 4. Check how many times a give number can be divided by 3 before it is less than or equal to 10"
   ]
  },
  {
   "cell_type": "code",
   "execution_count": null,
   "id": "33446913-2781-4f6c-a64b-0b7f890f3ca9",
   "metadata": {},
   "outputs": [],
   "source": [
    "a=int(input(\"Enter Your Number\"))\n",
    "count=0\n",
    "while a>=10:\n",
    "    a=a/3\n",
    "    count += 1\n",
    "print(\"The number can be divided by 3 is\", count, \"times before it is less than or equal to 10.\")\n"
   ]
  },
  {
   "cell_type": "markdown",
   "id": "e65f7c36-4d14-4994-b461-321b6c1fc42b",
   "metadata": {},
   "source": [
    "#### Question 5. Why and when to use while loop in Python give a detail description with example"
   ]
  },
  {
   "cell_type": "code",
   "execution_count": null,
   "id": "62f1aa98-5f77-4f74-ab2c-14ab1b3ee0b9",
   "metadata": {},
   "outputs": [],
   "source": [
    "# Python while loop is used to run a block code until a certain condition is met.\n",
    "## When to use : Consider we have to run a block of code for 'x' number of times and we don't know that value 'x' soo we use while\n"
   ]
  },
  {
   "cell_type": "code",
   "execution_count": 16,
   "id": "ea76d0ef-27cd-4347-a818-72708534190d",
   "metadata": {},
   "outputs": [
    {
     "name": "stdout",
     "output_type": "stream",
     "text": [
      "1\n",
      "2\n",
      "3\n",
      "4\n",
      "5\n",
      "6\n",
      "7\n",
      "8\n",
      "9\n",
      "10\n",
      "11\n",
      "12\n",
      "13\n",
      "14\n",
      "15\n"
     ]
    }
   ],
   "source": [
    "## Example: Printing Number from 1 to 15.\n",
    "count=1\n",
    "while count<=15:\n",
    "    print(count,)\n",
    "    count +=1"
   ]
  },
  {
   "cell_type": "code",
   "execution_count": 12,
   "id": "71216b2e-464b-44e3-be26-fd938ec10335",
   "metadata": {},
   "outputs": [],
   "source": [
    "## Here while loop runs till count <=15. in all true condition it print \"count\" then go for \"count+1\" untill condition  goes false."
   ]
  },
  {
   "cell_type": "markdown",
   "id": "76972b75-7c43-46d0-b0f5-aa9417318048",
   "metadata": {},
   "source": [
    "#### Question 6. Use nested while loop to print 3 different pattern"
   ]
  },
  {
   "cell_type": "code",
   "execution_count": 23,
   "id": "60045317-79b7-4ce0-867a-01e3c969bb1d",
   "metadata": {},
   "outputs": [
    {
     "name": "stdin",
     "output_type": "stream",
     "text": [
      "Enter Number of Rows 5\n"
     ]
    },
    {
     "name": "stdout",
     "output_type": "stream",
     "text": [
      "1\n",
      "12\n",
      "123\n",
      "1234\n"
     ]
    }
   ],
   "source": [
    "##Pattern 1\n",
    "n=int(input(\"Enter Number of Rows\"))\n",
    "i=1\n",
    "j=1\n",
    "while i<n:\n",
    "    while j<=i:\n",
    "        print(j,end=\"\")\n",
    "        j+=1\n",
    "    print()\n",
    "    j=1\n",
    "    i+=1"
   ]
  },
  {
   "cell_type": "code",
   "execution_count": 21,
   "id": "0e7f6f54-73a9-4688-8589-dc86cb965f99",
   "metadata": {},
   "outputs": [
    {
     "name": "stdin",
     "output_type": "stream",
     "text": [
      "Enter number of rows :  5\n"
     ]
    },
    {
     "name": "stdout",
     "output_type": "stream",
     "text": [
      "$ $ $ $ $ \n",
      "$ $ $ $ \n",
      "$ $ $ \n",
      "$ $ \n",
      "$ \n"
     ]
    }
   ],
   "source": [
    "##Pattern 2\n",
    "n = int(input('Enter number of rows : '))\n",
    " \n",
    "i = 1\n",
    "while i <= n :\n",
    "    j = n\n",
    "    while j >= i:\n",
    "        print(\"$\", end = \" \")\n",
    "        j -= 1\n",
    "    print()\n",
    "    i += 1"
   ]
  },
  {
   "cell_type": "code",
   "execution_count": 29,
   "id": "ee57b132-f237-4466-925f-1534077b95da",
   "metadata": {},
   "outputs": [
    {
     "name": "stdin",
     "output_type": "stream",
     "text": [
      "Enter Number of Rows 5\n"
     ]
    },
    {
     "name": "stdout",
     "output_type": "stream",
     "text": [
      "*****\n",
      "*****\n",
      "*****\n",
      "*****\n",
      "*****\n"
     ]
    }
   ],
   "source": [
    "n=int(input(\"Enter Number of Rows\"))\n",
    "i=1\n",
    "j=1\n",
    "while i<=n:\n",
    "    while j<=n:\n",
    "        print(\"*\",end=\"\")\n",
    "        j+=1\n",
    "    print()\n",
    "    j=1\n",
    "    i+=1"
   ]
  },
  {
   "cell_type": "markdown",
   "id": "af79070e-506c-4123-bcc0-a9ee53aeee74",
   "metadata": {},
   "source": [
    "#### Question 7. Reverse a while loop to display the numbers from 10 to 1"
   ]
  },
  {
   "cell_type": "code",
   "execution_count": 1,
   "id": "004d7559-7b87-4f40-b472-4a3e8547156e",
   "metadata": {},
   "outputs": [
    {
     "name": "stdout",
     "output_type": "stream",
     "text": [
      "10\n",
      "9\n",
      "8\n",
      "7\n",
      "6\n",
      "5\n",
      "4\n",
      "3\n",
      "2\n",
      "1\n"
     ]
    }
   ],
   "source": [
    "i=10\n",
    "j=1\n",
    "while i>=j:\n",
    "    print(i)\n",
    "    i-=1"
   ]
  },
  {
   "cell_type": "markdown",
   "id": "a5b9fa51-c095-4d7a-9249-6acc4786a63b",
   "metadata": {},
   "source": [
    "#### Question 8. Reverse a while loop to display the numbers from 10 to 1"
   ]
  },
  {
   "cell_type": "code",
   "execution_count": 2,
   "id": "f6907665-494a-4aed-b549-88e1f63914d2",
   "metadata": {},
   "outputs": [
    {
     "name": "stdout",
     "output_type": "stream",
     "text": [
      "10\n",
      "9\n",
      "8\n",
      "7\n",
      "6\n",
      "5\n",
      "4\n",
      "3\n",
      "2\n",
      "1\n"
     ]
    }
   ],
   "source": [
    "i=10\n",
    "j=1\n",
    "while i>=j:\n",
    "    print(i)\n",
    "    i-=1"
   ]
  },
  {
   "cell_type": "code",
   "execution_count": null,
   "id": "4167710a-8ace-4b28-a4c3-8168f1348987",
   "metadata": {},
   "outputs": [],
   "source": []
  }
 ],
 "metadata": {
  "kernelspec": {
   "display_name": "Python 3 (ipykernel)",
   "language": "python",
   "name": "python3"
  },
  "language_info": {
   "codemirror_mode": {
    "name": "ipython",
    "version": 3
   },
   "file_extension": ".py",
   "mimetype": "text/x-python",
   "name": "python",
   "nbconvert_exporter": "python",
   "pygments_lexer": "ipython3",
   "version": "3.10.8"
  }
 },
 "nbformat": 4,
 "nbformat_minor": 5
}
