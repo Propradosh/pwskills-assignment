{
 "cells": [
  {
   "cell_type": "markdown",
   "id": "3d7d8cc7-7d82-4f48-a757-4c092068c8e8",
   "metadata": {},
   "source": [
    "### Consider the below code to answer further questions:"
   ]
  },
  {
   "cell_type": "code",
   "execution_count": 2,
   "id": "de10e057-47d5-4d68-b870-5cec9a186850",
   "metadata": {},
   "outputs": [],
   "source": [
    "import numpy as np\n",
    "\n",
    "list_ = ['1','2','3','4','5']\n",
    "\n",
    "array_list = np.array(object = list_)"
   ]
  },
  {
   "cell_type": "markdown",
   "id": "25c73a2a-ee3e-4b93-986f-861d000a2896",
   "metadata": {},
   "source": [
    "### Q1. Is there any difference in the data type of variables list_ and array_list? If there is then write a code to print the data types of both the variables."
   ]
  },
  {
   "cell_type": "markdown",
   "id": "da01d62e-c8d2-4b05-9a8f-30ecbefe788f",
   "metadata": {},
   "source": [
    "Yes, there is a difference in the data type of the list_ and array_list variables.\n",
    "The list_ variable is a Python list of strings, whereas array_list is a NumPy array of strings. Although they both contain the same string values, they have different data types because they are different types of objects."
   ]
  },
  {
   "cell_type": "code",
   "execution_count": 3,
   "id": "a69c767d-6040-448a-b190-ab0c4f773492",
   "metadata": {},
   "outputs": [
    {
     "name": "stdout",
     "output_type": "stream",
     "text": [
      "Type of list_ is : <class 'list'>\n",
      "Type of array_list is : <class 'numpy.ndarray'>\n"
     ]
    }
   ],
   "source": [
    "# Checking type of list_ and array_list\n",
    "print('Type of list_ is :',type(list_))\n",
    "print('Type of array_list is :',type(array_list))"
   ]
  },
  {
   "cell_type": "markdown",
   "id": "e2c1842a-9322-4a8c-b321-94861d808786",
   "metadata": {},
   "source": [
    "### Q2. Write a code to print the data type of each and every element of both the variables list_ and arra_list."
   ]
  },
  {
   "cell_type": "code",
   "execution_count": 6,
   "id": "e530df91-4988-42f5-b142-b698120efef6",
   "metadata": {},
   "outputs": [
    {
     "name": "stdout",
     "output_type": "stream",
     "text": [
      "Element value : 1, datatype = <class 'str'>\n",
      "Element value : 2, datatype = <class 'str'>\n",
      "Element value : 3, datatype = <class 'str'>\n",
      "Element value : 4, datatype = <class 'str'>\n",
      "Element value : 5, datatype = <class 'str'>\n",
      "________________________________________________________\n",
      "Element value : 1, datatype = <class 'numpy.str_'>\n",
      "Element value : 2, datatype = <class 'numpy.str_'>\n",
      "Element value : 3, datatype = <class 'numpy.str_'>\n",
      "Element value : 4, datatype = <class 'numpy.str_'>\n",
      "Element value : 5, datatype = <class 'numpy.str_'>\n"
     ]
    }
   ],
   "source": [
    "# Printing data types of each and every element in list_:\n",
    "for i in list_:\n",
    "    print(f'Element value : {i}, datatype = {type(i)}')\n",
    "    \n",
    "print('________________________________________________________')\n",
    "    \n",
    "# Printing data types of each and every element in array_list\n",
    "for i in array_list:\n",
    "    print(f'Element value : {i}, datatype = {type(i)}')"
   ]
  },
  {
   "cell_type": "markdown",
   "id": "2ca4404d-438e-4744-a1de-7616e85aaae9",
   "metadata": {},
   "source": [
    "### Q3. Considering the following changes in the variable, array_list:\n",
    "        array_list = np.array(object = list_, dtype = int)\n",
    "        \n",
    "### Will there be any difference in the data type of the elements present in both the variables, list_ and arra_list? If so then print the data types of each and every element present in both the variables, list_ and arra_list."
   ]
  },
  {
   "cell_type": "code",
   "execution_count": 7,
   "id": "5ed72c87-5774-4f08-83c8-fabf6702af28",
   "metadata": {},
   "outputs": [],
   "source": [
    "array_list = np.array(object = list_, dtype = int)"
   ]
  },
  {
   "cell_type": "code",
   "execution_count": 8,
   "id": "b1fffee4-1381-4bc2-b684-7ba1772c414b",
   "metadata": {},
   "outputs": [
    {
     "data": {
      "text/plain": [
       "array([1, 2, 3, 4, 5])"
      ]
     },
     "execution_count": 8,
     "metadata": {},
     "output_type": "execute_result"
    }
   ],
   "source": [
    "array_list"
   ]
  },
  {
   "cell_type": "markdown",
   "id": "f480492e-7bf3-4d50-9c82-594dcfa513a2",
   "metadata": {},
   "source": [
    "Yes There will be difference in datatypes of elements present in both lists.\n",
    "List elements will have data type string and array_list will have datatype numpy integer\n",
    "Below is code for showing same"
   ]
  },
  {
   "cell_type": "code",
   "execution_count": 10,
   "id": "1d4f43f3-a9a9-4b5a-9891-0d831464a445",
   "metadata": {},
   "outputs": [
    {
     "name": "stdout",
     "output_type": "stream",
     "text": [
      "Element value : 1, datatype = <class 'str'>\n",
      "Element value : 2, datatype = <class 'str'>\n",
      "Element value : 3, datatype = <class 'str'>\n",
      "Element value : 4, datatype = <class 'str'>\n",
      "Element value : 5, datatype = <class 'str'>\n",
      "-------------------------------------------------------\n",
      "Element value : 1, datatype = <class 'numpy.int64'>\n",
      "Element value : 2, datatype = <class 'numpy.int64'>\n",
      "Element value : 3, datatype = <class 'numpy.int64'>\n",
      "Element value : 4, datatype = <class 'numpy.int64'>\n",
      "Element value : 5, datatype = <class 'numpy.int64'>\n"
     ]
    }
   ],
   "source": [
    "# Printing data types of each and every element in list_:\n",
    "for i in list_:\n",
    "    print(f'Element value : {i}, datatype = {type(i)}')\n",
    "print(\"-------------------------------------------------------\")    \n",
    "# Printing data types of each and every element in modified array_list\n",
    "for i in array_list:\n",
    "    print(f'Element value : {i}, datatype = {type(i)}')"
   ]
  },
  {
   "cell_type": "markdown",
   "id": "51940967-1e70-4c56-8935-82e8de496f7a",
   "metadata": {},
   "source": [
    "### Consider the below code to answer further questions:"
   ]
  },
  {
   "cell_type": "code",
   "execution_count": 1,
   "id": "520764aa-017f-4de2-9fbd-f99f49427bd8",
   "metadata": {},
   "outputs": [],
   "source": [
    "import numpy as np\n",
    "num_list = [ [ 1 , 2 , 3 ] , [ 4 , 5 , 6 ] ]\n",
    "num_array = np.array(object = num_list)"
   ]
  },
  {
   "cell_type": "markdown",
   "id": "552458e2-1f34-43b5-ae2c-07549b799d9b",
   "metadata": {},
   "source": [
    "### Q4. Write a code to find the following characteristics of variable, num_array:\n",
    "                (i) shape\n",
    "                (ii) size"
   ]
  },
  {
   "cell_type": "code",
   "execution_count": 2,
   "id": "901ab1c6-7a78-437c-b0ed-7509c1fad787",
   "metadata": {},
   "outputs": [
    {
     "data": {
      "text/plain": [
       "(2, 3)"
      ]
     },
     "execution_count": 2,
     "metadata": {},
     "output_type": "execute_result"
    }
   ],
   "source": [
    "num_array.shape"
   ]
  },
  {
   "cell_type": "code",
   "execution_count": 3,
   "id": "ce30ddc7-45c2-4539-96b9-3ad2832dc5a3",
   "metadata": {},
   "outputs": [
    {
     "data": {
      "text/plain": [
       "6"
      ]
     },
     "execution_count": 3,
     "metadata": {},
     "output_type": "execute_result"
    }
   ],
   "source": [
    "num_array.size"
   ]
  },
  {
   "cell_type": "markdown",
   "id": "00a63248-e8e4-4540-8412-3852e3f5c498",
   "metadata": {},
   "source": [
    "### Q5. Write a code to create numpy array of 3*3 matrix containing zeros only, using a numpy array creation function.\n",
    "                    [Hint: The size of the array will be 9 and the shape will be (3,3).]"
   ]
  },
  {
   "cell_type": "code",
   "execution_count": 8,
   "id": "f9ca7db9-2f36-4db9-b8d0-cc97a099f98c",
   "metadata": {},
   "outputs": [
    {
     "data": {
      "text/plain": [
       "array([[0., 0., 0.],\n",
       "       [0., 0., 0.],\n",
       "       [0., 0., 0.]])"
      ]
     },
     "execution_count": 8,
     "metadata": {},
     "output_type": "execute_result"
    }
   ],
   "source": [
    "## Using np.zeros to create a 3X3 matrix containing zeros\n",
    "arr = np.zeros((3,3))\n",
    "arr"
   ]
  },
  {
   "cell_type": "code",
   "execution_count": 11,
   "id": "26191a4c-76d3-4755-8795-01255f58eaba",
   "metadata": {},
   "outputs": [
    {
     "name": "stdout",
     "output_type": "stream",
     "text": [
      "Size of arr is 9\n",
      "Shape of arr is (3, 3)\n"
     ]
    }
   ],
   "source": [
    "# Verifying Matrix size and shape\n",
    "print(f'Size of arr is {arr.size}')\n",
    "print(f'Shape of arr is {arr.shape}')"
   ]
  },
  {
   "cell_type": "markdown",
   "id": "0f3570d5-fae8-480f-b286-b8c60ba8a05b",
   "metadata": {},
   "source": [
    "### Q6. Create an identity matrix of shape (5,5) using numpy functions?\n",
    "                [Hint: An identity matrix is a matrix containing 1 diagonally and other elements will be 0.]"
   ]
  },
  {
   "cell_type": "code",
   "execution_count": 13,
   "id": "9ba27ac1-0384-4a3a-b95d-c90f43bc9144",
   "metadata": {},
   "outputs": [
    {
     "data": {
      "text/plain": [
       "array([[1., 0., 0., 0., 0.],\n",
       "       [0., 1., 0., 0., 0.],\n",
       "       [0., 0., 1., 0., 0.],\n",
       "       [0., 0., 0., 1., 0.],\n",
       "       [0., 0., 0., 0., 1.]])"
      ]
     },
     "execution_count": 13,
     "metadata": {},
     "output_type": "execute_result"
    }
   ],
   "source": [
    "arr_iden_mar=np.eye(5)\n",
    "arr_iden_mar"
   ]
  },
  {
   "cell_type": "code",
   "execution_count": null,
   "id": "968b0eb9-ac93-4f91-86a7-8524ec3cccf3",
   "metadata": {},
   "outputs": [],
   "source": []
  }
 ],
 "metadata": {
  "kernelspec": {
   "display_name": "Python 3 (ipykernel)",
   "language": "python",
   "name": "python3"
  },
  "language_info": {
   "codemirror_mode": {
    "name": "ipython",
    "version": 3
   },
   "file_extension": ".py",
   "mimetype": "text/x-python",
   "name": "python",
   "nbconvert_exporter": "python",
   "pygments_lexer": "ipython3",
   "version": "3.10.8"
  }
 },
 "nbformat": 4,
 "nbformat_minor": 5
}
