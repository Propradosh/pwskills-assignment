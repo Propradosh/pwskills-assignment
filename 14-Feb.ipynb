{
 "cells": [
  {
   "cell_type": "markdown",
   "id": "1bb0f078-c527-409c-91dd-06de36defc46",
   "metadata": {},
   "source": [
    "### Q1. What is multithreading in python? Why is it used? Name the module used to handle threads in python."
   ]
  },
  {
   "cell_type": "markdown",
   "id": "f9c460f3-f08f-450b-b4ba-d6fb4022a0a2",
   "metadata": {},
   "source": [
    "Multithreading in Python refers to the ability of a program to create multiple threads of execution, each of which can run concurrently and independently of the others. Each thread has its own call stack and can execute a different sequence of instructions, potentially speeding up the overall performance of the program.\n",
    "\n",
    "Multithreading is used in Python to improve the efficiency of programs that perform tasks that can be broken down into smaller, independent parts that can be executed in parallel. This includes tasks such as data processing, I/O operations, and network communication.\n",
    "\n",
    "The threading module is used to handle threads in Python. This module provides a way to create and manage threads, and includes a number of synchronization primitives, such as locks and semaphores, that can be used to control access to shared resources and prevent race conditions. The threading module is part of the Python standard library and can be used in both Python 2 and Python 3."
   ]
  },
  {
   "cell_type": "markdown",
   "id": "b4a33c76-f13e-47d4-8139-e02ac43c6528",
   "metadata": {},
   "source": [
    "### Q2. Why threading module used? Write the use of the following functions\n",
    "\n",
    "A. activeCount            \n",
    "B. currentThread                       \n",
    "C. enumerate)"
   ]
  },
  {
   "cell_type": "markdown",
   "id": "0991af8c-e691-415f-bddc-dfdf4e043cfa",
   "metadata": {},
   "source": [
    "The threading module in Python is used to create and manage threads in a Python program. Threads are a lightweight way of achieving multitasking in a program, allowing different parts of the program to run concurrently. The threading module provides a number of functions and classes for working with threads.\n",
    "\n",
    "activeCount(), currentThread(), and enumerate() are three useful functions in the threading module of Python that can be used to manage threads.\n",
    "\n",
    "A. activeCount():-               \n",
    "This function returns the number of currently active threads in the program. It can be used to check the status of threads and to monitor the number of threads running at any given time.\n",
    "\n",
    "B. currentThread():-                     \n",
    "This function returns the currently executing thread object. It can be used to identify the thread that is currently running and to access its attributes.\n",
    "\n",
    "C. enumerate():                        \n",
    "This function returns a list of all thread objects that are currently active. It can be used to iterate over all threads and to access their attributes."
   ]
  },
  {
   "cell_type": "code",
   "execution_count": 1,
   "id": "b167abf1-6901-4d4a-8481-439f36a44d62",
   "metadata": {},
   "outputs": [
    {
     "name": "stdout",
     "output_type": "stream",
     "text": [
      "This is my thread\n",
      "Number of active threads: 8\n",
      "Current thread: <_MainThread(MainThread, started 140468905871168)>\n",
      "All threads: [<_MainThread(MainThread, started 140468905871168)>, <Thread(IOPub, started daemon 140468835341888)>, <Heartbeat(Heartbeat, started daemon 140468826949184)>, <Thread(Thread-3 (_watch_pipe_fd), started daemon 140468801771072)>, <Thread(Thread-4 (_watch_pipe_fd), started daemon 140468793378368)>, <ControlThread(Control, started daemon 140468448917056)>, <HistorySavingThread(IPythonHistorySavingThread, started 140468440524352)>, <ParentPollerUnix(Thread-2, started daemon 140468431083072)>]\n"
     ]
    }
   ],
   "source": [
    "#Examples:-\n",
    "\n",
    "import threading\n",
    "\n",
    "def my_thread_func():\n",
    "    print(\"This is my thread\")\n",
    "\n",
    "# Create a new thread\n",
    "t = threading.Thread(target=my_thread_func)\n",
    "\n",
    "# Start the thread\n",
    "t.start()\n",
    "\n",
    "# Get the number of currently active threads\n",
    "num_threads = threading.active_count()\n",
    "print(\"Number of active threads:\", num_threads)\n",
    "\n",
    "# Get a reference to the current thread\n",
    "current_thread = threading.current_thread()\n",
    "print(\"Current thread:\", current_thread)\n",
    "\n",
    "# Get a list of all currently active threads\n",
    "all_threads = threading.enumerate()\n",
    "print(\"All threads:\", all_threads)"
   ]
  },
  {
   "cell_type": "markdown",
   "id": "d7bd1388-b2a8-469e-8cdf-d7691d127e1c",
   "metadata": {},
   "source": [
    "### Q3. Explain the following functions\n",
    "A. run()            \n",
    "B. start()                             \n",
    "C. join()                            \n",
    "D. isAlive()"
   ]
  },
  {
   "cell_type": "markdown",
   "id": "14aa0ff2-56eb-4d87-a85a-1a906f131077",
   "metadata": {},
   "source": [
    "The following are the explanations of commonly used functions in the Thread class of the threading module in Python:\n",
    "\n",
    "A. run():-                 \n",
    "This method is called when a thread starts running. It contains the code that the thread should execute. You can define your own run() method by subclassing the Thread class.\n",
    "\n",
    "B. start():-                    \n",
    "This method is used to start a thread. When this method is called, the thread's run() method is invoked in a separate thread of control.\n",
    "\n",
    "C. join():-                \n",
    "This method is used to wait for a thread to complete its execution. It blocks the calling thread until the target thread has finished executing.\n"
   ]
  },
  {
   "cell_type": "code",
   "execution_count": 4,
   "id": "3df80394-2a7c-44c2-93da-96360938452f",
   "metadata": {},
   "outputs": [
    {
     "name": "stdout",
     "output_type": "stream",
     "text": [
      "Thread is running\n",
      "Thread is still running\n",
      "Thread is finished\n",
      "Thread has finished\n"
     ]
    }
   ],
   "source": [
    "#Example:\n",
    "\n",
    "import threading\n",
    "import time\n",
    "\n",
    "def worker():\n",
    "    print(\"Thread is running\")\n",
    "    time.sleep(2)\n",
    "    print(\"Thread is finished\")\n",
    "\n",
    "t = threading.Thread(target=worker)\n",
    "\n",
    "# Start the thread\n",
    "t.start()\n",
    "\n",
    "# Check if the thread is still running\n",
    "if t.is_alive():\n",
    "    print(\"Thread is still running\")\n",
    "\n",
    "# Wait for the thread to finish\n",
    "t.join()\n",
    "\n",
    "# Check if the thread is still running (should return False now)\n",
    "if t.is_alive():\n",
    "    print(\"Thread is still running\")\n",
    "else:\n",
    "    print(\"Thread has finished\")\n"
   ]
  },
  {
   "cell_type": "markdown",
   "id": "8345a334-d199-4155-805c-8f338903b4d8",
   "metadata": {},
   "source": [
    "### Q4. Write a python program to create two threads. Thread one must print the list of squares and thread two must print the list of cubes"
   ]
  },
  {
   "cell_type": "code",
   "execution_count": 12,
   "id": "54c5e912-412e-4b83-89e3-1f49354e4dc5",
   "metadata": {},
   "outputs": [
    {
     "name": "stdout",
     "output_type": "stream",
     "text": [
      "1 squared is 1\n",
      "2 squared is 4\n",
      "3 squared is 9\n",
      "4 squared is 16\n",
      "5 squared is 25\n",
      "6 squared is 36\n",
      "7 squared is 49\n",
      "8 squared is 64\n",
      "9 squared is 81\n",
      "10 squared is 100\n",
      "1 cubed is 1\n",
      "2 cubed is 8\n",
      "3 cubed is 27\n",
      "4 cubed is 64\n",
      "5 cubed is 125\n",
      "6 cubed is 216\n",
      "7 cubed is 343\n",
      "8 cubed is 512\n",
      "9 cubed is 729\n",
      "10 cubed is 1000\n"
     ]
    }
   ],
   "source": [
    "import threading\n",
    "\n",
    "def square():\n",
    "    for i in range(1, 11):\n",
    "        print(f\"{i} squared is {i*i}\")\n",
    "\n",
    "def cube():\n",
    "    for i in range(1, 11):\n",
    "        print(f\"{i} cubed is {i*i*i}\")\n",
    "        \n",
    "t1 = threading.Thread(target=square)\n",
    "t2 = threading.Thread(target=cube)\n",
    "t1.start()\n",
    "t2.start()\n",
    "t1.join()\n",
    "t2.join()"
   ]
  },
  {
   "cell_type": "markdown",
   "id": "3839a333-c3ec-4df7-988f-5752bbf1b0c8",
   "metadata": {},
   "source": [
    "### Q5. State advantages and disadvantages of multithreading"
   ]
  },
  {
   "cell_type": "markdown",
   "id": "6be99750-5c4c-43c9-b2c3-1b03c7997317",
   "metadata": {},
   "source": [
    "Multithreading is a programming technique that enables a program to perform multiple tasks concurrently, allowing for better utilization of resources and increased responsiveness. However, multithreading also has its advantages and disadvantages, which are discussed below.\n",
    "\n",
    "Advantages of Multithreading:-             \n",
    "1. Improved performance: Multithreading allows a program to perform multiple tasks simultaneously, which can lead to improved performance and faster execution times.\n",
    "\n",
    "2. Better resource utilization: By dividing a program into multiple threads, multithreading allows better utilization of available resources, such as CPU time and memory.\n",
    "\n",
    "3. Increased responsiveness: Multithreading can help to keep a program responsive by allowing tasks to be performed in the background while the user continues to interact with the program.\n",
    "\n",
    "4. Simplified program design: Multithreading can simplify program design by allowing different tasks to be separated into different threads, which can make it easier to write and maintain code.\n",
    "\n",
    "Disadvantages of Multithreading:-\n",
    "\n",
    "1. Increased complexity: Multithreading can increase the complexity of a program, making it more difficult to write and debug.\n",
    "\n",
    "2. Race conditions: When multiple threads access shared resources, there is a risk of race conditions, where the behavior of the program depends on the order in which threads are executed.\n",
    "\n",
    "3. Deadlocks: Deadlocks can occur when two or more threads are waiting for each other to release a resource, resulting in a situation where no thread can proceed.\n",
    "\n",
    "4. Overhead: Multithreading can incur additional overhead, such as the need to synchronize access to shared resources and the cost of creating and managing multiple threads.\n",
    "\n",
    "In summary, multithreading can provide significant benefits in terms of performance, resource utilization, and program design, but it can also introduce complexity, race conditions, deadlocks, and additional overhead. Therefore, it is important to carefully consider the advantages and disadvantages of multithreading when designing and implementing concurrent programs.\n",
    "\n",
    "\n",
    "\n"
   ]
  },
  {
   "cell_type": "markdown",
   "id": "f71cdea7-098d-49c8-8df5-454393cac1b4",
   "metadata": {},
   "source": [
    "### Q6. Explain deadlocks and race conditions."
   ]
  },
  {
   "cell_type": "markdown",
   "id": "59f1787d-2736-4498-ab07-561d5fd1baa7",
   "metadata": {},
   "source": [
    "Deadlocks and race conditions are two common problems that can occur in concurrent programming when multiple threads attempt to access shared resources.\n",
    "\n",
    "1. Deadlocks:-              \n",
    "A deadlock occurs when two or more threads are waiting for each other to release a resource, resulting in a situation where no thread can proceed. Deadlocks are typically caused by a circular wait, where each thread is waiting for a resource that is held by another thread in the cycle. Deadlocks can be difficult to detect and debug, as the program may appear to be stuck, with no obvious indication of the cause. \n",
    "       For example, consider two threads, T1 and T2, each holding a resource R1 and R2, respectively, and waiting for the other resource to be released.In this case, both threads are waiting for a resource that is held by the other thread, resulting in a deadlock.\n",
    "\n",
    "2. Race conditions:-              \n",
    "A race condition occurs when the behavior of a program depends on the order in which multiple threads execute, leading to unpredictable or incorrect results. Race conditions typically occur when multiple threads attempt to access shared resources concurrently without proper synchronization. Race conditions can result in bugs and errors that are difficult to reproduce and debug.\n",
    "       For example, consider two threads, T1 and T2, attempting to increment a shared variable, count:In this case, the behavior of the program depends on the order in which the threads execute. If thread 1 and thread 2 both read the value of count as 5 and attempt to increment it at the same time, the resulting value may be incorrect (either 6 or 7, depending on which thread executes first). To avoid race conditions, access to shared resources must be properly synchronized using techniques such as locks or semaphores."
   ]
  },
  {
   "cell_type": "code",
   "execution_count": null,
   "id": "d2c3fdab-3a30-475e-b21a-b6d12df8b77a",
   "metadata": {},
   "outputs": [],
   "source": []
  }
 ],
 "metadata": {
  "kernelspec": {
   "display_name": "Python 3 (ipykernel)",
   "language": "python",
   "name": "python3"
  },
  "language_info": {
   "codemirror_mode": {
    "name": "ipython",
    "version": 3
   },
   "file_extension": ".py",
   "mimetype": "text/x-python",
   "name": "python",
   "nbconvert_exporter": "python",
   "pygments_lexer": "ipython3",
   "version": "3.10.8"
  }
 },
 "nbformat": 4,
 "nbformat_minor": 5
}
