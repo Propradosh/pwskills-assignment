{
 "cells": [
  {
   "cell_type": "markdown",
   "id": "7061f836-80df-436d-ab18-482b3221b3bf",
   "metadata": {},
   "source": [
    "### Q1. What is the difference between Ordinal Encoding and Label Encoding? Provide an example of when you might choose one over the other."
   ]
  },
  {
   "cell_type": "markdown",
   "id": "070dd047-4ce6-4892-baff-8423555491e3",
   "metadata": {},
   "source": [
    "Ordinal Encoding and Label Encoding are two commonly used techniques in feature encoding for categorical variables.\n",
    "\n",
    "Ordinal Encoding assigns an integer value to each category in a categorical variable based on their order or rank. For example, if we have a categorical variable for education level with categories 'High School', 'Bachelor's Degree', and 'Master's Degree', we can assign 'High School' the value 1, 'Bachelor's Degree' the value 2, and 'Master's Degree' the value 3.\n",
    "\n",
    "Label Encoding, on the other hand, assigns a unique integer value to each category in a categorical variable. For example, if we have a categorical variable for color with categories 'Red', 'Green', and 'Blue', we can assign 'Red' the value 1, 'Green' the value 2, and 'Blue' the value 3.\n",
    "\n",
    "In some cases, the order of categories in a categorical variable may not be significant, and so Label Encoding would be a more appropriate choice. For example, in a dataset of customer demographic data, the 'gender' feature would be best encoded using Label Encoding because there is no inherent order or ranking of the categories 'Male' and 'Female'.\n",
    "\n",
    "In other cases, the order of categories in a categorical variable may be meaningful, and so Ordinal Encoding would be a more appropriate choice. For example, in a dataset of student grade levels, the 'grade' feature would be best encoded using Ordinal Encoding because there is a clear order to the categories 'Freshman', 'Sophomore', 'Junior', and 'Senior'."
   ]
  },
  {
   "cell_type": "markdown",
   "id": "98e864c0-d77c-4f03-a145-0f63dfda2669",
   "metadata": {},
   "source": [
    "### Q2. Explain how Target Guided Ordinal Encoding works and provide an example of when you might use it in a machine learning project."
   ]
  },
  {
   "cell_type": "markdown",
   "id": "a08c5fe7-a23a-4a86-b850-b0748e4fe28b",
   "metadata": {},
   "source": [
    "Target Guided Ordinal Encoding is a technique used to encode categorical variables based on their relationship with the target variable in a supervised machine learning problem. The basic idea is to assign a numerical value to each category of the categorical variable based on the mean or median target value for that category. The categories with the highest target value are assigned the highest numerical value, and the categories with the lowest target value are assigned the lowest numerical value.\n",
    "\n",
    "For example, let's say we have a dataset of customer information for a bank, including a categorical variable \"education\" with categories \"high school\", \"college\", and \"graduate school\", and a target variable indicating whether or not the customer defaulted on a loan. To perform Target Guided Ordinal Encoding, we would group the data by each category of \"education\" and calculate the mean or median target value for each group. We would then assign a numerical value to each category based on its mean or median target value. The category with the highest target value would be assigned the highest numerical value, and the category with the lowest target value would be assigned the lowest numerical value.\n",
    "\n",
    "In a machine learning project, Target Guided Ordinal Encoding can be used when the categorical variable has a strong relationship with the target variable and the goal is to improve the predictive power of the model. For example, if we are building a model to predict customer loan default, the \"education\" variable may be a good candidate for Target Guided Ordinal Encoding, as it is likely to be a strong predictor of loan default. By encoding the variable based on its relationship with the target, we may be able to improve the accuracy of our model. However, it is important to note that Target Guided Ordinal Encoding can lead to overfitting if not used carefully, and should be used in conjunction with other encoding techniques and feature selection methods."
   ]
  },
  {
   "cell_type": "markdown",
   "id": "53e9c145-832e-40c9-bcd7-342fcd31f709",
   "metadata": {},
   "source": [
    "### Q3. Define covariance and explain why it is important in statistical analysis. How is covariance calculated?"
   ]
  },
  {
   "cell_type": "markdown",
   "id": "9fb32a84-9027-4259-84c9-93e2b7c6e961",
   "metadata": {},
   "source": [
    "Covariance is a statistical measure that quantifies the extent to which two random variables vary together. In other words, covariance measures how much two variables move in the same direction. A positive covariance indicates that the two variables tend to move together, while a negative covariance suggests that the two variables move in opposite directions.\n",
    "\n",
    "Covariance is important in statistical analysis because it helps to understand the relationship between two variables. Specifically, it is a useful tool for analyzing the strength and direction of the linear relationship between two variables. Covariance can be used to identify patterns and trends in data, and can be used to help predict future values of a variable based on the values of another variable.\n",
    "\n",
    "The formula for covariance is:\n",
    "\n",
    "cov(X,Y) = E[(X - E[X])(Y - E[Y])]\n",
    "\n",
    "where X and Y are the two random variables, E[X] and E[Y] are the expected values of X and Y, and E[(X - E[X])(Y - E[Y])] is the expected value of the product of the deviations of X and Y from their respective means.\n",
    "\n",
    "In practice, covariance can be calculated by computing the product of the deviations of each observation from their respective means and then dividing by the total number of observations minus one. The resulting value provides a measure of the degree to which two variables are related. However, it should be noted that covariance is affected by the scale of the variables, which can make it difficult to compare the strength of the relationship between variables with different units of measurement."
   ]
  },
  {
   "cell_type": "code",
   "execution_count": 1,
   "id": "231e7c1f-f134-4b6d-8c26-fb3c09a284b2",
   "metadata": {},
   "outputs": [
    {
     "name": "stderr",
     "output_type": "stream",
     "text": [
      "/tmp/ipykernel_119/2792921673.py:3: FutureWarning: The default value of numeric_only in DataFrame.cov is deprecated. In a future version, it will default to False. Select only valid columns or specify the value of numeric_only to silence this warning.\n",
      "  df.cov()\n"
     ]
    },
    {
     "data": {
      "text/html": [
       "<div>\n",
       "<style scoped>\n",
       "    .dataframe tbody tr th:only-of-type {\n",
       "        vertical-align: middle;\n",
       "    }\n",
       "\n",
       "    .dataframe tbody tr th {\n",
       "        vertical-align: top;\n",
       "    }\n",
       "\n",
       "    .dataframe thead th {\n",
       "        text-align: right;\n",
       "    }\n",
       "</style>\n",
       "<table border=\"1\" class=\"dataframe\">\n",
       "  <thead>\n",
       "    <tr style=\"text-align: right;\">\n",
       "      <th></th>\n",
       "      <th>total_bill</th>\n",
       "      <th>tip</th>\n",
       "      <th>size</th>\n",
       "    </tr>\n",
       "  </thead>\n",
       "  <tbody>\n",
       "    <tr>\n",
       "      <th>total_bill</th>\n",
       "      <td>79.252939</td>\n",
       "      <td>8.323502</td>\n",
       "      <td>5.065983</td>\n",
       "    </tr>\n",
       "    <tr>\n",
       "      <th>tip</th>\n",
       "      <td>8.323502</td>\n",
       "      <td>1.914455</td>\n",
       "      <td>0.643906</td>\n",
       "    </tr>\n",
       "    <tr>\n",
       "      <th>size</th>\n",
       "      <td>5.065983</td>\n",
       "      <td>0.643906</td>\n",
       "      <td>0.904591</td>\n",
       "    </tr>\n",
       "  </tbody>\n",
       "</table>\n",
       "</div>"
      ],
      "text/plain": [
       "            total_bill       tip      size\n",
       "total_bill   79.252939  8.323502  5.065983\n",
       "tip           8.323502  1.914455  0.643906\n",
       "size          5.065983  0.643906  0.904591"
      ]
     },
     "execution_count": 1,
     "metadata": {},
     "output_type": "execute_result"
    }
   ],
   "source": [
    "#Example\n",
    "import seaborn as sns\n",
    "df=sns.load_dataset('tips')\n",
    "df.cov()"
   ]
  },
  {
   "cell_type": "markdown",
   "id": "5fea5400-9a67-417f-b8bc-8b9230213ffd",
   "metadata": {},
   "source": [
    "### Q4. For a dataset with the following categorical variables: Color (red, green, blue), Size (small, medium, large), and Material (wood, metal, plastic), perform label encoding using Python's scikit-learn library. Show your code and explain the output."
   ]
  },
  {
   "cell_type": "code",
   "execution_count": 2,
   "id": "fbba4cbe-fba4-4848-9d13-7daa5e3a11f0",
   "metadata": {},
   "outputs": [
    {
     "name": "stdout",
     "output_type": "stream",
     "text": [
      "Dataframe Before Encoding :\n",
      "    Color    Size Material\n",
      "0    red   small     wood\n",
      "1  green  medium    metal\n",
      "2   blue   large  plastic\n",
      "3    red   small  plastic\n",
      "\n",
      "=================================\n",
      "\n",
      "Dataframe After Encoding :\n",
      "    Color  Size  Material\n",
      "0      2     2         2\n",
      "1      1     1         0\n",
      "2      0     0         1\n",
      "3      2     2         1\n"
     ]
    }
   ],
   "source": [
    "import pandas as pd\n",
    "from sklearn.preprocessing import LabelEncoder\n",
    "\n",
    "# Define the data as a list of lists\n",
    "data = [['red', 'small', 'wood'],\n",
    "        ['green', 'medium', 'metal'],\n",
    "        ['blue', 'large', 'plastic'],\n",
    "        ['red', 'small', 'plastic']]\n",
    "\n",
    "# Define the column names\n",
    "columns = ['Color', 'Size', 'Material']\n",
    "\n",
    "# Create a DataFrame\n",
    "df = pd.DataFrame(data, columns=columns)\n",
    "\n",
    "# Print Dataframe before encoding\n",
    "print(f'Dataframe Before Encoding :\\n {df}')\n",
    "print('\\n=================================\\n')\n",
    "\n",
    "# Create a LabelEncoder object\n",
    "le = LabelEncoder()\n",
    "\n",
    "# Apply label encoding to each column in the DataFrame\n",
    "for col in df.columns:\n",
    "    df[col] = le.fit_transform(df[col])\n",
    "\n",
    "# Print the encoded DataFrame\n",
    "print(f'Dataframe After Encoding :\\n {df}')"
   ]
  },
  {
   "cell_type": "markdown",
   "id": "7d0b5dc9-5715-4c2e-b0e1-f307fc32f543",
   "metadata": {},
   "source": [
    "In the encoded dataset, each categorical variable has been replaced with numerical values. For example, 'red' is encoded as 2, 'green' as 1, and 'blue' as 0 for the 'Color' variable. Similarly, 'small' is encoded as 2, 'medium' as 0, and 'large' as 1 for the 'Size' variable, and 'wood' is encoded as 2, 'metal' as 1, and 'plastic' as 0 for the 'Material' variable.\n",
    "This encoding is done based on alphabetical order eg. blue = 0 , green = 1 , red = 2\n",
    "Note that the encoded values have no inherent meaning or order. They are simply numerical representations of the original categorical variables."
   ]
  },
  {
   "cell_type": "markdown",
   "id": "de256d29-aadf-4368-b197-39d2f1a5ea0d",
   "metadata": {},
   "source": [
    "### Q5. Calculate the covariance matrix for the following variables in a dataset: Age, Income, and Education level. Interpret the results."
   ]
  },
  {
   "cell_type": "code",
   "execution_count": 4,
   "id": "cd7e8da1-d654-44f9-b39c-00aa4682b6d8",
   "metadata": {},
   "outputs": [
    {
     "data": {
      "text/html": [
       "<div>\n",
       "<style scoped>\n",
       "    .dataframe tbody tr th:only-of-type {\n",
       "        vertical-align: middle;\n",
       "    }\n",
       "\n",
       "    .dataframe tbody tr th {\n",
       "        vertical-align: top;\n",
       "    }\n",
       "\n",
       "    .dataframe thead th {\n",
       "        text-align: right;\n",
       "    }\n",
       "</style>\n",
       "<table border=\"1\" class=\"dataframe\">\n",
       "  <thead>\n",
       "    <tr style=\"text-align: right;\">\n",
       "      <th></th>\n",
       "      <th>age</th>\n",
       "      <th>education_level</th>\n",
       "      <th>income</th>\n",
       "    </tr>\n",
       "  </thead>\n",
       "  <tbody>\n",
       "    <tr>\n",
       "      <th>0</th>\n",
       "      <td>54</td>\n",
       "      <td>Masters</td>\n",
       "      <td>59028.015536</td>\n",
       "    </tr>\n",
       "    <tr>\n",
       "      <th>1</th>\n",
       "      <td>51</td>\n",
       "      <td>Masters</td>\n",
       "      <td>49213.962387</td>\n",
       "    </tr>\n",
       "    <tr>\n",
       "      <th>2</th>\n",
       "      <td>29</td>\n",
       "      <td>High School</td>\n",
       "      <td>32020.177216</td>\n",
       "    </tr>\n",
       "    <tr>\n",
       "      <th>3</th>\n",
       "      <td>52</td>\n",
       "      <td>Bachelor</td>\n",
       "      <td>63067.339595</td>\n",
       "    </tr>\n",
       "    <tr>\n",
       "      <th>4</th>\n",
       "      <td>42</td>\n",
       "      <td>High School</td>\n",
       "      <td>43945.405198</td>\n",
       "    </tr>\n",
       "  </tbody>\n",
       "</table>\n",
       "</div>"
      ],
      "text/plain": [
       "   age education_level        income\n",
       "0   54         Masters  59028.015536\n",
       "1   51         Masters  49213.962387\n",
       "2   29     High School  32020.177216\n",
       "3   52        Bachelor  63067.339595\n",
       "4   42     High School  43945.405198"
      ]
     },
     "execution_count": 4,
     "metadata": {},
     "output_type": "execute_result"
    }
   ],
   "source": [
    "import numpy as np\n",
    "import pandas as pd\n",
    "\n",
    "# Setting random seed \n",
    "np.random.seed(765)\n",
    "\n",
    "# Generating synthetic data\n",
    "n = 1000\n",
    "age = np.random.randint(low=25,high=60,size=n)\n",
    "education_level = np.random.choice(['High School','Bachelor','Masters','PhD'],size=n)\n",
    "income = 1100*age + np.random.normal(loc=0, scale=5000,size=n)\n",
    "\n",
    "# Storing in dataframe\n",
    "df = pd.DataFrame(\n",
    "    {'age':age,\n",
    "     'education_level':education_level,\n",
    "     'income':income}\n",
    ")\n",
    "\n",
    "df.head()"
   ]
  },
  {
   "cell_type": "code",
   "execution_count": 6,
   "id": "57231436-9f6b-4cdf-8ec1-935aa363747a",
   "metadata": {},
   "outputs": [
    {
     "data": {
      "text/html": [
       "<div>\n",
       "<style scoped>\n",
       "    .dataframe tbody tr th:only-of-type {\n",
       "        vertical-align: middle;\n",
       "    }\n",
       "\n",
       "    .dataframe tbody tr th {\n",
       "        vertical-align: top;\n",
       "    }\n",
       "\n",
       "    .dataframe thead th {\n",
       "        text-align: right;\n",
       "    }\n",
       "</style>\n",
       "<table border=\"1\" class=\"dataframe\">\n",
       "  <thead>\n",
       "    <tr style=\"text-align: right;\">\n",
       "      <th></th>\n",
       "      <th>age</th>\n",
       "      <th>education_level</th>\n",
       "      <th>income</th>\n",
       "    </tr>\n",
       "  </thead>\n",
       "  <tbody>\n",
       "    <tr>\n",
       "      <th>0</th>\n",
       "      <td>54</td>\n",
       "      <td>2.0</td>\n",
       "      <td>59028.015536</td>\n",
       "    </tr>\n",
       "    <tr>\n",
       "      <th>1</th>\n",
       "      <td>51</td>\n",
       "      <td>2.0</td>\n",
       "      <td>49213.962387</td>\n",
       "    </tr>\n",
       "    <tr>\n",
       "      <th>2</th>\n",
       "      <td>29</td>\n",
       "      <td>0.0</td>\n",
       "      <td>32020.177216</td>\n",
       "    </tr>\n",
       "    <tr>\n",
       "      <th>3</th>\n",
       "      <td>52</td>\n",
       "      <td>1.0</td>\n",
       "      <td>63067.339595</td>\n",
       "    </tr>\n",
       "    <tr>\n",
       "      <th>4</th>\n",
       "      <td>42</td>\n",
       "      <td>0.0</td>\n",
       "      <td>43945.405198</td>\n",
       "    </tr>\n",
       "  </tbody>\n",
       "</table>\n",
       "</div>"
      ],
      "text/plain": [
       "   age  education_level        income\n",
       "0   54              2.0  59028.015536\n",
       "1   51              2.0  49213.962387\n",
       "2   29              0.0  32020.177216\n",
       "3   52              1.0  63067.339595\n",
       "4   42              0.0  43945.405198"
      ]
     },
     "execution_count": 6,
     "metadata": {},
     "output_type": "execute_result"
    }
   ],
   "source": [
    "#Apply Ordinal Encoding on Education variable\n",
    "from sklearn.preprocessing import OrdinalEncoder\n",
    "encoder = OrdinalEncoder(categories=[['High School','Bachelor','Masters','PhD']])\n",
    "edu_endoded = encoder.fit_transform(df[['education_level']])\n",
    "df['education_level']=np.ravel(edu_endoded)\n",
    "df.head()"
   ]
  },
  {
   "cell_type": "code",
   "execution_count": 8,
   "id": "6404d5b3-9621-4a8d-9f6e-80699f01b6cd",
   "metadata": {},
   "outputs": [
    {
     "data": {
      "text/html": [
       "<div>\n",
       "<style scoped>\n",
       "    .dataframe tbody tr th:only-of-type {\n",
       "        vertical-align: middle;\n",
       "    }\n",
       "\n",
       "    .dataframe tbody tr th {\n",
       "        vertical-align: top;\n",
       "    }\n",
       "\n",
       "    .dataframe thead th {\n",
       "        text-align: right;\n",
       "    }\n",
       "</style>\n",
       "<table border=\"1\" class=\"dataframe\">\n",
       "  <thead>\n",
       "    <tr style=\"text-align: right;\">\n",
       "      <th></th>\n",
       "      <th>age</th>\n",
       "      <th>education_level</th>\n",
       "      <th>income</th>\n",
       "    </tr>\n",
       "  </thead>\n",
       "  <tbody>\n",
       "    <tr>\n",
       "      <th>age</th>\n",
       "      <td>101.174679</td>\n",
       "      <td>0.298671</td>\n",
       "      <td>1.089271e+05</td>\n",
       "    </tr>\n",
       "    <tr>\n",
       "      <th>education_level</th>\n",
       "      <td>0.298671</td>\n",
       "      <td>1.226698</td>\n",
       "      <td>3.421286e+02</td>\n",
       "    </tr>\n",
       "    <tr>\n",
       "      <th>income</th>\n",
       "      <td>108927.128329</td>\n",
       "      <td>342.128564</td>\n",
       "      <td>1.426932e+08</td>\n",
       "    </tr>\n",
       "  </tbody>\n",
       "</table>\n",
       "</div>"
      ],
      "text/plain": [
       "                           age  education_level        income\n",
       "age                 101.174679         0.298671  1.089271e+05\n",
       "education_level       0.298671         1.226698  3.421286e+02\n",
       "income           108927.128329       342.128564  1.426932e+08"
      ]
     },
     "execution_count": 8,
     "metadata": {},
     "output_type": "execute_result"
    }
   ],
   "source": [
    "#covariance matrix\n",
    "df.cov()"
   ]
  },
  {
   "cell_type": "markdown",
   "id": "c2ce9862-3a72-4b7f-89e0-ab715b7d4584",
   "metadata": {},
   "source": [
    "### Q6. You are working on a machine learning project with a dataset containing several categorical variables, including \"Gender\" (Male/Female), \"Education Level\" (High School/Bachelor's/Master's/PhD), and \"Employment Status\" (Unemployed/Part-Time/Full-Time). Which encoding method would you use for each variable, and why?"
   ]
  },
  {
   "cell_type": "markdown",
   "id": "09d6ac2b-17b0-40bd-9fbe-17c606f4e744",
   "metadata": {},
   "source": [
    "\n",
    "In machine learning projects, categorical variables need to be encoded as numerical values in order to be used as input to models. The choice of encoding method depends on the type and nature of the variable. Here's how I would encode the three categorical variables in this scenario:\n",
    "\n",
    "1. Gender: Since this variable has only two possible values, Male and Female, we can use binary encoding. In this case, we would create a new column called \"Gender_Male\" and assign a value of 1 to Male and 0 to Female, or vice versa.\n",
    "\n",
    "2. Education Level: Since this variable has more than two possible values, we can use one-hot encoding. This means creating a new column for each possible value and assigning a value of 1 or 0 to indicate whether that value is present or not. In this case, we would create four new columns called \"Education_Level_HighSchool\", \"Education_Level_Bachelors\", \"Education_Level_Masters\", and \"Education_Level_PhD\", and assign a value of 1 to the appropriate column for each observation.\n",
    "\n",
    "3. Employment Status: Since this variable also has more than two possible values, we can use ordinal encoding. This involves assigning a numerical value to each possible value based on its order or level of importance. In this case, we could assign a value of 1 to Unemployed, 2 to Part-Time, and 3 to Full-Time, since Full-Time is likely more important or indicative of a stable income and financial situation compared to the other two options.\n",
    "\n",
    "The choice of encoding method is important, as it can impact the performance of machine learning models. Using the appropriate encoding method ensures that the information contained in categorical variables is accurately represented and utilized in the model."
   ]
  },
  {
   "cell_type": "markdown",
   "id": "accbd6b5-c256-4c8e-840b-5ce15a236dbc",
   "metadata": {},
   "source": [
    "### Q7. You are analyzing a dataset with two continuous variables, \"Temperature\" and \"Humidity\", and two categorical variables, \"Weather Condition\" (Sunny/Cloudy/Rainy) and \"Wind Direction\" (North/South/ East/West). Calculate the covariance between each pair of variables and interpret the results."
   ]
  },
  {
   "cell_type": "code",
   "execution_count": 9,
   "id": "bd4f8a92-46e1-4448-8ed4-70df34a58fc1",
   "metadata": {},
   "outputs": [
    {
     "data": {
      "text/html": [
       "<div>\n",
       "<style scoped>\n",
       "    .dataframe tbody tr th:only-of-type {\n",
       "        vertical-align: middle;\n",
       "    }\n",
       "\n",
       "    .dataframe tbody tr th {\n",
       "        vertical-align: top;\n",
       "    }\n",
       "\n",
       "    .dataframe thead th {\n",
       "        text-align: right;\n",
       "    }\n",
       "</style>\n",
       "<table border=\"1\" class=\"dataframe\">\n",
       "  <thead>\n",
       "    <tr style=\"text-align: right;\">\n",
       "      <th></th>\n",
       "      <th>Temperature</th>\n",
       "      <th>Humidity</th>\n",
       "      <th>Weather Condition</th>\n",
       "      <th>Wind Direction</th>\n",
       "    </tr>\n",
       "  </thead>\n",
       "  <tbody>\n",
       "    <tr>\n",
       "      <th>0</th>\n",
       "      <td>25.862597</td>\n",
       "      <td>50.526311</td>\n",
       "      <td>Sunny</td>\n",
       "      <td>South</td>\n",
       "    </tr>\n",
       "    <tr>\n",
       "      <th>1</th>\n",
       "      <td>33.177413</td>\n",
       "      <td>55.809608</td>\n",
       "      <td>Sunny</td>\n",
       "      <td>South</td>\n",
       "    </tr>\n",
       "    <tr>\n",
       "      <th>2</th>\n",
       "      <td>25.186682</td>\n",
       "      <td>70.091030</td>\n",
       "      <td>Sunny</td>\n",
       "      <td>West</td>\n",
       "    </tr>\n",
       "    <tr>\n",
       "      <th>3</th>\n",
       "      <td>20.579252</td>\n",
       "      <td>68.981094</td>\n",
       "      <td>Sunny</td>\n",
       "      <td>South</td>\n",
       "    </tr>\n",
       "    <tr>\n",
       "      <th>4</th>\n",
       "      <td>19.284039</td>\n",
       "      <td>78.624127</td>\n",
       "      <td>Rainy</td>\n",
       "      <td>East</td>\n",
       "    </tr>\n",
       "  </tbody>\n",
       "</table>\n",
       "</div>"
      ],
      "text/plain": [
       "   Temperature   Humidity Weather Condition Wind Direction\n",
       "0    25.862597  50.526311             Sunny          South\n",
       "1    33.177413  55.809608             Sunny          South\n",
       "2    25.186682  70.091030             Sunny           West\n",
       "3    20.579252  68.981094             Sunny          South\n",
       "4    19.284039  78.624127             Rainy           East"
      ]
     },
     "execution_count": 9,
     "metadata": {},
     "output_type": "execute_result"
    }
   ],
   "source": [
    "import numpy as np\n",
    "import pandas as pd\n",
    "\n",
    "# Set seed for reproducibility\n",
    "np.random.seed(321)\n",
    "\n",
    "# Generate data\n",
    "n = 1000\n",
    "temp = np.random.normal(25, 5, n)\n",
    "humidity = np.random.normal(60, 10, n)\n",
    "weather_condition = np.random.choice(['Sunny', 'Cloudy', 'Rainy'], size=n)\n",
    "wind_direction = np.random.choice(['North', 'South', 'East', 'West'], size=n)\n",
    "\n",
    "# Create dataframe\n",
    "df = pd.DataFrame({\n",
    "    'Temperature': temp, \n",
    "    'Humidity': humidity, \n",
    "    'Weather Condition': weather_condition, \n",
    "    'Wind Direction': wind_direction\n",
    "})\n",
    "\n",
    "# Show first few rows\n",
    "df.head()"
   ]
  },
  {
   "cell_type": "code",
   "execution_count": 10,
   "id": "337dffa1-46b5-4de8-85ab-b56ba0362191",
   "metadata": {},
   "outputs": [
    {
     "name": "stderr",
     "output_type": "stream",
     "text": [
      "/tmp/ipykernel_119/2492690765.py:2: FutureWarning: The default value of numeric_only in DataFrame.cov is deprecated. In a future version, it will default to False. Select only valid columns or specify the value of numeric_only to silence this warning.\n",
      "  df.cov()\n"
     ]
    },
    {
     "data": {
      "text/html": [
       "<div>\n",
       "<style scoped>\n",
       "    .dataframe tbody tr th:only-of-type {\n",
       "        vertical-align: middle;\n",
       "    }\n",
       "\n",
       "    .dataframe tbody tr th {\n",
       "        vertical-align: top;\n",
       "    }\n",
       "\n",
       "    .dataframe thead th {\n",
       "        text-align: right;\n",
       "    }\n",
       "</style>\n",
       "<table border=\"1\" class=\"dataframe\">\n",
       "  <thead>\n",
       "    <tr style=\"text-align: right;\">\n",
       "      <th></th>\n",
       "      <th>Temperature</th>\n",
       "      <th>Humidity</th>\n",
       "    </tr>\n",
       "  </thead>\n",
       "  <tbody>\n",
       "    <tr>\n",
       "      <th>Temperature</th>\n",
       "      <td>25.165416</td>\n",
       "      <td>1.610779</td>\n",
       "    </tr>\n",
       "    <tr>\n",
       "      <th>Humidity</th>\n",
       "      <td>1.610779</td>\n",
       "      <td>105.612893</td>\n",
       "    </tr>\n",
       "  </tbody>\n",
       "</table>\n",
       "</div>"
      ],
      "text/plain": [
       "             Temperature    Humidity\n",
       "Temperature    25.165416    1.610779\n",
       "Humidity        1.610779  105.612893"
      ]
     },
     "execution_count": 10,
     "metadata": {},
     "output_type": "execute_result"
    }
   ],
   "source": [
    "#Calculating Covariance Matrix for Numerical Variables only\n",
    "df.cov()"
   ]
  },
  {
   "cell_type": "markdown",
   "id": "144a04bb-9eab-482f-98da-8906b0abab63",
   "metadata": {},
   "source": [
    "The covariance between \"Temperature\" and \"Humidity\" is 1.611 , indicating a positive relationship between the two variables. This means that as temperature increases, humidity tends to increase as well. The variances of each variable are shown on the diagonal, with Humidity having a larger variance than Temperature.\n",
    "\n",
    "To calculate the covariance between the continuous variables and the categorical variables, we can group the data by the categorical variables and calculate the covariance for each group. Here's an example code:\n",
    "\n",
    "It is important to note that we cannot calculate the covariance between continuous and categorical variables since covariance requires numerical data. Therefore, we cannot interpret the covariance between \"Temperature\" and \"Weather Condition\" or between \"Humidity\" and \"Wind Direction\". In general, we need to be careful when interpreting covariance and consider the nature of the variables being analyzed."
   ]
  },
  {
   "cell_type": "code",
   "execution_count": null,
   "id": "5a24c665-d86d-4bb1-a61d-53abe5f17b17",
   "metadata": {},
   "outputs": [],
   "source": []
  }
 ],
 "metadata": {
  "kernelspec": {
   "display_name": "Python 3 (ipykernel)",
   "language": "python",
   "name": "python3"
  },
  "language_info": {
   "codemirror_mode": {
    "name": "ipython",
    "version": 3
   },
   "file_extension": ".py",
   "mimetype": "text/x-python",
   "name": "python",
   "nbconvert_exporter": "python",
   "pygments_lexer": "ipython3",
   "version": "3.10.8"
  }
 },
 "nbformat": 4,
 "nbformat_minor": 5
}
