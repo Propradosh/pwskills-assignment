{
 "cells": [
  {
   "cell_type": "markdown",
   "id": "b0318df6-a254-45f9-8a43-fcd6f04eeeb2",
   "metadata": {},
   "source": [
    "### Q1. What is data encoding? How is it useful in data science?"
   ]
  },
  {
   "cell_type": "markdown",
   "id": "bb591544-8a11-4bc1-a2cb-17894469c0f0",
   "metadata": {},
   "source": [
    "Data encoding is the process of converting data from one format to another format. In data science, data encoding is useful because it allows us to represent data in a format that is compatible with machine learning algorithms and other analytical tools.\n",
    "\n",
    "For example, when working with categorical data, such as the colors of cars (red, blue, green, etc.), we need to convert these categories into a numerical format that a machine learning algorithm can work with. One way to do this is by using one-hot encoding, which creates a binary vector for each category, where a 1 represents the presence of the category and a 0 represents the absence of the category.\n",
    "\n",
    "Another example of data encoding is scaling numeric data to be within a specific range, such as between 0 and 1, to help prevent issues with model convergence and accuracy.\n",
    "\n",
    "Data encoding is an important aspect of data science because it helps to ensure that the data is properly formatted and prepared for analysis. By properly encoding data, data scientists can improve the accuracy and reliability of their models, leading to better insights and predictions."
   ]
  },
  {
   "cell_type": "markdown",
   "id": "aa9acc76-0674-42df-8b5a-9fd311b21a47",
   "metadata": {},
   "source": [
    "### Q2. What is nominal encoding? Provide an example of how you would use it in a real-world scenario."
   ]
  },
  {
   "cell_type": "markdown",
   "id": "730bd912-2a7e-4186-ad6a-750b5ea641df",
   "metadata": {},
   "source": [
    "Nominal encoding is a type of categorical data encoding where each unique value in a categorical variable is assigned a unique integer value. Nominal encoding is also known as label encoding because it assigns a label to each unique value.\n",
    "\n",
    "For example, suppose we have a dataset containing information about different types of fruits, including their color, shape, and taste. The color variable has three unique values: red, green, and yellow. We can use nominal encoding to assign integer values to each unique color label, as follows:\n",
    "\n",
    "red: 0             \n",
    "green: 1                     \n",
    "yellow: 2\n",
    "\n",
    "Now, instead of representing the color variable as strings (i.e., \"red\", \"green\", \"yellow\"), we can represent it as integers (i.e., 0, 1, 2).\n",
    "\n",
    "Nominal encoding is useful in scenarios where we have categorical variables with a small number of unique values, and we want to represent them as integers to simplify further analysis. Nominal encoding is also useful when performing feature engineering, where we create new features based on the existing ones.\n",
    "\n",
    "For instance, in a real-world scenario, suppose we have a dataset containing customer information for an online shopping platform. One of the variables in the dataset is the customer's gender, which can be either male or female. We can use nominal encoding to represent this variable as follows:\n",
    "\n",
    "male: 0                   \n",
    "female: 1\n",
    "\n",
    "Now we can use this encoding scheme to create new features, such as the total number of purchases made by male customers versus female customers or the average order value for each gender. Nominal encoding simplifies the analysis of categorical data and helps data scientists to gain insights into their data."
   ]
  },
  {
   "cell_type": "markdown",
   "id": "f92721c5-edf7-4aa1-9bda-dfffaa6665a4",
   "metadata": {},
   "source": [
    "### Q3. In what situations is nominal encoding preferred over one-hot encoding? Provide a practical example."
   ]
  },
  {
   "cell_type": "markdown",
   "id": "4d9612ec-0747-4961-8359-97e774659165",
   "metadata": {},
   "source": [
    "Nominal encoding is preferred over one-hot encoding in situations where the categorical variable has a large number of unique values. One-hot encoding creates a binary vector for each unique value, resulting in a sparse matrix when there are many unique values. This can lead to computational inefficiencies and memory issues, especially when working with large datasets.\n",
    "\n",
    "Nominal encoding, on the other hand, assigns a unique integer value to each unique value in the categorical variable, resulting in a denser representation of the data. This makes nominal encoding more memory-efficient and computationally faster than one-hot encoding when dealing with large datasets.\n",
    "\n",
    "One practical example of when nominal encoding is preferred over one-hot encoding is when working with text data. Text data often contains a large number of unique words, and one-hot encoding each word would result in a sparse matrix, making it difficult to work with the data. Instead, nominal encoding can be used to assign a unique integer value to each word, allowing for a denser representation of the data.\n",
    "\n",
    "For example, suppose we have a dataset containing product reviews for an online store, and we want to analyze the sentiment of the reviews. One of the variables in the dataset is the rating of the product, which ranges from 1 to 5. We can use nominal encoding to assign a unique integer value to each rating, as follows:\n",
    "\n",
    "1: 0       \n",
    "2: 1               \n",
    "3: 2                    \n",
    "4: 3                          \n",
    "5: 4\n",
    "Now we can use these integer values to represent the ratings variable in our analysis, without creating a sparse matrix. This makes it easier and more efficient to work with the data and extract insights from it."
   ]
  },
  {
   "cell_type": "markdown",
   "id": "a5c8e218-f8f0-4380-af91-8863ab144ba1",
   "metadata": {},
   "source": [
    "### Q4. Suppose you have a dataset containing categorical data with 5 unique values. Which encoding technique would you use to transform this data into a format suitable for machine learning algorithms? Explain why you made this choice."
   ]
  },
  {
   "cell_type": "markdown",
   "id": "b4678a84-0b33-47cb-8f1e-6d9265b8d37e",
   "metadata": {},
   "source": [
    "1. If I have a dataset containing categorical data with 5 unique values, I can use either ordinal encoding or one-hot encoding to transform this data into a format suitable for machine learning algorithms.\n",
    "2. If the categorical variable has a natural order or ranking, then ordinal encoding can be used. If the categorical variable has no natural order or ranking, then one-hot encoding can be used.\n",
    "3. In general, one-hot encoding is preferred over ordinal encoding because it does not assume any ordinal relationship between the categories and can be used for categorical variables with any number of unique values. However, one-hot encoding can lead to the curse of dimensionality if the number of unique values is very large.\n",
    "4. Ordinal encoding is preferred when the number of unique values is large and one-hot encoding would lead to the curse of dimensionality."
   ]
  },
  {
   "cell_type": "markdown",
   "id": "1eddcee8-e0f3-43b4-9892-afc203b32c3b",
   "metadata": {},
   "source": [
    "### Q5. In a machine learning project, you have a dataset with 1000 rows and 5 columns. Two of the columns are categorical, and the remaining three columns are numerical. If you were to use nominal encoding to transform the categorical data, how many new columns would be created? Show your calculations."
   ]
  },
  {
   "cell_type": "markdown",
   "id": "3dc0254b-ffd8-46b6-89bb-ec6212c26004",
   "metadata": {},
   "source": [
    "1. If I want to use nominal encoding to transform the categorical data, I would create a new column for each unique value in the categorical columns.\n",
    "2. Let’s assume that the first categorical column has 12 unique values and the second categorical column has 5 unique values. Then, nominal encoding/one-hot encoding would create 12 + 5 = 17 new columns.\n",
    "3. In general, if the first categorical column has n unique values and the second categorical column has m unique values, then nominal encoding would create n + m new columns."
   ]
  },
  {
   "cell_type": "markdown",
   "id": "27e5a2fe-f13c-4103-8636-38037c223b1b",
   "metadata": {},
   "source": [
    "### Q6. You are working with a dataset containing information about different types of animals, including their species, habitat, and diet. Which encoding technique would you use to transform the categorical data into a format suitable for machine learning algorithms? Justify your answer."
   ]
  },
  {
   "cell_type": "markdown",
   "id": "32d30d53-8807-4482-87f1-3dfa0c95c29d",
   "metadata": {},
   "source": [
    "1. It is observed that variables species , habitat and diet are NOMINAL features with no natural order or ranking.\n",
    "2. If the categorical variable has no natural order or ranking, then one-hot encoding can be used.\n",
    "3. Hence One-Hot Encoding would be preffered in above case.\n"
   ]
  },
  {
   "cell_type": "markdown",
   "id": "c620fdd6-b061-4cfa-828d-bcb6bce44f52",
   "metadata": {},
   "source": [
    "### Q7.You are working on a project that involves predicting customer churn for a telecommunications company. You have a dataset with 5 features, including the customer's gender, age, contract type, monthly charges, and tenure. Which encoding technique(s) would you use to transform the categorical data into numerical data? Provide a step-by-step explanation of how you would implement the encoding."
   ]
  },
  {
   "cell_type": "markdown",
   "id": "209621b2-3fea-46ac-ab5e-7c76d138b0f8",
   "metadata": {},
   "source": [
    "To transform the categorical data in the customer churn dataset into numerical data, you can use either ordinal encoding or one-hot encoding.\n",
    "If the categorical variable has a natural order or ranking, then ordinal encoding can be used. For example, if the dataset contains information about the contract type of the customers, such as “month-to-month”, “one year”, and “two year”, then ordinal encoding can be used to encode this information.\n",
    "If the categorical variable has no natural order or ranking, then one-hot encoding can be used. For example, if the dataset contains information about the gender of the customers, such as “male” and “female”, then one-hot encoding can be used to encode this information.\n",
    "Here are the steps to implement this encoding:\n",
    "\n",
    "1. Identify the categorical variables in the dataset. In this case, the categorical variables are the customer’s gender and contract type.\n",
    "\n",
    "2. Seperate Nominal and Ordinal Variables. In this case Gender is an Nominal variable, while contract type is ordinal variable.\n",
    "\n",
    "3. Apply One Hot Encoding to Nominal Variable in this case Gender Variable.\n",
    "\n",
    "4. Apply Ordinal Encoding to Ordinal Variable in this case contract type variable.\n",
    "\n",
    "5. Scale Numerical data using StandardScaler\n",
    "\n",
    "6. Combine all 3 encoding into single dataframe\n",
    "\n",
    "7. Data is now ready for machine learning model"
   ]
  },
  {
   "cell_type": "code",
   "execution_count": null,
   "id": "134f942a-eb8f-4da0-8b82-030c7b98bb8b",
   "metadata": {},
   "outputs": [],
   "source": []
  }
 ],
 "metadata": {
  "kernelspec": {
   "display_name": "Python 3 (ipykernel)",
   "language": "python",
   "name": "python3"
  },
  "language_info": {
   "codemirror_mode": {
    "name": "ipython",
    "version": 3
   },
   "file_extension": ".py",
   "mimetype": "text/x-python",
   "name": "python",
   "nbconvert_exporter": "python",
   "pygments_lexer": "ipython3",
   "version": "3.10.8"
  }
 },
 "nbformat": 4,
 "nbformat_minor": 5
}
