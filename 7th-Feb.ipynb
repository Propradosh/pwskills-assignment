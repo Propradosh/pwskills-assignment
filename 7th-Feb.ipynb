{
 "cells": [
  {
   "cell_type": "markdown",
   "id": "7ca33f7f-23e9-4f78-8f52-567e8bb4faee",
   "metadata": {},
   "source": [
    "#### Q1. You are writing code for a company. The requirement of the company is that you create a python function that will check whether the password entered by the user is correct or not. The function should take the password as input and return the string “Valid Password” if the entered password follows the below-given password guidelines else it should return “Invalid Password”.\n",
    "\n",
    "Note: \n",
    "1. The Password should contain at least two uppercase letters and at least two lowercase letters.   \n",
    "2. The Password should contain at least a number and three special characters.       \n",
    "3. The length of the password should be 10 characters long."
   ]
  },
  {
   "cell_type": "code",
   "execution_count": 37,
   "id": "6b542085-32a0-4748-ab7a-2b8c0a18c0b5",
   "metadata": {},
   "outputs": [
    {
     "name": "stdin",
     "output_type": "stream",
     "text": [
      "Enter Your Password :  PWskills12@..\n"
     ]
    },
    {
     "data": {
      "text/plain": [
       "'PWskills12@.. : is a Valid Password'"
      ]
     },
     "execution_count": 37,
     "metadata": {},
     "output_type": "execute_result"
    }
   ],
   "source": [
    "from string import punctuation\n",
    "def cheakPass(password):\n",
    "    password=input(\"Enter Your Password : \")\n",
    "    uppercase=0\n",
    "    lowercase=0\n",
    "    number=0\n",
    "    special_char=0\n",
    "    valid=False\n",
    "    if len(password)>=10:\n",
    "        for i in password:\n",
    "            if i.issupper():\n",
    "                uppercase += 1\n",
    "            if i.islower():\n",
    "                lowercase += 1\n",
    "            if i in punctuation:\n",
    "                special_char += 1\n",
    "            if i.isnumeric():\n",
    "                number += 1\n",
    "        if uppercase>=2 and lowercase>=2 and number>=1 and special_char>=3:\n",
    "            valid = True\n",
    "    else:\n",
    "        valid= False\n",
    "    if valid:\n",
    "        return (f\"{ password } : is a Valid Password\")\n",
    "    else:\n",
    "        return (f\"{ password } : is Invalid Password \")\n",
    "checkPass(\" \")"
   ]
  },
  {
   "cell_type": "markdown",
   "id": "93bfc6bc-d3b3-4ae2-a689-d4ccda03946c",
   "metadata": {},
   "source": [
    "#### Q2. Solve the below-given questions using at least one of the following:\n",
    "1. Lambda function\n",
    "2. Filter function\n",
    "3. Zap function\n",
    "4. List Comprehension      \n",
    "A. Check if the string starts with a particular letter.                    \n",
    "B. Check if the string is numeric.                  \n",
    "C. Sort a list of tuples having fruit names and their quantity. [(\"mango\",99),(\"orange\",80), (\"grapes\", 1000)]     \n",
    "D. Find the squares of numbers from 1 to 10.               \n",
    "E. Find the cube root of numbers from 1 to 10.                     \n",
    "F. Check if a given number is even.                           \n",
    "G. Filter odd numbers from the given list. [1,2,3,4,5,6,7,8,9,10]           \n",
    "H. Sort a list of integers into positive and negative integers lists. [1,2,3,4,5,6,-1,-2,-3,-4,-5,0]"
   ]
  },
  {
   "cell_type": "code",
   "execution_count": 41,
   "id": "f9639441-94da-45c4-937c-2e0a666bdd7c",
   "metadata": {},
   "outputs": [
    {
     "name": "stdout",
     "output_type": "stream",
     "text": [
      "['apple', 'african mango']\n"
     ]
    }
   ],
   "source": [
    "# (Using lambda)- Check if the string starts with a particular letter.\n",
    "strings = [\"apple\", \"banana\", \"cherry\", \"strawberry\",\"african mango\"]\n",
    "starts_with_a = filter(lambda x: x.startswith(\"a\"), strings)\n",
    "print(list(starts_with_a))"
   ]
  },
  {
   "cell_type": "code",
   "execution_count": 52,
   "id": "2692b50e-c2c1-4ad5-be7d-29353a5e9252",
   "metadata": {},
   "outputs": [
    {
     "name": "stdout",
     "output_type": "stream",
     "text": [
      "True\n",
      "False\n",
      "False\n"
     ]
    }
   ],
   "source": [
    "# Check if the string is numeric.\n",
    "is_numeric = lambda string: string.isdigit()\n",
    "\n",
    "# Example usage\n",
    "print(is_numeric(\"123\")) # True\n",
    "print(is_numeric(\"123.456\")) # False\n",
    "print(is_numeric(\"abc\")) # False"
   ]
  },
  {
   "cell_type": "code",
   "execution_count": 54,
   "id": "9c81c6a1-f4d1-46d2-bfc0-a46a235e44eb",
   "metadata": {},
   "outputs": [
    {
     "name": "stdout",
     "output_type": "stream",
     "text": [
      "[('orange', 80), ('mango', 99), ('grapes', 1000)]\n",
      "[('orange', 80), ('mango', 99), ('grapes', 1000)]\n"
     ]
    }
   ],
   "source": [
    "#Sort a list of tuples having fruit names and their quantity (Using Lambda).\n",
    "fruits = [(\"mango\", 99), (\"orange\", 80), (\"grapes\", 1000)]\n",
    "sorted_fruits = sorted(fruits, key=lambda x: x[1])\n",
    "print(sorted_fruits)\n",
    "\n",
    "# Using List Comprehension\n",
    "sorted_fruits = [fruit for fruit in sorted(fruits, key=lambda x: x[1])]\n",
    "print(sorted_fruits)"
   ]
  },
  {
   "cell_type": "code",
   "execution_count": 56,
   "id": "cf2eb09a-1ecb-40aa-a7b1-a328593d93f3",
   "metadata": {},
   "outputs": [
    {
     "name": "stdout",
     "output_type": "stream",
     "text": [
      "[1, 4, 9, 16, 25, 36, 49, 64, 81, 100]\n"
     ]
    }
   ],
   "source": [
    "#Find the squares of numbers from 1 to 10.(Using Lambda)\n",
    "sq_num = list(map(lambda x: x**2, range(1, 11)))\n",
    "print(sq_num)"
   ]
  },
  {
   "cell_type": "code",
   "execution_count": 58,
   "id": "67c2cbae-5d81-4159-b2f1-d007a389edf3",
   "metadata": {},
   "outputs": [
    {
     "name": "stdout",
     "output_type": "stream",
     "text": [
      "[1.0, 1.2599210498948732, 1.4422495703074083, 1.5874010519681994, 1.7099759466766968, 1.8171205928321397, 1.912931182772389, 2.0, 2.080083823051904, 2.154434690031884]\n"
     ]
    }
   ],
   "source": [
    "#Find the cube root of numbers from 1 to 10.(Using Lambda)\n",
    "cube_root = list(map(lambda x: x**(1/3), range(1, 11)))\n",
    "print(cube_root)"
   ]
  },
  {
   "cell_type": "code",
   "execution_count": 59,
   "id": "fffebf71-4638-4a93-9f0c-3c7e2817044d",
   "metadata": {},
   "outputs": [
    {
     "name": "stdout",
     "output_type": "stream",
     "text": [
      "True\n",
      "False\n",
      "True\n"
     ]
    }
   ],
   "source": [
    "# Check if a given number is even.(Using Lambda)\n",
    "is_even = lambda num: num % 2 == 0\n",
    "\n",
    "# Example usage\n",
    "print(is_even(12)) # True\n",
    "print(is_even(21)) # False\n",
    "print(is_even(0)) # True\n"
   ]
  },
  {
   "cell_type": "code",
   "execution_count": 61,
   "id": "7a3aacf6-437f-4035-960b-f72206ac1c1e",
   "metadata": {},
   "outputs": [
    {
     "name": "stdout",
     "output_type": "stream",
     "text": [
      "[1, 3, 5, 7, 9]\n"
     ]
    }
   ],
   "source": [
    "#Filter odd numbers from the given list.(Using Lambda)\n",
    "numbers = [1, 2, 3, 4, 5, 6, 7, 8, 9, 10]\n",
    "odd_numbers = list(filter(lambda x: x % 2 != 0, numbers))\n",
    "print(odd_numbers)"
   ]
  },
  {
   "cell_type": "code",
   "execution_count": 65,
   "id": "541e119b-ef14-493e-bb4e-27e11f74b078",
   "metadata": {},
   "outputs": [
    {
     "name": "stdout",
     "output_type": "stream",
     "text": [
      "Positive Integers Lists : [1, 2, 3, 4, 5, 6]\n",
      "Negative Integers Lists : [-1, -2, -3, -4, -5]\n"
     ]
    }
   ],
   "source": [
    "## Sort a list of integers into positive and negative integers lists.(Using Lambda)\n",
    "\n",
    "int=[1,2,3,4,5,6,-1,-2,-3,-4,-5,0]\n",
    "positive_list = list(filter(lambda x : x>0,int))\n",
    "negative_list = list(filter(lambda x : x<0,int))\n",
    "print (\"Positive Integers Lists :\",positive_list)\n",
    "print (\"Negative Integers Lists :\",negative_list)"
   ]
  }
 ],
 "metadata": {
  "kernelspec": {
   "display_name": "Python 3 (ipykernel)",
   "language": "python",
   "name": "python3"
  },
  "language_info": {
   "codemirror_mode": {
    "name": "ipython",
    "version": 3
   },
   "file_extension": ".py",
   "mimetype": "text/x-python",
   "name": "python",
   "nbconvert_exporter": "python",
   "pygments_lexer": "ipython3",
   "version": "3.10.8"
  }
 },
 "nbformat": 4,
 "nbformat_minor": 5
}
