{
 "cells": [
  {
   "cell_type": "markdown",
   "id": "adfc5df0-84ce-4079-b40d-a3d2d7c19903",
   "metadata": {},
   "source": [
    "#### Q1. Create a vehicle class with an init method having instance variables as name_of_vehicle, max_speed and average_of_vehicle."
   ]
  },
  {
   "cell_type": "code",
   "execution_count": 7,
   "id": "84912e48-8fd3-49c1-b5ea-4b030ea2da5e",
   "metadata": {},
   "outputs": [
    {
     "name": "stdout",
     "output_type": "stream",
     "text": [
      "Car\n",
      "180\n",
      "20\n"
     ]
    }
   ],
   "source": [
    "class Vehicle:\n",
    "    def __init__(self, name_of_vehicle, max_speed,average_of_vehicle):\n",
    "        self.name_of_vehicle = name_of_vehicle\n",
    "        self.max_speed = max_speed\n",
    "        self.average_of_vehicle = average_of_vehicle\n",
    "\n",
    "# Example usage\n",
    "my_vehicle = Vehicle(\"Car\", 180, 20)\n",
    "print(my_vehicle.name_of_vehicle) \n",
    "print(my_vehicle.max_speed) \n",
    "print(my_vehicle.average_of_vehicle)\n"
   ]
  },
  {
   "cell_type": "markdown",
   "id": "33c31a81-9eea-4ff1-ae3d-6c50e70c202d",
   "metadata": {},
   "source": [
    "#### Q2. Create a child class car from the vehicle class created in Que 1, which will inherit the vehicle class. Create a method named seating_capacity which takes capacity as an argument and returns the name of the vehicle and its seating capacity."
   ]
  },
  {
   "cell_type": "code",
   "execution_count": 12,
   "id": "1578643d-31bb-48d8-b299-feba745b08c7",
   "metadata": {},
   "outputs": [
    {
     "name": "stdout",
     "output_type": "stream",
     "text": [
      "Innova with seating capacity of 10\n",
      "Innova\n",
      "180\n",
      "15\n"
     ]
    }
   ],
   "source": [
    "class Vehicle:\n",
    "    def __init__(self, name_of_vehicle, max_speed, average_of_vehicle):\n",
    "        self.name_of_vehicle = name_of_vehicle\n",
    "        self.max_speed = max_speed\n",
    "        self.average_of_vehicle = average_of_vehicle\n",
    "\n",
    "class Car(Vehicle):\n",
    "    def seating_capacity(self, capacity):\n",
    "        return f\"{self.name_of_vehicle} with seating capacity of {capacity}\"\n",
    "\n",
    "# Example usage\n",
    "my_car = Car(\"Innova\", 180, 15)\n",
    "print(my_car.seating_capacity(10))\n",
    "print(my_car.name_of_vehicle) \n",
    "print(my_car.max_speed) \n",
    "print(my_car.average_of_vehicle)"
   ]
  },
  {
   "cell_type": "markdown",
   "id": "bc1a6c8e-0519-45c2-90b2-9c54a14a2710",
   "metadata": {},
   "source": [
    "#### Q3. What is multiple inheritance? Write a python code to demonstrate multiple inheritance."
   ]
  },
  {
   "cell_type": "markdown",
   "id": "41795686-8e98-4944-b7cd-00a0e693fd20",
   "metadata": {},
   "source": [
    "When a class is derived from more than one base class it is called multiple Inheritance.Multiple inheritance is a feature of object-oriented programming (OOP) in which a single class can inherit properties and methods from multiple parent classes. In other words, a single class can have more than one superclass."
   ]
  },
  {
   "cell_type": "code",
   "execution_count": 20,
   "id": "8ac15dc0-67fe-4efe-9464-7e6e37f9817e",
   "metadata": {},
   "outputs": [
    {
     "name": "stdout",
     "output_type": "stream",
     "text": [
      "This is Class 1 ,roll 1\n",
      "This is Class 2 ,roll 2\n"
     ]
    }
   ],
   "source": [
    "## Example\n",
    "class Class1:\n",
    "    def roll1(self):\n",
    "        print(\"This is Class 1 ,roll 1\")\n",
    "\n",
    "class Class2:\n",
    "    def roll2(self):\n",
    "        print(\"This is Class 2 ,roll 2\")\n",
    "\n",
    "class Child(Class1, Class2):\n",
    "    pass\n",
    "c = Child()\n",
    "\n",
    "# Example usage\n",
    "c.roll1()\n",
    "c.roll2()\n"
   ]
  },
  {
   "cell_type": "markdown",
   "id": "df140fc2-cd9e-4624-b3b0-8d5bbe826f7e",
   "metadata": {},
   "source": [
    "#### Q4. What are getter and setter in python? Create a class and create a getter and a setter method in this class."
   ]
  },
  {
   "cell_type": "markdown",
   "id": "39499353-9804-4422-9ef2-7b906ca5d5eb",
   "metadata": {},
   "source": [
    "Getters and Setters are special methods that allow you to control access to the properties of an object. A getter is a method that is used to retrieve the value of an object's property, while a setter is a method that is used to set the value of an object's property."
   ]
  },
  {
   "cell_type": "code",
   "execution_count": 22,
   "id": "d38a9ca4-a3c4-4382-bcc5-dd2d1d472662",
   "metadata": {},
   "outputs": [
    {
     "name": "stdout",
     "output_type": "stream",
     "text": [
      "50\n",
      "20\n"
     ]
    }
   ],
   "source": [
    "#Example\n",
    "class MyClass:\n",
    "    def __init__(self, value):\n",
    "        self._value = value\n",
    "    \n",
    "    def get_value(self):\n",
    "        return self._value\n",
    "    \n",
    "    def set_value(self, value):\n",
    "        self._value = value\n",
    "    \n",
    "    value = property(get_value, set_value)\n",
    "\n",
    "# Example usage\n",
    "obj = MyClass(50)\n",
    "print(obj.value)\n",
    "obj.value = 20\n",
    "print(obj.value)"
   ]
  },
  {
   "cell_type": "markdown",
   "id": "ebca4016-b13d-40e3-8211-011440b06594",
   "metadata": {},
   "source": [
    "#### Q5. What is method overriding in python? Write a python code to demonstrate method overriding."
   ]
  },
  {
   "cell_type": "markdown",
   "id": "80945813-ab76-4884-b207-574c17896ac3",
   "metadata": {},
   "source": [
    "Method overriding is a feature of object-oriented programming (OOP) where a child class provides a new implementation for a method that is already defined in its parent class. The new implementation \"overrides\" the original implementation in the parent class."
   ]
  },
  {
   "cell_type": "code",
   "execution_count": 23,
   "id": "1950b6ea-1282-4cb4-b122-97a094bbe670",
   "metadata": {},
   "outputs": [
    {
     "name": "stdout",
     "output_type": "stream",
     "text": [
      "100\n"
     ]
    }
   ],
   "source": [
    "#Example\n",
    "class Shape:\n",
    "    def area(self):\n",
    "        return 0\n",
    "\n",
    "class Square(Shape):\n",
    "    def __init__(self, side):\n",
    "        self.side = side\n",
    "        \n",
    "    def area(self):\n",
    "        return self.side * self.side\n",
    "\n",
    "square = Square(10)\n",
    "print(square.area())\n"
   ]
  }
 ],
 "metadata": {
  "kernelspec": {
   "display_name": "Python 3 (ipykernel)",
   "language": "python",
   "name": "python3"
  },
  "language_info": {
   "codemirror_mode": {
    "name": "ipython",
    "version": 3
   },
   "file_extension": ".py",
   "mimetype": "text/x-python",
   "name": "python",
   "nbconvert_exporter": "python",
   "pygments_lexer": "ipython3",
   "version": "3.10.8"
  }
 },
 "nbformat": 4,
 "nbformat_minor": 5
}
