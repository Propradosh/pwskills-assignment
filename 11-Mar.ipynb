{
 "cells": [
  {
   "cell_type": "markdown",
   "id": "db8e9916-9b09-4762-bfb0-ec76040aeee9",
   "metadata": {},
   "source": [
    "### Q1: What is the difference between a t-test and a z-test? Provide an example scenario where you would use each type of test."
   ]
  },
  {
   "cell_type": "markdown",
   "id": "a8bf2a2e-32a0-4c35-8baf-2612c6ae9d06",
   "metadata": {},
   "source": [
    "Both t-tests and z-tests are statistical tests used to determine the significance of differences between sample means and population means. However, they differ in terms of the type of data they can handle and the assumptions they make.\n",
    "\n",
    "A z-test is used when the population standard deviation is known, while a t-test is used when the population standard deviation is unknown. The z-test assumes that the sample size is large enough to approximate the population distribution, while the t-test does not require this assumption and is more robust to smaller sample sizes.\n",
    "\n",
    "Here is an example scenario where you would use each type of test:\n",
    "\n",
    "Suppose a company wants to know if the average daily sales of their product have increased after implementing a new marketing campaign. They collect data from a random sample of 100 customers and find that the average daily sales before the campaign were $500, while the average daily sales after the campaign were $550. The population standard deviation is known to be $100.\n",
    "\n",
    "In this scenario, a z-test would be appropriate since the population standard deviation is known. The null hypothesis would be that the average daily sales before and after the campaign are the same (i.e., there is no difference). The alternative hypothesis would be that the average daily sales after the campaign are higher than before. The z-score can be calculated using the formula:\n",
    "\n",
    "z = (sample mean - population mean) / (population standard deviation / sqrt(sample size)). \n",
    "\n",
    "If the calculated z-score exceeds the critical value for a chosen significance level (e.g., 0.05), then the null hypothesis is rejected.\n",
    "\n",
    "Now suppose that the population standard deviation is not known. In this case, a t-test would be appropriate. The null hypothesis and alternative hypothesis would be the same as in the z-test scenario. The t-score can be calculated using the formula: \n",
    "\n",
    "t = (sample mean - population mean) / (sample standard deviation / sqrt(sample size)). \n",
    "\n",
    "The critical value for a t-test depends on the sample size and the chosen significance level. If the calculated t-score exceeds the critical value, then the null hypothesis is rejected.\n",
    "\n",
    "Overall, the choice of which test to use depends on the type of data available and the assumptions that can be made about the population distribution."
   ]
  },
  {
   "cell_type": "markdown",
   "id": "3e93e4a9-92dc-4b03-93e8-61d49f1bf7e6",
   "metadata": {},
   "source": [
    "### Q2: Differentiate between one-tailed and two-tailed tests."
   ]
  },
  {
   "cell_type": "markdown",
   "id": "b9bbeeb6-7f5e-403d-b083-3580bacd3a62",
   "metadata": {},
   "source": [
    "In hypothesis testing, a statistical test can be either one-tailed or two-tailed, which refers to the directionality of the test.\n",
    "\n",
    "A one-tailed test is a statistical test that examines the relationship between two variables in one direction only. It tests the hypothesis that the sample data is either significantly greater than or significantly less than the expected value. A one-tailed test is useful when a researcher has a specific prediction or hypothesis about the direction of the effect.\n",
    "\n",
    "For example, suppose a researcher wants to test whether a new drug is more effective than an existing drug in reducing blood pressure. The researcher can use a one-tailed test to determine whether the new drug is significantly better than the existing drug.\n",
    "\n",
    "In contrast, a two-tailed test is a statistical test that examines the relationship between two variables in both directions. It tests the hypothesis that the sample data is significantly different from the expected value, regardless of the direction. A two-tailed test is useful when a researcher does not have a specific prediction or hypothesis about the direction of the effect.\n",
    "\n",
    "For example, suppose a researcher wants to test whether a new teaching method improves students' scores on a math test. The researcher can use a two-tailed test to determine whether the new teaching method has a significant effect on the students' scores, regardless of whether the scores are higher or lower."
   ]
  },
  {
   "cell_type": "markdown",
   "id": "a5cde635-4db5-4276-9f02-2feef1d96459",
   "metadata": {},
   "source": [
    "### Q3: Explain the concept of Type 1 and Type 2 errors in hypothesis testing. Provide an example scenario for each type of error."
   ]
  },
  {
   "cell_type": "markdown",
   "id": "43e1bcab-a323-4d71-afcd-a60a60b3e81b",
   "metadata": {},
   "source": [
    "In hypothesis testing, there are two types of errors that can occur: Type I error and Type II error.\n",
    "\n",
    "\n",
    "Type I error occurs when the null hypothesis is rejected even though it is actually true. This means that the researcher concludes that there is a significant effect or difference between two groups when in reality there is not. The probability of making a Type I error is denoted as alpha (α) and is set by the researcher prior to conducting the test. A smaller alpha level means a lower probability of making a Type I error.\n",
    "\n",
    "\n",
    "Type II error, on the other hand, occurs when the null hypothesis is not rejected even though it is actually false. This means that the researcher concludes that there is no significant effect or difference between two groups when in reality there is. The probability of making a Type II error is denoted as beta (β). The probability of making a Type II error depends on several factors such as the sample size, effect size, and the alpha level.\n",
    "\n",
    "\n",
    "Here are example scenarios for each type of error:\n",
    "\n",
    "- Type I error: Suppose a company produces a batch of 10,000 pens and claims that the average weight of each pen is 5 grams. A researcher randomly selects a sample of 50 pens and finds that the average weight is 5.2 grams with a standard deviation of 0.5 grams. The researcher conducts a hypothesis test with a significance level of 0.05 and concludes that the average weight of the pens is significantly greater than 5 grams. However, in reality, the average weight of the pens is actually 5 grams, and the researcher has made a Type I error by rejecting the null hypothesis.\n",
    "\n",
    "- Type II error: Consider a clinical trial testing the effectiveness of a new drug for treating a certain disease. The null hypothesis is that the drug has no effect on the disease, while the alternative hypothesis is that the drug does have an effect. If the clinical trial fails to reject the null hypothesis, it could be due to the drug having no effect, or it could be due to a Type II error, where the drug actually does have an effect but it was not detected in the study. In this scenario, a Type II error would occur if the new drug is effective, but the clinical trial fails to detect its effectiveness due to a small sample size or other limitations of the study."
   ]
  },
  {
   "cell_type": "markdown",
   "id": "2101c273-515f-43ac-831a-b78844413664",
   "metadata": {},
   "source": [
    "### Q4: Explain Bayes's theorem with an example."
   ]
  },
  {
   "cell_type": "markdown",
   "id": "0be4263b-b14e-485b-8938-524e20bb529a",
   "metadata": {},
   "source": [
    "Bayes's theorem is a statistical tool used to calculate the probability of an event occurring based on the prior knowledge of related events. It helps to update our belief about an event as we obtain new information.\n",
    "\n",
    "The formula for Bayes's theorem is:\n",
    "\n",
    "P(A|B) = P(B|A) x P(A) / P(B)\n",
    "\n",
    "where:\n",
    "\n",
    "- P(A|B) is the probability of event A given that event B has occurred\n",
    "- P(B|A) is the probability of event B given that event A has occurred\n",
    "- P(A) is the prior probability of event A occurring\n",
    "- P(B) is the prior probability of event B occurring\n",
    "Here's an example to illustrate how to use Bayes's theorem:\n",
    "\n",
    "Suppose a certain medical test is used to diagnose a rare disease that affects 1% of the population. The test is 95% accurate, which means that it correctly identifies 95% of people who have the disease and incorrectly identifies 5% of people who do not have the disease as having it.\n",
    "\n",
    "If a person tests positive for the disease, what is the probability that they actually have the disease?\n",
    "\n",
    "We can use Bayes's theorem to calculate the probability as follows:\n",
    "\n",
    "- Let A be the event that the person has the disease, and B be the event that the person tests positive for the disease.\n",
    "- The prior probability of event A is P(A) = 0.01 (since the disease affects 1% of the population).\n",
    "- The probability of event B given that event A has occurred is P(B|A) = 0.95 (since the test is 95% accurate).\n",
    "- The probability of event B given that event A has not occurred is P(B|not A) = 0.05 (since the test incorrectly identifies 5% of people who do not have the disease as having it).\n",
    "- The prior probability of event B is P(B) = P(B|A) x P(A) + P(B|not A) x P(not A) = 0.95 x 0.01 + 0.05 x 0.99 = 0.059.\n",
    "Using Bayes's theorem, we can calculate the probability of event A given that event B has occurred:\n",
    "\n",
    "P(A|B) = P(B|A) x P(A) / P(B) = 0.95 x 0.01 / 0.059 ≈ 0.161.\n",
    "\n",
    "So if a person tests positive for the disease, the probability that they actually have the disease is about 16.1%."
   ]
  },
  {
   "cell_type": "markdown",
   "id": "e5793c72-fd28-4aae-a63f-428e6389b80b",
   "metadata": {},
   "source": [
    "### Q5: What is a confidence interval? How to calculate the confidence interval, explain with an example."
   ]
  },
  {
   "cell_type": "markdown",
   "id": "5986a04f-49f6-42fb-a238-beb9ea4f907d",
   "metadata": {},
   "source": [
    "A confidence interval is a statistical tool that provides a range of values within which a population parameter is likely to fall, based on a sample of data. It is a measure of the uncertainty or variability associated with the estimation of a population parameter, such as a mean or proportion.\n",
    "\n",
    "A confidence interval is typically expressed as a range of values, along with a level of confidence, which represents the probability that the true population parameter lies within that range.\n",
    "\n",
    "To calculate a confidence interval, we need to specify the following:\n",
    "\n",
    "1) The level of confidence, typically expressed as a percentage (e.g., 90%, 95%, or 99%). The level of confidence determines the width of the interval and reflects the degree of certainty that the true population parameter falls within that interval.\n",
    "\n",
    "2) The sample statistic, such as the sample mean or proportion, which is used to estimate the population parameter.\n",
    "\n",
    "3) The standard error of the sample statistic, which represents the standard deviation of the sampling distribution of the sample statistic. The standard error reflects the variability of the sample statistic across multiple samples and is used to calculate the margin of error for the confidence interval.\n",
    "\n",
    "Here's an example of how to calculate a confidence interval:\n",
    "\n",
    "Suppose we want to estimate the mean height of a population of college students. We take a random sample of 100 students and measure their heights. The sample mean height is 68 inches, with a standard deviation of 2 inches.\n",
    "\n",
    "We want to construct a 95% confidence interval for the population mean height.\n",
    "\n",
    "First, we calculate the standard error of the mean:\n",
    "\n",
    "Standard error = standard deviation / square root of sample size\n",
    "\n",
    "= 2 / sqrt(100)\n",
    "\n",
    "= 0.2\n",
    "\n",
    "Next, we calculate the margin of error for the confidence interval:\n",
    "\n",
    "Margin of error = critical value x standard error\n",
    "\n",
    "The critical value is determined by the level of confidence and the degrees of freedom (n-1) for the t-distribution. For a 95% confidence interval with 99 degrees of freedom (100-1), the critical value is 1.984.\n",
    "\n",
    "Margin of error = 1.984 x 0.2\n",
    "\n",
    "= 0.397\n",
    "\n",
    "Finally, we construct the confidence interval by adding and subtracting the margin of error from the sample mean:\n",
    "\n",
    "Confidence interval = sample mean ± margin of error\n",
    "= 68 ± 0.397\n",
    "= [67.603, 68.397]\n",
    "\n",
    "Therefore, we can be 95% confident that the true population mean height falls within the range of 67.603 to 68.397 inches based on the sample data."
   ]
  },
  {
   "cell_type": "markdown",
   "id": "ee3d424a-fbdf-4064-9fb9-0392e57f477e",
   "metadata": {},
   "source": [
    "### Q6. Use Bayes' Theorem to calculate the probability of an event occurring given prior knowledge of the event's probability and new evidence. Provide a sample problem and solution."
   ]
  },
  {
   "cell_type": "markdown",
   "id": "a91cfa9f-9e45-4c2b-b41b-bdefa1a793d8",
   "metadata": {},
   "source": [
    "Sure, here's an example problem and solution using Bayes' Theorem:\n",
    "\n",
    "Problem:\n",
    "A company produces two types of batteries, Type A and Type B. Type A has a defect rate of 5%, while Type B has a defect rate of 2%. A worker selects a battery at random and it is found to be defective. What is the probability that the battery is Type A?\n",
    "\n",
    "Solution:\n",
    "Let A be the event that the selected battery is Type A, and D be the event that the battery is defective. We want to calculate the probability of event A given that event D has occurred, which is P(A|D).\n",
    "\n",
    "We can use Bayes' Theorem to calculate P(A|D) as follows:\n",
    "\n",
    "P(A|D) = P(D|A) * P(A) / P(D)\n",
    "\n",
    "where P(D|A) is the probability of the battery being defective given that it is Type A, P(A) is the prior probability of selecting Type A, and P(D) is the probability of selecting a defective battery.\n",
    "\n",
    "We know from the problem that P(D|A) = 0.05, P(A) = 0.5 (since there are two types of batteries and they are equally likely to be selected), and we can calculate P(D) using the law of total probability:\n",
    "\n",
    "P(D) = P(D|A) * P(A) + P(D|B) * P(B)\n",
    "= 0.05 * 0.5 + 0.02 * 0.5\n",
    "= 0.035\n",
    "\n",
    "where P(D|B) is the probability of the battery being defective given that it is Type B, which is 0.02.\n",
    "\n",
    "Substituting the values into Bayes' Theorem, we get:\n",
    "\n",
    "P(A|D) = P(D|A) * P(A) / P(D)\n",
    "= 0.05 * 0.5 / 0.035\n",
    "= 0.714\n",
    "\n",
    "Therefore, the probability that the selected battery is Type A given that it is defective is approximately 0.714 or 71.4%. This means that if we select a defective battery at random from this company's production, there is a higher probability that it is Type A."
   ]
  },
  {
   "cell_type": "markdown",
   "id": "ef0f6d15-154d-4e61-8861-98229c9bdc2b",
   "metadata": {},
   "source": [
    "### Q7. Calculate the 95% confidence interval for a sample of data with a mean of 50 and a standard deviation of 5. Interpret the results."
   ]
  },
  {
   "cell_type": "markdown",
   "id": "f22e3806-0932-4335-a070-244aa42ad8ad",
   "metadata": {},
   "source": [
    "##### Assuming sample size of 30"
   ]
  },
  {
   "cell_type": "code",
   "execution_count": 1,
   "id": "62814249-363d-4f55-878b-79a3c17a8657",
   "metadata": {},
   "outputs": [
    {
     "name": "stdout",
     "output_type": "stream",
     "text": [
      "t statistic for significance level 0.05 , sample size of 30 is : 2.05\n",
      "The 95% confidence interval is (48.13, 51.87)\n"
     ]
    }
   ],
   "source": [
    "import math\n",
    "import scipy.stats as stats\n",
    "\n",
    "# Define the sample mean, standard deviation, and sample size\n",
    "sample_mean = 50\n",
    "sample_std_dev = 5\n",
    "sample_size = 30\n",
    "\n",
    "# Signficance Level\n",
    "alpha = 0.05\n",
    "\n",
    "# Calculate the critical value for a 95% confidence interval\n",
    "t_crit = stats.t.ppf(1-alpha/2, df=sample_size-1)\n",
    "print(f't statistic for significance level {alpha} , sample size of {sample_size} is : {t_crit:.2f}')\n",
    "\n",
    "# Calculate the standard error\n",
    "std_error = sample_std_dev / math.sqrt(sample_size)\n",
    "\n",
    "# Calculate the lower and upper bounds of the confidence interval\n",
    "lower_bound = sample_mean - t_crit * std_error\n",
    "upper_bound = sample_mean + t_crit * std_error\n",
    "\n",
    "# Print the results\n",
    "print(f\"The 95% confidence interval is ({lower_bound:.2f}, {upper_bound:.2f})\")"
   ]
  },
  {
   "cell_type": "markdown",
   "id": "8e4cdf96-791c-4573-bd0d-bbeb481b491a",
   "metadata": {},
   "source": [
    "Above results mean that I can say with 95% condfidence that the POPULATION MEAN Lies in between 48.13 and 51.87"
   ]
  },
  {
   "cell_type": "markdown",
   "id": "63f04b9f-c6d6-49f0-8b28-8d78b3effac7",
   "metadata": {},
   "source": [
    "### Q8. What is the margin of error in a confidence interval? How does sample size affect the margin of error? Provide an example of a scenario where a larger sample size would result in a smaller margin of error."
   ]
  },
  {
   "cell_type": "markdown",
   "id": "ee92cae6-405f-4fd5-acd6-748759b0d388",
   "metadata": {},
   "source": [
    "The margin of error in a confidence interval is a measure of the amount of random sampling variability that we expect to encounter in estimating a population parameter (such as the mean or proportion) from a sample. It represents the maximum distance that we would expect the sample estimate to be from the true population value, given a certain level of confidence. The margin of error is typically expressed as a range of values above and below the point estimate, and is calculated by multiplying the critical value (based on the level of confidence and degrees of freedom) by the standard error of the estimate.\n",
    "\n",
    "Sample size affects the margin of error in a confidence interval in two ways. First, as the sample size increases, the standard error decreases, which leads to a smaller margin of error. This is because a larger sample size provides more information about the population and reduces the amount of sampling error. Second, as the sample size increases, the critical value (which is determined by the level of confidence and degrees of freedom) decreases, which also leads to a smaller margin of error.\n",
    "\n",
    "For example, suppose we want to estimate the proportion of voters in a state who support a particular candidate, and we take a sample of 500 voters. If we use a 95% confidence interval, the margin of error for the estimate might be ±4.4%, which means that we can be 95% confident that the true proportion of voters who support the candidate lies within 4.4 percentage points above or below the sample estimate. However, if we increase the sample size to 1,000 voters while keeping all other factors the same, the margin of error might be reduced to ±3.1%, which means that we would have a more precise estimate with a smaller range of plausible values.\n",
    "\n",
    "In general, larger sample sizes tend to result in smaller margins of error, and smaller sample sizes tend to result in larger margins of error. This is because larger sample sizes provide more precise estimates of population parameters, while smaller sample sizes are more susceptible to random sampling variability."
   ]
  },
  {
   "cell_type": "markdown",
   "id": "ce3d43c0-d2fd-45be-8a82-79a512336833",
   "metadata": {},
   "source": [
    "### Q9. Calculate the z-score for a data point with a value of 75, a population mean of 70, and a population standard deviation of 5. Interpret the results."
   ]
  },
  {
   "cell_type": "markdown",
   "id": "ba99aa02-c5da-43e1-abfb-0dbc452a39e9",
   "metadata": {},
   "source": [
    "To calculate the z-score for a data point with a value of 75, a population mean of 70, and a population standard deviation of 5, we can use the formula:\n",
    "\n",
    "z = (x - μ) / σ\n",
    "\n",
    "where x is the value of the data point, μ is the population mean, and σ is the population standard deviation.\n",
    "\n",
    "Substituting the values into the formula, we get:\n",
    "\n",
    "z = (75 - 70) / 5\n",
    "= 1\n",
    "\n",
    "Therefore, the z-score for this data point is 1.\n",
    "\n",
    "Interpretation: A z-score of 1 means that the data point is one standard deviation above the population mean. In other words, the value of 75 is one standard deviation above the average value of the population, which suggests that this data point is somewhat higher than what we might expect by chance alone. The z-score also allows us to compare this data point to other data points that may have different units or scales of measurement, by standardizing them all to a common scale."
   ]
  },
  {
   "cell_type": "code",
   "execution_count": 2,
   "id": "3035177c-3ebf-4b4f-8d80-8af298b4a89f",
   "metadata": {},
   "outputs": [
    {
     "name": "stdout",
     "output_type": "stream",
     "text": [
      "The z-score is: 1.0\n"
     ]
    }
   ],
   "source": [
    "# Define the values\n",
    "x = 75  # Data point value\n",
    "mu = 70  # Population mean\n",
    "sigma = 5  # Population standard deviation\n",
    "\n",
    "# Calculate the z-score\n",
    "z = (x - mu) / sigma\n",
    "\n",
    "print(f\"The z-score is: {z}\")"
   ]
  },
  {
   "cell_type": "markdown",
   "id": "6eafeb70-7452-46b8-85a2-ef0b608a30cc",
   "metadata": {},
   "source": [
    "This means that the data point is 1 standard deviation above the population mean. A positive z-score indicates that the data point is above the mean, while a negative z-score indicates that it is below the mean. The magnitude of the z-score tells us how far away the data point is from the mean in terms of standard deviations."
   ]
  },
  {
   "cell_type": "code",
   "execution_count": 3,
   "id": "a0dfec3d-af41-4df9-a52f-016a78e7067c",
   "metadata": {},
   "outputs": [
    {
     "name": "stdout",
     "output_type": "stream",
     "text": [
      "The percentage of values below a z-score of 1 is: 84.13%\n"
     ]
    }
   ],
   "source": [
    "from scipy.stats import norm\n",
    "\n",
    "# Calculate the percentage of values below a z-score of 1\n",
    "percent_below = norm.cdf(z) * 100\n",
    "\n",
    "print(f\"The percentage of values below a z-score of 1 is: {percent_below:.2f}%\")"
   ]
  },
  {
   "cell_type": "markdown",
   "id": "51f70dd3-8456-4ec9-90ee-774b6676b676",
   "metadata": {},
   "source": [
    "### Q10. In a study of the effectiveness of a new weight loss drug, a sample of 50 participants lost an average of 6 pounds with a standard deviation of 2.5 pounds. Conduct a hypothesis test to determine if the drug is significantly effective at a 95% confidence level using a t-test."
   ]
  },
  {
   "cell_type": "code",
   "execution_count": 4,
   "id": "b8ebbd60-2f7e-433e-a672-befa74f7fbd6",
   "metadata": {},
   "outputs": [
    {
     "name": "stdout",
     "output_type": "stream",
     "text": [
      "t-statistic: 16.9706\n",
      "p-value: 0.0\n",
      "Reject the null hypothesis. the drug is significantly effective.\n"
     ]
    }
   ],
   "source": [
    "import numpy as np\n",
    "from scipy.stats import t\n",
    "\n",
    "# Null hypothesis: the drug is not significantly effective\n",
    "# Alternative hypothesis: the drug is significantly effective\n",
    "alpha = 0.05  # significance level\n",
    "null_hypothesis = \"the drug is not significantly effective\"\n",
    "alternative_hypothesis = \"the drug is significantly effective\"\n",
    "\n",
    "mu = 0\n",
    "sample_mean = 6\n",
    "sample_std = 2.5\n",
    "n = 50\n",
    "df = n - 1  # degrees of freedom\n",
    "\n",
    "# Calculate the t-score and p-value\n",
    "t_score = (sample_mean - mu) / (sample_std / np.sqrt(n))\n",
    "p_value = 2 * (1 - t.cdf(abs(t_score), df))\n",
    "\n",
    "# Compare p-value with alpha and make a conclusion\n",
    "print(f\"t-statistic: {t_score:.4f}\")\n",
    "print(f\"p-value: {p_value}\")\n",
    "if p_value < alpha:\n",
    "    print(f\"Reject the null hypothesis. {alternative_hypothesis}.\")\n",
    "else:\n",
    "    print(f\"Fail to reject the null hypothesis. {null_hypothesis}.\")"
   ]
  },
  {
   "cell_type": "markdown",
   "id": "98c20d3b-4590-4cdf-9dd3-9baa968e4b63",
   "metadata": {},
   "source": [
    "### Q11. In a survey of 500 people, 65% reported being satisfied with their current job. Calculate the 95% confidence interval for the true proportion of people who are satisfied with their job."
   ]
  },
  {
   "cell_type": "code",
   "execution_count": 5,
   "id": "60f20e80-2c3e-4bf8-9b34-89a02343cbf0",
   "metadata": {},
   "outputs": [
    {
     "name": "stdout",
     "output_type": "stream",
     "text": [
      "The 95% confidence interval for the proportion of people who are satisfied with their job is (60.82%, 69.18%)\n"
     ]
    }
   ],
   "source": [
    "import math\n",
    "\n",
    "p = 0.65  # sample proportion\n",
    "n = 500  # sample size\n",
    "z_alpha = 1.96  # z-score for 95% confidence level\n",
    "\n",
    "# Calculate the standard error\n",
    "se = math.sqrt((p * (1 - p)) / n)\n",
    "\n",
    "# Calculate the margin of error\n",
    "me = z_alpha * se\n",
    "\n",
    "# Calculate the confidence interval\n",
    "lower_bound = p - me\n",
    "upper_bound = p + me\n",
    "\n",
    "# Print the results\n",
    "print(f\"The 95% confidence interval for the proportion of people who are satisfied with their job is ({lower_bound*100:.2f}%, {upper_bound*100:.2f}%)\")"
   ]
  },
  {
   "cell_type": "markdown",
   "id": "b86600de-dbfc-444b-ac07-0990e0e2e308",
   "metadata": {},
   "source": [
    "### Q12. A researcher is testing the effectiveness of two different teaching methods on student performance. Sample A has a mean score of 85 with a standard deviation of 6, while sample B has a mean score of 82 with a standard deviation of 5. Conduct a hypothesis test to determine if the two teaching methods have a significant difference in student performance using a t-test with a significance level of 0.01."
   ]
  },
  {
   "cell_type": "code",
   "execution_count": 6,
   "id": "1d97653b-fadf-4853-86d2-56b2ef179359",
   "metadata": {},
   "outputs": [
    {
     "name": "stdout",
     "output_type": "stream",
     "text": [
      "t-statistic: 2.104\n",
      "Degrees of freedom: 58\n",
      "Critical t-value: 2.663\n",
      "p-value: 0.040\n",
      "Fail to reject null hypothesis.\n",
      "mu1 = mu2 (the means are equal)\n"
     ]
    }
   ],
   "source": [
    "import numpy as np\n",
    "from scipy.stats import t\n",
    "\n",
    "# Sample A\n",
    "x1 = 85\n",
    "s1 = 6\n",
    "n1 = 30\n",
    "\n",
    "# Sample B\n",
    "x2 = 82\n",
    "s2 = 5\n",
    "n2 = 30\n",
    "\n",
    "# Set up null and alternative hypotheses\n",
    "# H0: mu1 = mu2 (the means are equal)\n",
    "# Ha: mu1 != mu2 (the means are not equal)\n",
    "alpha = 0.01\n",
    "null_hypothesis = \"mu1 = mu2 (the means are equal)\"\n",
    "alternative_hypothesis = \"mu1 != mu2 (the means are not equal)\"\n",
    "\n",
    "# Calculate pooled standard deviation\n",
    "sp = np.sqrt(((n1 - 1) * s1 ** 2 + (n2 - 1) * s2 ** 2) / (n1 + n2 - 2))\n",
    "\n",
    "# Calculate t-statistic\n",
    "t_stat = (x1 - x2) / (sp * np.sqrt(1 / n1 + 1 / n2))\n",
    "\n",
    "# Calculate degrees of freedom\n",
    "df = n1 + n2 - 2\n",
    "\n",
    "# Calculate critical t-value\n",
    "t_crit = t.ppf(1-alpha / 2, df)\n",
    "\n",
    "# Calculate p-value\n",
    "p_value = 2 * (1 - t.cdf(abs(t_stat), df))\n",
    "\n",
    "# Print results\n",
    "print(f\"t-statistic: {t_stat:.3f}\")\n",
    "print(f\"Degrees of freedom: {df}\")\n",
    "print(f\"Critical t-value: {t_crit:.3f}\")\n",
    "print(f\"p-value: {p_value:.3f}\")\n",
    "\n",
    "if abs(t_stat) > t_crit:\n",
    "    print(\"Reject null hypothesis.\")\n",
    "    print(alternative_hypothesis)\n",
    "else:\n",
    "    print(\"Fail to reject null hypothesis.\")\n",
    "    print(null_hypothesis)"
   ]
  },
  {
   "cell_type": "markdown",
   "id": "58d60544-853e-4166-8eae-e30184d18c32",
   "metadata": {},
   "source": [
    "### Q13. A population has a mean of 60 and a standard deviation of 8. A sample of 50 observations has a mean of 65. Calculate the 90% confidence interval for the true population mean."
   ]
  },
  {
   "cell_type": "code",
   "execution_count": 7,
   "id": "d7c4f4d1-5361-4f01-9f4c-a1c2a21ab751",
   "metadata": {},
   "outputs": [
    {
     "name": "stdout",
     "output_type": "stream",
     "text": [
      "t statistic for 50 samples with 90% confidence is : 1.6766\n",
      "The 90% confidence interval for the true population mean is (63.103, 66.897)\n"
     ]
    }
   ],
   "source": [
    "import math\n",
    "from scipy.stats import t\n",
    "\n",
    "pop_mean = 60\n",
    "pop_std = 8\n",
    "n = 50\n",
    "sample_mean = 65\n",
    "confidence_level = 0.90\n",
    "\n",
    "# Calculate the t-score\n",
    "t_score = (sample_mean - pop_mean) / (pop_std / math.sqrt(n))\n",
    "\n",
    "# Find the critical t-value\n",
    "df = n - 1\n",
    "t_crit = t.ppf((1+confidence_level)/2, df)\n",
    "print(f't statistic for {n} samples with {confidence_level*100:.0f}% confidence is : {t_crit:.4f}')\n",
    "\n",
    "# Calculate the margin of error\n",
    "margin_of_error = t_crit * (pop_std / math.sqrt(n))\n",
    "\n",
    "# Calculate the confidence interval\n",
    "lower_bound = sample_mean - margin_of_error\n",
    "upper_bound = sample_mean + margin_of_error\n",
    "\n",
    "# Print the results\n",
    "print(f\"The {confidence_level*100:.0f}% confidence interval for the true population mean is ({lower_bound:.3f}, {upper_bound:.3f})\")"
   ]
  },
  {
   "cell_type": "markdown",
   "id": "04943b85-8bb9-4791-b1ff-67c2ca4f934e",
   "metadata": {},
   "source": [
    "### Q14. In a study of the effects of caffeine on reaction time, a sample of 30 participants had an average reaction time of 0.25 seconds with a standard deviation of 0.05 seconds. Conduct a hypothesis test to determine if the caffeine has a significant effect on reaction time at a 90% confidence level using a t-test."
   ]
  },
  {
   "cell_type": "code",
   "execution_count": 8,
   "id": "4553e70e-d63f-49f4-95b4-ecb0575c903f",
   "metadata": {},
   "outputs": [
    {
     "name": "stdout",
     "output_type": "stream",
     "text": [
      "t-statistic: -5.477\n",
      "t-critical value: 1.699\n",
      "90% Confidence Interval: (0.234, 0.266)\n",
      "Reject the null hypothesis\n",
      "Caffeine has a significant effect on reaction time\n"
     ]
    }
   ],
   "source": [
    "import math\n",
    "import scipy.stats as stats\n",
    "\n",
    "# Null Hypothesis: Caffeine has no significant effect on reaction time\n",
    "# Alternative Hypothesis: Caffeine has a significant effect on reaction time\n",
    "null_hypothesis = \"Caffeine has no significant effect on reaction time\"\n",
    "alternative_hypothesis = \"Caffeine has a significant effect on reaction time\"\n",
    "\n",
    "sample_mean = 0.25  # sample mean\n",
    "sample_std_dev = 0.05  # sample standard deviation\n",
    "n = 30  # sample size\n",
    "pop_mean = 0.3  # population mean under null hypothesis\n",
    "alpha = 0.1  # significance level\n",
    "\n",
    "# Calculate the t-statistic\n",
    "t_stat = (sample_mean - pop_mean) / (sample_std_dev / math.sqrt(n))\n",
    "\n",
    "# Calculate the critical t-value\n",
    "t_crit = stats.t.ppf(1-alpha/2, n-1)\n",
    "\n",
    "# Calculate the confidence interval\n",
    "margin_of_error = t_crit * (sample_std_dev / math.sqrt(n))\n",
    "lower_ci = sample_mean - margin_of_error\n",
    "upper_ci = sample_mean + margin_of_error\n",
    "\n",
    "# Print the results\n",
    "print(f\"t-statistic: {t_stat:.3f}\")\n",
    "print(f\"t-critical value: {t_crit:.3f}\")\n",
    "print(f\"90% Confidence Interval: ({lower_ci:.3f}, {upper_ci:.3f})\")\n",
    "\n",
    "# Determine if the null hypothesis should be rejected or not\n",
    "if abs(t_stat) > t_crit:\n",
    "    print(\"Reject the null hypothesis\")\n",
    "    print(alternative_hypothesis)\n",
    "else:\n",
    "    print(\"Fail to reject the null hypothesis\")\n",
    "    print(null_hypothesis)"
   ]
  },
  {
   "cell_type": "markdown",
   "id": "5af9556b-aedb-48a9-9882-6a729215caf0",
   "metadata": {},
   "source": [
    "In this question popluation mean is not provided.\n",
    "\n",
    "According to researchers typical human reaction time is 200ms to 300ms.\n",
    "\n",
    "Here i have assumed the population mean as 300ms or 0.3 seconds"
   ]
  },
  {
   "cell_type": "code",
   "execution_count": null,
   "id": "07da90f4-0463-453c-870b-a44a1035ed9a",
   "metadata": {},
   "outputs": [],
   "source": []
  }
 ],
 "metadata": {
  "kernelspec": {
   "display_name": "Python 3 (ipykernel)",
   "language": "python",
   "name": "python3"
  },
  "language_info": {
   "codemirror_mode": {
    "name": "ipython",
    "version": 3
   },
   "file_extension": ".py",
   "mimetype": "text/x-python",
   "name": "python",
   "nbconvert_exporter": "python",
   "pygments_lexer": "ipython3",
   "version": "3.10.8"
  }
 },
 "nbformat": 4,
 "nbformat_minor": 5
}
