{
 "cells": [
  {
   "cell_type": "markdown",
   "id": "d298f053-0fd7-4f3a-bf2c-2e9e17e6fc22",
   "metadata": {},
   "source": [
    "### Q1. What is an Exception in python? Write the difference between Exceptions and Syntax errors."
   ]
  },
  {
   "cell_type": "markdown",
   "id": "ece357c2-d9b1-4243-92af-b95ea4d96c9e",
   "metadata": {},
   "source": [
    "In Python, an exception is an event that occurs during the execution of a program that disrupts the normal flow of the program's instructions. When an exception is raised, Python stops executing the current code block and looks for an exception handler to handle the exception. If no handler is found, Python will terminate the program and display an error message.\n",
    "\n",
    "In contrast, a syntax error is an error in the syntax of a program. These errors occur when the program code does not conform to the syntax rules of Python, such as when a keyword is misspelled or a symbol is used incorrectly. Syntax errors are detected by the Python interpreter when the program is compiled and are typically easy to fix.\n",
    "\n",
    "The main differences between exceptions and syntax errors in Python are:\n",
    "\n",
    "1. Exceptions occur during the execution of the program, while syntax errors occur during compilation.\n",
    "2. Exceptions are typically caused by factors such as user input, external factors, or programming logic errors, while   syntax errors are caused by mistakes in the program's code.\n",
    "3. Exceptions can be caught and handled by the program, while syntax errors must be fixed by the programmer.\n",
    "4. Exceptions are a type of runtime error, while syntax errors are a type of compile-time error.\n",
    "5. In summary, exceptions are errors that occur during the execution of a program, while syntax errors are errors that occur during compilation due to mistakes in the program's code. Exceptions can be handled by the program, while syntax errors must be fixed by the programmer.\n",
    "\n",
    "\n",
    "\n"
   ]
  },
  {
   "cell_type": "markdown",
   "id": "23e83831-e65c-423a-b088-175988d41144",
   "metadata": {},
   "source": [
    "### Q2. What happens when an exception is not handled? Explain with an example."
   ]
  },
  {
   "cell_type": "markdown",
   "id": "0a844ec4-2041-4312-9471-72c06f1d3bd4",
   "metadata": {},
   "source": [
    "When an exception is not handled, the program terminates abruptly and an error message is displayed, providing little or no information on what went wrong or how to fix it.\n",
    "\n",
    "Here is an example:\n",
    "\n",
    "a = 10    \n",
    "b = 0       \n",
    "result = a/b                      \n",
    "print(result)\n",
    "\n",
    "In this example, we define a function called divide that takes two arguments x and y, and returns their division. We then initialize two variables a and b with the values 10 and 0, respectively. We then call the divide function passing a and b as arguments, and store the result in a variable called result. Finally, we print the value of result.\n",
    "\n",
    "However, when we run this code we get a ZeroDivisionError."
   ]
  },
  {
   "cell_type": "markdown",
   "id": "55f4637a-5928-414a-9812-5f80ff354695",
   "metadata": {},
   "source": [
    "### Q3. Which Python statements are used to catch and handle exceptions? Explain with an example."
   ]
  },
  {
   "cell_type": "markdown",
   "id": "0ba449fe-63ce-4896-9b86-faba21d5d9c5",
   "metadata": {},
   "source": [
    "In Python, we use the try and except statements to catch and handle exceptions. The try statement lets us define a block of code to be executed, and the except statement lets us define a block of code to be executed if an exception is raised inside the try block."
   ]
  },
  {
   "cell_type": "code",
   "execution_count": 2,
   "id": "101120a2-2965-479e-8760-7753b88f7b59",
   "metadata": {},
   "outputs": [
    {
     "name": "stdout",
     "output_type": "stream",
     "text": [
      "division by zero\n"
     ]
    }
   ],
   "source": [
    "try:\n",
    "    a=10/0\n",
    "except ZeroDivisionError as e:\n",
    "        print(e) "
   ]
  },
  {
   "cell_type": "markdown",
   "id": "3d3e94cf-ee43-4503-8721-fccaa49f863f",
   "metadata": {},
   "source": [
    "If an exception is raised while executing the code inside the try block, the program jumps immediately to the corresponding except block. In this case, if a ZeroDivisionError is raised, we print an error message and set the result to division by zero. Otherwise, if the division succeeds, we return the result as before."
   ]
  },
  {
   "cell_type": "markdown",
   "id": "5fecce48-19d0-4aa0-be07-558d8e27b228",
   "metadata": {},
   "source": [
    "### Q4. Explain with an example\n",
    "a. try and else\n",
    "\n",
    "b. finally\n",
    "\n",
    "c. raise"
   ]
  },
  {
   "cell_type": "markdown",
   "id": "da2d1796-ded0-43f4-a9f2-d15a29daaa25",
   "metadata": {},
   "source": [
    "A. try and else:\n",
    "\n",
    "In Python, we can use the else statement along with the try and except statements. The else block is executed only if no exception is raised inside the try block. "
   ]
  },
  {
   "cell_type": "code",
   "execution_count": 3,
   "id": "843e37dc-053f-4b1e-ab4d-0a6be496d937",
   "metadata": {},
   "outputs": [
    {
     "name": "stdin",
     "output_type": "stream",
     "text": [
      "Enter a number:  2\n",
      "Enter another number:  2\n"
     ]
    },
    {
     "name": "stdout",
     "output_type": "stream",
     "text": [
      "The result is: 1.0\n"
     ]
    }
   ],
   "source": [
    "# EXAMPLE\n",
    "try:\n",
    "    x = int(input(\"Enter a number: \"))\n",
    "    y = int(input(\"Enter another number: \"))\n",
    "    result = x / y\n",
    "except ValueError:\n",
    "    print(\"Invalid input\")\n",
    "except ZeroDivisionError:\n",
    "    print(\"Division by zero\")\n",
    "else:\n",
    "    print(\"The result is:\", result)\n"
   ]
  },
  {
   "cell_type": "markdown",
   "id": "78f8b4d8-5e62-487f-b896-062702e18be3",
   "metadata": {},
   "source": [
    "B. finally:\n",
    "\n",
    "In Python, we can use the finally statement along with the try and except statements. The finally block is executed whether an exception is raised or not inside the try block."
   ]
  },
  {
   "cell_type": "code",
   "execution_count": null,
   "id": "ff2499d5-842b-48e3-8a25-b196512b6f3e",
   "metadata": {},
   "outputs": [],
   "source": [
    "# EXAMPLE\n",
    "try:\n",
    "    f = open(\"myfile.txt\")\n",
    "    try:\n",
    "        # Do some operations on the file\n",
    "    except:\n",
    "        print(\"An error occurred while processing the file\")\n",
    "    finally:\n",
    "        f.close()\n",
    "except FileNotFoundError:\n",
    "    print(\"The file does not exist\")\n"
   ]
  },
  {
   "cell_type": "markdown",
   "id": "5f4b2f63-e39f-422b-969c-f81b0ec7d10f",
   "metadata": {},
   "source": [
    "C. raise:-\n",
    "\n",
    "In Python, we can use the raise statement to explicitly raise an exception.The raise statement can be useful when we want to create our own custom exceptions, or when we want to handle a specific error condition in a more fine-grained manner."
   ]
  },
  {
   "cell_type": "code",
   "execution_count": null,
   "id": "3efee04d-9f57-43c3-b93b-156859610a74",
   "metadata": {},
   "outputs": [],
   "source": [
    "# EXAMPLE\n",
    "def check_age(age):\n",
    "    if age < 0:\n",
    "        raise ValueError(\"Age cannot be negative\")\n",
    "    elif age > 120:\n",
    "        raise ValueError(\"Age cannot be greater than 120\")\n",
    "    else:\n",
    "        print(\"Age is valid\")\n",
    "\n",
    "try:\n",
    "    age = int(input(\"Enter your age: \"))\n",
    "    check_age(age)\n",
    "except ValueError as e:\n",
    "    print(\"Invalid age:\", str(e))\n"
   ]
  },
  {
   "cell_type": "markdown",
   "id": "e2716db3-d8a9-41bd-8154-992aaf7b3628",
   "metadata": {},
   "source": [
    "### Q5. What are Custom Exceptions in python? Why do we need Custom Exceptions? Explain with an example."
   ]
  },
  {
   "cell_type": "markdown",
   "id": "8e09bfeb-f393-4997-8cf4-438448e96f26",
   "metadata": {},
   "source": [
    "In Python, exceptions are objects that are raised when an error or unexpected behavior occurs during program execution. By default, Python has a set of built-in exceptions like TypeError, ValueError, and so on, that can be raised to indicate that an error has occurred.\n",
    "\n",
    "Custom exceptions, also known as user-defined exceptions, are exceptions that you define yourself in your code to handle specific errors or exceptional situations that are not covered by the built-in exceptions. Custom exceptions can be useful because they allow you to create more descriptive error messages and handle specific types of errors in a more specialized way."
   ]
  },
  {
   "cell_type": "code",
   "execution_count": 6,
   "id": "74d8f22f-0724-4e26-af72-1d199cfff645",
   "metadata": {},
   "outputs": [
    {
     "name": "stdout",
     "output_type": "stream",
     "text": [
      "Age must be between 0 and 120\n"
     ]
    }
   ],
   "source": [
    "#EXAMPLE\n",
    "\n",
    "class InvalidAgeException(Exception):\n",
    "    pass\n",
    "\n",
    "def validate_age(age):\n",
    "    if age < 0 or age > 120:\n",
    "        raise InvalidAgeException(\"Age must be between 0 and 120\")\n",
    "    else:\n",
    "        print(\"Valid age\")\n",
    "\n",
    "try:\n",
    "    validate_age(150)\n",
    "except InvalidAgeException as e:\n",
    "    print(e)\n"
   ]
  },
  {
   "cell_type": "markdown",
   "id": "b0a3a13b-50b1-4c30-9cc2-7d1748f62f9e",
   "metadata": {},
   "source": [
    "### Q6. Create a custom exception class. Use this class to handle an exception."
   ]
  },
  {
   "cell_type": "code",
   "execution_count": 23,
   "id": "ba283812-65a0-47d0-a731-5cad0c43b431",
   "metadata": {},
   "outputs": [
    {
     "name": "stdin",
     "output_type": "stream",
     "text": [
      "Enter your age -20\n"
     ]
    },
    {
     "name": "stdout",
     "output_type": "stream",
     "text": [
      "Entered age is negative \n"
     ]
    }
   ],
   "source": [
    "class validateage(Exception):\n",
    "    \n",
    "    def __init__(self , msg) : \n",
    "        self.msg = msg\n",
    "def validaetage(age) : \n",
    "    if age < 0 :\n",
    "        raise validateage(\"Entered age is negative \" )\n",
    "    elif age > 200 : \n",
    "        raise validateage(\"Enterd age is very very high \" )\n",
    "    else :\n",
    "        print(\"Age is valid\" )\n",
    "try :\n",
    "    age = int(input(\"Enter your age\" ))\n",
    "    validaetage(age)\n",
    "except validateage as e :\n",
    "    print(e)"
   ]
  },
  {
   "cell_type": "code",
   "execution_count": null,
   "id": "e08c26b3-1730-475e-b461-b8a001cc89a7",
   "metadata": {},
   "outputs": [],
   "source": []
  }
 ],
 "metadata": {
  "kernelspec": {
   "display_name": "Python 3 (ipykernel)",
   "language": "python",
   "name": "python3"
  },
  "language_info": {
   "codemirror_mode": {
    "name": "ipython",
    "version": 3
   },
   "file_extension": ".py",
   "mimetype": "text/x-python",
   "name": "python",
   "nbconvert_exporter": "python",
   "pygments_lexer": "ipython3",
   "version": "3.10.8"
  }
 },
 "nbformat": 4,
 "nbformat_minor": 5
}
