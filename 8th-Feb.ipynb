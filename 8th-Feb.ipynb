{
 "cells": [
  {
   "cell_type": "markdown",
   "id": "868a2c2a-3a90-4575-bf29-2942ce7956ac",
   "metadata": {},
   "source": [
    "### Q1. What is Abstraction in OOps? Explain with an example."
   ]
  },
  {
   "cell_type": "markdown",
   "id": "5c915350-4bc8-44d6-ba75-d8499805c2db",
   "metadata": {},
   "source": [
    "Abstraction is one of the fundamental concepts in Object-Oriented Programming (OOP). It is a process of hiding the implementation details of a class and showing only the functionality to the users.Abstraction helps in reducing the complexity of the system and also helps in promoting modularity by breaking the system into smaller, more manageable parts.\n",
    "\n",
    "Abstraction is achieved in OOP by creating abstract classes or interfaces that define the methods a derived class must implement. An abstract class can provide a default implementation for some of its methods, but it must leave some methods unimplemented. A derived class that implements these methods provides the concrete implementation for the abstract class.\n",
    "\n",
    "For example, consider a class called \"Vehicle\" that is intended to be a base class for different types of vehicles. The Vehicle class can have abstract methods such as 'start', 'stop', and 'accelerate'. Each derived class, such as Car, Bike, or Truck, can provide a concrete implementation of these methods that is specific to that type of vehicle.\n",
    "\n",
    "This way, the user of the 'Vehicle' class only needs to know the basic methods that all vehicles must have, such as 'tart' and 'stop', without having to know the implementation details. The implementation details are hidden behind the abstraction provided by the Vehicle class.\n",
    "\n",
    "\n",
    "\n",
    "\n",
    "\n"
   ]
  },
  {
   "cell_type": "markdown",
   "id": "fd7b68fd-200f-44fc-b889-952741550456",
   "metadata": {},
   "source": [
    "### Q2. Differentiate between Abstraction and Encapsulation. Explain with an example."
   ]
  },
  {
   "cell_type": "markdown",
   "id": "d1d9db8a-b68a-4050-971f-f2f92f146e64",
   "metadata": {},
   "source": [
    "Abstraction and encapsulation are two important concepts in Object-Oriented Programming (OOP) that are often used interchangeably, but they are not the same thing.\n",
    "\n",
    "\"Abstraction\" refers to the act of representing essential features without including the background details or explanations. In other words, abstraction is a way of hiding the complexity of a system and showing only the essential features to the users.\n",
    "\n",
    "\"Encapsulation\" refers to the technique of wrapping data and functions that operate on the data within a single unit, or object. This helps to protect the data from outside interference and misuse.\n",
    "\n",
    "Here's an example to illustrate the difference between abstraction and encapsulation. Consider a class called Television that represents a television set. The Television class can have the following properties: on/off, volume, and channel.\n",
    "\n",
    "Abstraction can be applied to the Television class by hiding the internal workings of how the television turns on or off, changes the volume, or changes the channel. The user of the Television class only needs to know that they can turn on or off the television, adjust the volume, and change the channel. They don't need to know how these actions are performed.\n",
    "\n",
    "Encapsulation can be applied to the Television class by making the properties on/off, volume, and channel private, and providing public methods to access and modify these properties. This way, the data is protected from outside interference, and the implementation details are hidden.\n",
    "\n",
    "In conclusion, abstraction hides the complexity of the system, while encapsulation wraps data and functions within an object, protecting the data and hiding the implementation details. Both abstraction and encapsulation are important concepts in OOP that help to create maintainable and scalable systems."
   ]
  },
  {
   "cell_type": "markdown",
   "id": "f7cb7da0-df2e-41ae-84c9-0ff0852cb131",
   "metadata": {},
   "source": [
    "### Q3. What is abc module in python? Why is it used?"
   ]
  },
  {
   "cell_type": "markdown",
   "id": "f3a246fb-9320-4eef-bf69-2c8ba80a4d63",
   "metadata": {},
   "source": [
    "The abc module in Python is short for \"Abstract Base Class.\" It is a module in the Python Standard Library that provides the infrastructure for defining abstract base classes (ABCs) in Python. An abstract base class is a class that defines a common interface for its derived classes, but cannot be instantiated itself.\n",
    "\n",
    "The abc module is used to enforce the concept of abstraction in Python. It allows you to define abstract methods in a base class that must be implemented by its derived classes. This way, you can define a common interface that must be followed by all classes that inherit from the base class."
   ]
  },
  {
   "cell_type": "markdown",
   "id": "0e64db2d-2ac6-425a-a8eb-c9a707ee5c84",
   "metadata": {},
   "source": [
    "### Q4. How can we achieve data abstraction?"
   ]
  },
  {
   "cell_type": "markdown",
   "id": "59b6a6c2-ca02-4611-afc0-68d8c75308d3",
   "metadata": {},
   "source": [
    "Data abstraction is a technique in which the implementation details of a data structure are hidden from the user, and only the essential information is presented. It helps to reduce the complexity of the system and improve the modularity of the code by breaking the system into smaller, more manageable parts.\n",
    "\n",
    "In programming, data abstraction is typically achieved through the use of abstract data types (ADTs) or classes. An abstract data type defines the operations that can be performed on the data, but does not specify how the operations are implemented.\n",
    "\n",
    "There are two main ways to achieve data abstraction in programming:\n",
    "\n",
    "1.Encapsulation: Encapsulation is a technique that combines the data and the functions that operate on the data into a single unit, or object. The data is protected from outside interference and misuse, and the implementation details are hidden. In an object-oriented programming language, encapsulation can be achieved through the use of classes and objects.\n",
    "\n",
    "2.Information hiding: Information hiding is a technique in which the implementation details of a data structure or algorithm are hidden from the user. This way, the user can only access the data through a well-defined interface, and the implementation details are hidden. Information hiding can be achieved through the use of functions, procedures, or methods."
   ]
  },
  {
   "cell_type": "markdown",
   "id": "4b979691-4035-4364-aa4d-a6029b8454a1",
   "metadata": {},
   "source": [
    "### Q5. Can we create an instance of an abstract class? Explain your answer."
   ]
  },
  {
   "cell_type": "markdown",
   "id": "9e63112a-9751-4baa-ba8d-fafcc5ad94a3",
   "metadata": {},
   "source": [
    "No, we cannot create an instance of an abstract class. An abstract class is a class that is meant to be a base class for other classes and cannot be instantiated itself. It provides a common interface for its derived classes to follow, but does not have a complete implementation of its own.\n",
    "\n",
    "The purpose of an abstract class is to enforce abstraction, meaning that the derived classes must implement certain methods or provide certain information. If a class is declared as an abstract class, it cannot be instantiated directly. You must create an instance of one of its derived classes, which must provide implementations for the abstract methods or properties defined in the abstract class."
   ]
  }
 ],
 "metadata": {
  "kernelspec": {
   "display_name": "Python 3 (ipykernel)",
   "language": "python",
   "name": "python3"
  },
  "language_info": {
   "codemirror_mode": {
    "name": "ipython",
    "version": 3
   },
   "file_extension": ".py",
   "mimetype": "text/x-python",
   "name": "python",
   "nbconvert_exporter": "python",
   "pygments_lexer": "ipython3",
   "version": "3.10.8"
  }
 },
 "nbformat": 4,
 "nbformat_minor": 5
}
