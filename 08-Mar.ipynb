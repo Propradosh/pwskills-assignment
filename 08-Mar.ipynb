{
 "cells": [
  {
   "cell_type": "markdown",
   "id": "0177a429-ff26-4039-956b-65fc20a21b22",
   "metadata": {},
   "source": [
    "### Q1. What is the Probability density function?"
   ]
  },
  {
   "cell_type": "markdown",
   "id": "989402ce-4f9c-458f-863d-f1aabff4ec3a",
   "metadata": {},
   "source": [
    "A probability density function (PDF) is a function that describes the probability distribution of a continuous random variable. The PDF represents the relative likelihood of observing different values of the random variable, and the area under the PDF curve over a specific interval represents the probability of the random variable taking on a value in that interval.\n",
    "\n",
    "The PDF is defined such that the integral over the entire domain of the variable is equal to 1. This ensures that the total probability of all possible outcomes is equal to 1.\n",
    "\n",
    "The PDF is often denoted by f(x), where x is the random variable. The PDF is used to calculate the probability of a random variable falling within a specific range of values, which can be done by integrating the PDF over that range.\n",
    "\n",
    "The PDF can take on different shapes, depending on the probability distribution of the random variable. For example, the PDF for a normal distribution is bell-shaped and symmetric, while the PDF for a uniform distribution is constant over a specific range.\n",
    "\n",
    "The PDF is a fundamental concept in probability theory and is used in many statistical analyses, including hypothesis testing, estimation, and modeling."
   ]
  },
  {
   "cell_type": "markdown",
   "id": "2bd1f04a-076e-4b3d-9de7-3138749b1417",
   "metadata": {},
   "source": [
    "### Q2. What are the types of Probability distribution?"
   ]
  },
  {
   "cell_type": "markdown",
   "id": "c67639a2-88c9-4b35-bb97-37aa3d810ce1",
   "metadata": {},
   "source": [
    "There are several types of probability distributions, including:\n",
    "\n",
    "1. Normal distribution: A bell-shaped distribution that is symmetric and characterized by its mean and standard deviation.\n",
    "\n",
    "2. Binomial distribution: A discrete distribution that models the number of successes in a fixed number of independent trials, each with the same probability of success.\n",
    "\n",
    "3. Poisson distribution: A discrete distribution that models the number of occurrences of a rare event in a fixed interval of time or space.\n",
    "\n",
    "4. Exponential distribution: A continuous distribution that models the time between occurrences of a rare event, such as the time between customers arriving at a store.\n",
    "\n",
    "5. Uniform distribution: A continuous distribution that models the probability of an event occurring uniformly across a range of values.\n",
    "\n",
    "6. Gamma distribution: A continuous distribution that models the waiting time for a certain number of events to occur, such as the time until a certain number of failures in a manufacturing process.\n",
    "\n",
    "7. Beta distribution: A continuous distribution that models probabilities of events that have two possible outcomes, such as the probability of a coin flip resulting in heads or tails.\n",
    "\n",
    "These are just a few examples of probability distributions, and there are many others that are used in different fields of study. The choice of which distribution to use depends on the nature of the data and the specific research question being investigated."
   ]
  },
  {
   "cell_type": "markdown",
   "id": "75db2354-1c32-4a7a-b0b4-4a55136ca98e",
   "metadata": {},
   "source": [
    "### Q3. Write a Python function to calculate the probability density function of a normal distribution with given mean and standard deviation at a given point."
   ]
  },
  {
   "cell_type": "code",
   "execution_count": 5,
   "id": "05483e4c-7175-431d-8d6a-98879cbd74a6",
   "metadata": {},
   "outputs": [],
   "source": [
    "import math\n",
    "\n",
    "def normal_pdf(x, mean, std_dev):\n",
    "    \"\"\"\n",
    "    Calculate the value of the probability density function (PDF) of a normal distribution\n",
    "    with the given mean and standard deviation at the given point x.\n",
    "    \"\"\"\n",
    "    exponent = -((x - mean) ** 2) / (2 * (std_dev ** 2))\n",
    "    coefficient = 1 / (std_dev * math.sqrt(2 * math.pi))\n",
    "    pdf_value = coefficient * math.exp(exponent)\n",
    "    return pdf_value"
   ]
  },
  {
   "cell_type": "markdown",
   "id": "f5da9126-bbc4-405f-9fe3-727ee02d2641",
   "metadata": {},
   "source": [
    "Example calculating pdf for Normal Distribution at x=8 with mean=5 and std_dev=3"
   ]
  },
  {
   "cell_type": "code",
   "execution_count": 6,
   "id": "e0371022-70f8-45e9-a0f8-4eeb157bd71e",
   "metadata": {},
   "outputs": [
    {
     "name": "stdout",
     "output_type": "stream",
     "text": [
      "0.0806569081730478\n"
     ]
    }
   ],
   "source": [
    "mean = 5\n",
    "std_dev = 3\n",
    "x = 8\n",
    "pdf_value = normal_pdf(x, mean, std_dev)\n",
    "print(pdf_value)"
   ]
  },
  {
   "cell_type": "markdown",
   "id": "42ff1f1c-a7e9-4948-bed9-608e03e4e2f3",
   "metadata": {},
   "source": [
    "### Q4. What are the properties of Binomial distribution? Give two examples of events where binomial distribution can be applied."
   ]
  },
  {
   "cell_type": "markdown",
   "id": "b48364eb-ab1c-4543-8464-a4e579e6616f",
   "metadata": {},
   "source": [
    "The binomial distribution has several important properties:\n",
    "\n",
    "1. The binomial distribution models a fixed number of independent trials, each with the same probability of success.\n",
    "\n",
    "2. The binomial distribution is discrete, meaning that it can only take on integer values.\n",
    "\n",
    "3. The binomial distribution is characterized by two parameters: n, the number of trials, and p, the probability of success in each trial.\n",
    "\n",
    "4. The mean of the binomial distribution is equal to n * p, and the variance is equal to n * p * (1 - p).\n",
    "\n",
    "5. The shape of the binomial distribution depends on the values of n and p. As n increases and/or p gets closer to 0.5, the binomial distribution becomes more symmetric and bell-shaped.\n",
    "\n",
    "Two examples of events where the binomial distribution can be applied are:\n",
    "\n",
    "1. Flipping a coin multiple times: Suppose you flip a fair coin 10 times and want to know the probability of getting exactly 5 heads. This can be modeled using a binomial distribution with n=10 and p=0.5.\n",
    "\n",
    "2. Manufacturing defects: Suppose a manufacturing process produces items with a defect rate of 10%. If you randomly select 20 items from the production line, the number of defective items can be modeled using a binomial distribution with n=20 and p=0.1."
   ]
  },
  {
   "cell_type": "markdown",
   "id": "c3a12c55-9109-4ee1-94f1-22bce832f0c3",
   "metadata": {},
   "source": [
    "### Q5. Generate a random sample of size 1000 from a binomial distribution with probability of success 0.4 and plot a histogram of the results using matplotlib."
   ]
  },
  {
   "cell_type": "code",
   "execution_count": 7,
   "id": "c0656e0f-2102-4075-9ee5-a9ac7cc2e0d9",
   "metadata": {},
   "outputs": [
    {
     "data": {
      "image/png": "[encoded data removed]",
      "text/plain": [
       "<Figure size 640x480 with 1 Axes>"
      ]
     },
     "metadata": {},
     "output_type": "display_data"
    }
   ],
   "source": [
    "import numpy as np\n",
    "import matplotlib.pyplot as plt\n",
    "\n",
    "# Generate a random sample of size 1000 from a Binomial distribution\n",
    "n = 1000  # Sample size\n",
    "p = 0.4  # Probability of success\n",
    "sample = np.random.binomial(n, p, size=1000)\n",
    "\n",
    "# Plot a histogram of the results using Fredman diaconis rule i.e. bins='fd'\n",
    "plt.hist(sample,bins='fd',density=True, edgecolor='black')\n",
    "plt.xlabel('Number of Successes')\n",
    "plt.ylabel('Probability')\n",
    "plt.title('Binomial Distribution (n=1000, p=0.4)')\n",
    "plt.show()"
   ]
  },
  {
   "cell_type": "markdown",
   "id": "011ad74d-f94f-4854-b40b-e8584756dc50",
   "metadata": {},
   "source": [
    "### Q6. Write a Python function to calculate the cumulative distribution function of a Poisson distribution with given mean at a given point."
   ]
  },
  {
   "cell_type": "code",
   "execution_count": 9,
   "id": "392ba2f9-b118-4576-972c-862438416692",
   "metadata": {},
   "outputs": [],
   "source": [
    "from scipy.stats import poisson\n",
    "\n",
    "def poisson_cdf(mean, x):\n",
    "    \"\"\"Calculate the CDF of a Poisson distribution with given mean at a given point x\"\"\"\n",
    "    cdf = poisson.cdf(x, mean)\n",
    "    return cdf\n"
   ]
  },
  {
   "cell_type": "code",
   "execution_count": 18,
   "id": "0ef78d5a-9cc0-49dc-b42a-9a19398766a3",
   "metadata": {},
   "outputs": [
    {
     "name": "stdout",
     "output_type": "stream",
     "text": [
      "Poison cdf for mean is 0.7575761331330662\n"
     ]
    }
   ],
   "source": [
    "mean = 2.5\n",
    "x = 3\n",
    "cdf = poisson_cdf(mean, x)\n",
    "print(f\"Poison cdf for mean is {cdf}\")\n"
   ]
  },
  {
   "cell_type": "code",
   "execution_count": 13,
   "id": "823f73ff-a872-4e8d-8664-9269c31e49c8",
   "metadata": {},
   "outputs": [
    {
     "data": {
      "text/plain": [
       "0.7575761331330662"
      ]
     },
     "execution_count": 13,
     "metadata": {},
     "output_type": "execute_result"
    }
   ],
   "source": [
    "#Verifying with scipy.stats\n",
    "from scipy.stats import poisson\n",
    "poisson.cdf(3,mu=2.5)"
   ]
  },
  {
   "cell_type": "markdown",
   "id": "c010bc9e-8e6c-4a7d-8794-6348e4372564",
   "metadata": {},
   "source": [
    "### Q7. How Binomial distribution different from Poisson distribution?"
   ]
  },
  {
   "cell_type": "markdown",
   "id": "ac4b8033-531b-4be8-916e-55557936145b",
   "metadata": {},
   "source": [
    "Binomial and Poisson distributions are both used to model the probability of certain events occurring, but they have different characteristics and applications.\n",
    "\n",
    "The main differences between binomial and Poisson distributions are:\n",
    "\n",
    "1. Number of trials: Binomial distribution is used when there are a fixed number of independent trials, while Poisson distribution is used when the number of trials is very large or unknown.\n",
    "\n",
    "2. Probability of success: In binomial distribution, the probability of success is fixed for each trial, while in Poisson distribution, the probability of success is usually very small and decreases as the number of trials increases.\n",
    "\n",
    "3. Outcome: Binomial distribution models the number of successes in a fixed number of trials, while Poisson distribution models the number of events that occur in a given time period or space, assuming that events occur independently and at a constant rate.\n",
    "\n",
    "4. Mean and variance: For binomial distribution, the mean and variance are both given by np, where n is the number of trials and p is the probability of success. For Poisson distribution, the mean and variance are both equal to λ, the rate parameter.\n",
    "\n",
    "Examples of situations where binomial distribution can be used include flipping a coin a fixed number of times and counting the number of heads, or testing a drug on a group of patients and counting the number of positive outcomes. Examples of situations where Poisson distribution can be used include counting the number of cars that pass through a toll booth in a given time period, or counting the number of defects in a manufacturing process.\n",
    "\n",
    "\n",
    "\n",
    "\n"
   ]
  },
  {
   "cell_type": "markdown",
   "id": "cd57a201-2ccc-4e7a-b545-1719553fd16b",
   "metadata": {},
   "source": [
    "### Q8. Generate a random sample of size 1000 from a Poisson distribution with mean 5 and calculate the sample mean and variance."
   ]
  },
  {
   "cell_type": "code",
   "execution_count": 21,
   "id": "2391df56-f82c-452d-a351-6d8c32df4e43",
   "metadata": {},
   "outputs": [
    {
     "name": "stdout",
     "output_type": "stream",
     "text": [
      "Sample mean: 5.092\n",
      "Sample variance: 5.187536\n"
     ]
    }
   ],
   "source": [
    "import numpy as np\n",
    "\n",
    "# Generate a random sample of size 1000 from a Poisson distribution with mean 5\n",
    "sample = np.random.poisson(5, size=1000)\n",
    "\n",
    "# Calculate the sample mean and variance\n",
    "sample_mean = np.mean(sample)\n",
    "sample_var = np.var(sample)\n",
    "\n",
    "print(\"Sample mean:\", sample_mean)\n",
    "print(\"Sample variance:\", sample_var)\n"
   ]
  },
  {
   "cell_type": "markdown",
   "id": "8bee0d80-1bb9-4dd3-a656-4a1ca202462d",
   "metadata": {},
   "source": [
    "### Q9. How mean and variance are related in Binomial distribution and Poisson distribution?"
   ]
  },
  {
   "cell_type": "markdown",
   "id": "9a958e55-bdba-4352-8c98-7f4a2d40f783",
   "metadata": {},
   "source": [
    "In both Binomial and Poisson distributions, the mean and variance are related.\n",
    "\n",
    "For a Binomial distribution with parameters n (number of trials) and p (probability of success), the mean (μ) and variance (σ^2) are:\n",
    "\n",
    "μ = np\n",
    "σ^2 = np(1-p)\n",
    "\n",
    "where np is the expected number of successes, and np(1-p) is the variance of the number of successes.\n",
    "\n",
    "For a Poisson distribution with parameter λ (the rate parameter), the mean (μ) and variance (σ^2) are:\n",
    "\n",
    "μ = λ\n",
    "σ^2 = λ\n",
    "\n",
    "In both cases, the variance is a function of the mean. For a Binomial distribution, the variance increases as the probability of success gets closer to 0.5, and the distribution becomes more spread out. For a Poisson distribution, the variance is always equal to the mean, and the distribution becomes more spread out as the rate parameter increases.\n",
    "\n",
    "The relationship between mean and variance is an important characteristic of probability distributions, since it can provide insights into the shape and behavior of the distribution.\n",
    "\n",
    "\n",
    "\n",
    "\n"
   ]
  },
  {
   "cell_type": "markdown",
   "id": "ada001f3-70b0-4921-962d-c24df6c1d53d",
   "metadata": {},
   "source": [
    "### Q10. In normal distribution with respect to mean position, where does the least frequent data appear?"
   ]
  },
  {
   "cell_type": "markdown",
   "id": "c3f8a17f-cac3-4cc4-af55-5748b366e9cb",
   "metadata": {},
   "source": [
    "In a normal distribution, the least frequent data appears at the tails of the distribution, which are the points farthest away from the mean.\n",
    "\n",
    "For a normal distribution, the mean, median, and mode are all located at the center of the distribution. The distribution is symmetric around the mean, so the same amount of data is located to the left and right of the mean. As we move away from the mean in either direction, the frequency of data points decreases rapidly, until it reaches its lowest point at the tails of the distribution.\n",
    "\n",
    "In fact, for a normal distribution, the tails of the distribution extend infinitely in both directions, meaning that there is a non-zero probability of observing a data point that is arbitrarily far from the mean (although the probability of such an event becomes vanishingly small as we move farther away from the mean).\n",
    "\n",
    "\n",
    "\n",
    "\n"
   ]
  }
 ],
 "metadata": {
  "kernelspec": {
   "display_name": "Python 3 (ipykernel)",
   "language": "python",
   "name": "python3"
  },
  "language_info": {
   "codemirror_mode": {
    "name": "ipython",
    "version": 3
   },
   "file_extension": ".py",
   "mimetype": "text/x-python",
   "name": "python",
   "nbconvert_exporter": "python",
   "pygments_lexer": "ipython3",
   "version": "3.10.8"
  }
 },
 "nbformat": 4,
 "nbformat_minor": 5
}
