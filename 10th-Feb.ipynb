{
 "cells": [
  {
   "cell_type": "markdown",
   "id": "5725ae52-1a11-4611-a899-9019bc3c0dc8",
   "metadata": {},
   "source": [
    "### Q1. Which function is used to open a file? What are the different modes of opening a file? Explain each mode of file opening."
   ]
  },
  {
   "cell_type": "markdown",
   "id": "14906d8a-bbfc-409f-a62e-0d1f72609240",
   "metadata": {},
   "source": [
    "The function used to open a file in Python is the open() function. The open() function takes two parameters: the name of the file, and the mode in which the file is opened.\n",
    "\n",
    "Code Example:  {{ data = open(\"test.txt\",\"r\")  }} read only mode\n",
    "\n",
    "There are several modes in which a file can be opened:\n",
    "\n",
    "1. 'r' (Read Only): This mode is used when you only need to read the contents of a file. If the file does not exist, an error is raised.\n",
    "\n",
    "2. 'w' (Write Only): This mode is used when you want to write to a file. If the file exists, its contents are truncated (deleted), and if the file   does not exist, it is created.\n",
    "\n",
    "3. 'a' (Append Only): This mode is used when you want to add new data to a file. If the file exists, the data is added to the end of the file, and if the file does not exist, it is created.\n",
    "\n",
    "4. 'x' (Write and Create): This mode is used when you want to create a file. If the file already exists, an error is raised.\n",
    "\n",
    "5. 'b' (Binary Mode): This mode is used when you are working with binary files, such as images, audio, and video files.\n",
    "\n",
    "6. 't' (Text Mode): This mode is used when you are working with text files. This is the default mode in which files are opened.\n",
    "\n",
    "   You can open a file in multiple modes by combining the above modes. For example, you can open a file in read and write mode by using 'rb+', and you can open a file in write and create mode by using 'xb'.\n",
    "\n",
    "\n",
    "\n"
   ]
  },
  {
   "cell_type": "markdown",
   "id": "b08da70d-1821-4197-9ee9-f25de3efb452",
   "metadata": {},
   "source": [
    "### Q2. Why close() function is used? Why is it important to close a file?"
   ]
  },
  {
   "cell_type": "markdown",
   "id": "c98605f3-66e8-48cb-8e15-9f59805af04a",
   "metadata": {},
   "source": [
    "The close() function is used to close a file after you are done working with it. When you open a file, the operating system allocates resources, such as memory, to handle the file. If you do not close the file after you are done with it, these resources will not be freed, and you may run into issues, such as running out of memory.\n",
    "\n",
    "It's important to close a file because, until you close a file, any changes you make to the file will not be saved. Also, by closing a file, you free up the resources that the file was using, allowing them to be used by other processes. This can help improve the performance of your system and avoid potential resource leaks.\n",
    "\n",
    "In addition, it's a good practice to close a file after you are done with it, to ensure that all the changes you made to the file are saved, and that the file is in a consistent state. This can help prevent data corruption or loss, which can occur if a file is not properly closed."
   ]
  },
  {
   "cell_type": "markdown",
   "id": "27889ab6-ba4b-4ec7-a809-f13c7ecc6b28",
   "metadata": {},
   "source": [
    "### Q3. Write a python program to create a text file. Write ‘I want to become a Data Scientist’ in that file. Then close the file. Open this file and read the content of the file."
   ]
  },
  {
   "cell_type": "code",
   "execution_count": 1,
   "id": "dbcba6dd-5406-4f37-b044-2dfec3fe7546",
   "metadata": {},
   "outputs": [
    {
     "name": "stdout",
     "output_type": "stream",
     "text": [
      "I want to become a Data Scientist\n"
     ]
    }
   ],
   "source": [
    "# Creating a text file\n",
    "filename = \"text_file.txt\"\n",
    "\n",
    "# Opening the file in write mode\n",
    "file = open(filename, \"w\")\n",
    "\n",
    "# Writing to the file\n",
    "file.write(\"I want to become a Data Scientist\")\n",
    "\n",
    "# Closing the file\n",
    "file.close()\n",
    "\n",
    "# Opening the file in read mode\n",
    "file = open(filename, \"r\")\n",
    "\n",
    "# Reading the contents of the file\n",
    "contents = file.read()\n",
    "\n",
    "# Printing the contents of the file\n",
    "print(contents)\n",
    "\n",
    "# Closing the file\n",
    "file.close()\n"
   ]
  },
  {
   "cell_type": "markdown",
   "id": "22d7843d-72eb-433c-9374-ab6cf370ffd1",
   "metadata": {},
   "source": [
    "### Q4. Explain the following with python code: read(), readline() and readlines()."
   ]
  },
  {
   "cell_type": "code",
   "execution_count": null,
   "id": "50908d09-5753-4214-b9d3-cee21e7ca752",
   "metadata": {},
   "outputs": [],
   "source": [
    "Ans : The read(), readline(), and readlines() functions are used to read the contents of a text file in Python.\n",
    "\n",
    "1. read() function: The read() function reads the entire contents of a file as a single string. \n",
    "\n",
    "Example of read() function:\n",
    "\n",
    "# Open the file in read mode\n",
    "file = open(\"text_file.txt\", \"r\")\n",
    "\n",
    "# Read the entire contents of the file\n",
    "contents = file.read()\n",
    "\n",
    "# Print the contents\n",
    "print(contents)\n",
    "\n",
    "# Close the file\n",
    "file.close()\n",
    "\n",
    "2. readline() function: The readline() function reads one line of the file at a time. \n",
    "\n",
    "Example of readline() function:\n",
    "    \n",
    "# Open the file in read mode\n",
    "file = open(\"text_file.txt\", \"r\")\n",
    "\n",
    "# Read one line at a time\n",
    "line = file.readline()\n",
    "\n",
    "# Print the line\n",
    "print(line)\n",
    "\n",
    "# Close the file\n",
    "file.close()\n",
    "\n",
    "3. readlines() function: The readlines() function reads the entire contents of the file and returns a list of strings, where each string is one \n",
    "   line of the file. \n",
    "    \n",
    "Example of readlines() function:\n",
    "    \n",
    "# Open the file in read mode\n",
    "file = open(\"text_file.txt\", \"r\")\n",
    "\n",
    "# Read the entire contents of the file\n",
    "lines = file.readlines()\n",
    "\n",
    "# Print the contents\n",
    "print(lines)\n",
    "\n",
    "# Close the file\n",
    "file.close()\n"
   ]
  },
  {
   "cell_type": "markdown",
   "id": "9d301320-a978-480f-8106-da85a1141e63",
   "metadata": {},
   "source": [
    "### Q5. Explain why with statement is used with open(). What is the advantage of using with statement and open() together?"
   ]
  },
  {
   "cell_type": "markdown",
   "id": "c17e382c-fb87-47c9-896a-e10b3d9373ba",
   "metadata": {},
   "source": [
    "The with statement works with the open() function to open a file. Unlike open() where you have to close the file with the close() method, the with statement closes the file for you without you telling it to.\n",
    "\n",
    "ADVANTAGE:            \n",
    "The with statement closes the file for you and you get to write less code.'''"
   ]
  },
  {
   "cell_type": "markdown",
   "id": "63cea964-257f-4542-ae93-fe39e55a136d",
   "metadata": {},
   "source": [
    "### Q6. Explain the write() and writelines() functions. Give a suitable example."
   ]
  },
  {
   "cell_type": "markdown",
   "id": "6348f082-e7d3-40f7-8efe-63c263f89aaf",
   "metadata": {},
   "source": [
    "The write() and writelines() functions are used to write content to a file in Python.\n",
    "\n",
    "1. Write() function: The write() function is used to write a string to a file. The string must be passed as an argument to the write() function. If the file does not exist, it will be created. If the file exists, the existing content will be overwritten. "
   ]
  },
  {
   "cell_type": "code",
   "execution_count": 4,
   "id": "d305fcd8-b5b1-48d0-b063-204637218b9d",
   "metadata": {},
   "outputs": [],
   "source": [
    "# Example of using the write() function:\n",
    "    \n",
    "filename = \"text_file.txt\"\n",
    "\n",
    "# Open the file in write mode\n",
    "with open(filename, \"w\") as file:\n",
    "    # Write a string to the file\n",
    "    file.write(\"I want to become a Data Scientist\")\n"
   ]
  },
  {
   "cell_type": "markdown",
   "id": "9003b60e-6a27-49d9-a270-63ffdccddfeb",
   "metadata": {},
   "source": [
    "2. Writelines() function: The writelines() function is used to write a sequence of strings to a file. The sequence of strings must be passed as an argument to the writelines() function. If the file does not exist, it will be created. If the file exists, the existing content will be overwritten. "
   ]
  },
  {
   "cell_type": "code",
   "execution_count": 5,
   "id": "43893b07-ad0f-40a1-a58f-6295ac37531b",
   "metadata": {},
   "outputs": [],
   "source": [
    "# Example of using the writelines() function:\n",
    "\n",
    "file = open(\"text_file.txt\", \"w\")\n",
    "\n",
    "# List of lines to be written to the file\n",
    "lines = [\"line 1\\n\", \"line 2\\n\", \"line 3\\n\"]\n",
    "\n",
    "# Writing the lines to the file using writelines()\n",
    "file.writelines(lines)\n",
    "\n",
    "# Closing the file\n",
    "file.close()\n"
   ]
  },
  {
   "cell_type": "code",
   "execution_count": null,
   "id": "8f119a6a-d08a-46ba-a793-da4737d3fa06",
   "metadata": {},
   "outputs": [],
   "source": []
  }
 ],
 "metadata": {
  "kernelspec": {
   "display_name": "Python 3 (ipykernel)",
   "language": "python",
   "name": "python3"
  },
  "language_info": {
   "codemirror_mode": {
    "name": "ipython",
    "version": 3
   },
   "file_extension": ".py",
   "mimetype": "text/x-python",
   "name": "python",
   "nbconvert_exporter": "python",
   "pygments_lexer": "ipython3",
   "version": "3.10.8"
  }
 },
 "nbformat": 4,
 "nbformat_minor": 5
}
