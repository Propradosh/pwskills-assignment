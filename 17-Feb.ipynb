{
 "cells": [
  {
   "cell_type": "markdown",
   "id": "8545bd3b-c90e-4e22-b2b0-51136674b892",
   "metadata": {},
   "source": [
    "### Q1. What is MongoDB? Explain non-relational databases in short. In which scenarios it is preferred to use MongoDB over SQL databases?"
   ]
  },
  {
   "cell_type": "markdown",
   "id": "b08e7a88-d733-45a7-a703-8781685cfe01",
   "metadata": {},
   "source": [
    "MongoDB is a document-oriented NoSQL database that stores data in flexible, semi-structured JSON-like documents. It is designed to scale horizontally across many servers and to handle large amounts of unstructured or semi-structured data. MongoDB is open-source software and is available under the GNU Affero General Public License.\n",
    "\n",
    "Non-relational databases, or NoSQL databases, are databases that do not use the traditional relational model of tables with fixed columns and rows. Instead, they use flexible document-based or key-value data models that allow for more efficient and scalable storage of unstructured or semi-structured data. Non-relational databases can be faster and more flexible than traditional SQL databases, but they can also be more complex to use.\n",
    "\n",
    "MongoDB is often preferred over SQL databases in scenarios where:-\n",
    "\n",
    "1. You have large volumes of unstructured or semi-structured data that does not fit well into a traditional SQL database schema.\n",
    "2. You need to be able to scale horizontally across many servers to handle large amounts of data or high traffic volumes.\n",
    "3. You need to be able to query and analyze data in real-time, without the need for complex joins or aggregations.\n",
    "4. You want a flexible, schema-less data model that can be easily modified and updated without requiring changes to the database schema.\n",
    "5. You are developing applications that require high availability and fault tolerance, as MongoDB is designed to support replication and automatic failover.\n",
    "\n",
    "   In summary, MongoDB is a popular document-oriented NoSQL database that provides a flexible, scalable, and fast alternative to traditional SQL databases for storing and managing unstructured or semi-structured data. Non-relational databases are generally preferred in scenarios where flexibility, scalability, and performance are more important than strict data consistency and adherence to a fixed schema.\n",
    "\n",
    "\n",
    "\n"
   ]
  },
  {
   "cell_type": "markdown",
   "id": "7911ccd7-459c-439e-a39b-35a29dfe5b8c",
   "metadata": {},
   "source": [
    "### Q2. State and Explain the features of MongoDB."
   ]
  },
  {
   "cell_type": "markdown",
   "id": "c3777ed9-5314-4e05-8c08-cfaf3afd873c",
   "metadata": {},
   "source": [
    "MongoDB is a popular NoSQL database that is designed to store and manage large amounts of unstructured or semi-structured data. Some of the key features of MongoDB include:\n",
    "\n",
    "1. Document-oriented: MongoDB stores data as flexible, semi-structured documents in a BSON format (a binary representation of JSON). This makes it easy to store and retrieve data in a format that closely matches the data structures used by applications.\n",
    "\n",
    "2. Schema-less: MongoDB does not enforce a fixed schema, which means that you can add or remove fields from a document without having to modify the entire collection or schema. This makes it easy to adapt to changing data requirements.\n",
    "\n",
    "3. Flexible querying: MongoDB provides a powerful query language that supports a wide range of operations, including ad-hoc queries, aggregation, and geospatial queries. It also supports indexing to speed up query performance.\n",
    "\n",
    "4. Replication and Sharding: MongoDB supports replication and sharding, which allows you to scale your database horizontally across multiple servers or clusters. This provides high availability and automatic failover in case of hardware or network failures.\n",
    "\n",
    "5. Ad hoc queries: MongoDB allows you to perform ad hoc queries on data using a query language that is similar to SQL. You can use a range of operators and functions to filter, sort, and group data.\n",
    "\n",
    "6. Automatic sharding: MongoDB automatically distributes data across multiple servers to ensure high availability and scalability.\n",
    "\n",
    "7. High performance: MongoDB is designed for high performance and scalability, and is able to handle large volumes of data and high traffic loads.\n",
    "\n",
    "In summary, MongoDB provides a range of powerful features that make it a popular choice for managing large amounts of unstructured or semi-structured data. Its document-oriented and schema-less approach, flexible querying, and support for replication and sharding make it easy to adapt to changing data requirements and to scale your database to handle high volumes of data and traffic.\n",
    "\n",
    "\n",
    "\n",
    "\n"
   ]
  },
  {
   "cell_type": "markdown",
   "id": "624694d0-4e40-439f-9925-4654133bebbe",
   "metadata": {},
   "source": [
    "### Q3. Write a code to connect MongoDB to Python. Also, create a database and a collection in MongoDB."
   ]
  },
  {
   "cell_type": "markdown",
   "id": "1e76aee6-4732-44f9-a318-8b2d311011b8",
   "metadata": {},
   "source": [
    "To connect MongoDB to Python, you can use the PyMongo library, which is the official Python driver for MongoDB. Here is an example code snippet to connect to MongoDB, create a database, and a collection:"
   ]
  },
  {
   "cell_type": "code",
   "execution_count": 9,
   "id": "329d3c22-202b-477e-b84b-791fed344d4f",
   "metadata": {},
   "outputs": [],
   "source": [
    "import pymongo\n",
    "\n",
    "# establish a connection to MongoDB\n",
    "client = pymongo.MongoClient(\"mongodb://localhost:27017/\")\n",
    "\n",
    "# create a database\n",
    "mydb = client[\"mydatabase\"]\n",
    "\n",
    "# create a collection\n",
    "mycol = mydb[\"customers\"]\n",
    "\n",
    "# insert a document into the collection\n",
    "mydict = { \"name\": \"John\", \"address\": \"Highway 37\" }\n",
    "x = mycol.insert_one(mydict)\n",
    "\n",
    "# print the inserted document's ID\n",
    "print(x.inserted_id)"
   ]
  },
  {
   "cell_type": "markdown",
   "id": "ecc896e8-b5d5-4f5c-868f-0b3bd76d2725",
   "metadata": {},
   "source": [
    "In this example code, we first establish a connection to MongoDB using the MongoClient class and specifying the connection string. We then create a database named mydatabase using the client object. Finally, we create a collection named customers within the mydatabase database using the mydb object.\n",
    "\n",
    "We then insert a document into the customers collection using the insert_one() method, which returns an object containing the ID of the inserted document. Finally, we print the ID of the inserted document using the inserted_id attribute of the object."
   ]
  },
  {
   "cell_type": "markdown",
   "id": "9c58683f-de27-46ed-8361-6e3eaaf61f5d",
   "metadata": {},
   "source": [
    "### Q4. Using the database and the collection created in question number 3, write a code to insert one record, and insert many records. Use the find() and find_one() methods to print the inserted record."
   ]
  },
  {
   "cell_type": "code",
   "execution_count": null,
   "id": "5f507cee-68b4-4a85-a8ab-d9ed64643f3d",
   "metadata": {},
   "outputs": [],
   "source": [
    "# Import the PyMongo library\n",
    "import pymongo\n",
    "\n",
    "# Connect to the MongoDB server\n",
    "client = pymongo.MongoClient(\"mongodb://localhost:27017/\")\n",
    "\n",
    "# Create a reference to the \"mycollection\" collection in the \"mydatabase\" database\n",
    "db = client[\"mydatabase\"]\n",
    "collection = db[\"mycollection\"]\n",
    "\n",
    "# Insert one record into the collection\n",
    "record_one = {\"name\": \"Pinku\", \"age\": 25, \"city\": \"Cuttack\"}\n",
    "result_one = collection.insert_one(record_one)\n",
    "print(\"Inserted record ID:\", result_one.inserted_id)\n",
    "\n",
    "# Insert many records into the collection\n",
    "records_many = [\n",
    "    {\"name\": \"Ram\", \"age\": 26, \"city\": \"Puri\"},\n",
    "    {\"name\": \"Pradosh\", \"age\": 27, \"city\": \"Bhubaneswar\"},\n",
    "    {\"name\": \"Aswini\", \"age\": 28, \"city\": \"Kendrapara\"}\n",
    "]\n",
    "result_many = collection.insert_many(records_many)\n",
    "print(\"Inserted records IDs:\", result_many.inserted_ids)\n",
    "\n",
    "# Find one record in the collection\n",
    "query = {\"name\": \"Pinku\"}\n",
    "result = collection.find_one(query)\n",
    "print(\"Found record:\", result)\n",
    "\n",
    "# Find all records in the collection\n",
    "results = collection.find()\n",
    "print(\"All records:\")\n",
    "for result in results:\n",
    "    print(result)"
   ]
  },
  {
   "cell_type": "markdown",
   "id": "30ca78e5-203c-449c-b0b1-e4419deeb45f",
   "metadata": {},
   "source": [
    "### Q5. Explain how you can use the find() method to query the MongoDB database. Write a simple code to demonstrate this."
   ]
  },
  {
   "cell_type": "markdown",
   "id": "69251fe6-7e5b-4409-a123-c16812fed736",
   "metadata": {},
   "source": [
    "The find() method is used to query MongoDB collections to retrieve documents that match certain criteria. It accepts a query object as its argument, which specifies the selection criteria for the query.\n",
    "\n",
    "Here's an example code that demonstrates how to use the find() method to query a MongoDB database:"
   ]
  },
  {
   "cell_type": "code",
   "execution_count": 11,
   "id": "e8afdbe7-18cd-49fc-9269-ed5aa8cec5d5",
   "metadata": {},
   "outputs": [],
   "source": [
    "# Import pymongo library\n",
    "import pymongo\n",
    "\n",
    "# Connect to MongoDB server\n",
    "client = pymongo.MongoClient(\"mongodb://localhost:27017/\")\n",
    "\n",
    "# Select database and collection\n",
    "mydb = client[\"mydatabase\"]\n",
    "mycol = mydb[\"customers\"]\n",
    "\n",
    "# Define query criteria\n",
    "query = { \"name\": \"pradosh\" }\n",
    "\n",
    "# Find documents that match query criteria\n",
    "results = mycol.find(query)\n",
    "\n",
    "# Print results\n",
    "for result in results:\n",
    "  print(result)"
   ]
  },
  {
   "cell_type": "markdown",
   "id": "1165e2b6-2a56-401a-8d36-086ef7c9130f",
   "metadata": {},
   "source": [
    "### Q6. Explain the sort() method. Give an example to demonstrate sorting in MongoDB."
   ]
  },
  {
   "cell_type": "markdown",
   "id": "9085eae5-4ac7-4eea-8f03-062b5501c89a",
   "metadata": {},
   "source": [
    "The sort() method is used to sort the results of a MongoDB query in either ascending or descending order. This method takes one or more key-value pairs that specify the fields to sort by and the order in which to sort them.\n",
    "\n",
    "Here's an example to demonstrate how to use the sort() method to sort the results of a MongoDB query:"
   ]
  },
  {
   "cell_type": "code",
   "execution_count": null,
   "id": "7180990c-bde9-45e9-b893-4bf496db637f",
   "metadata": {},
   "outputs": [],
   "source": [
    "# Import the PyMongo library\n",
    "import pymongo\n",
    "\n",
    "# Connect to the MongoDB server\n",
    "client = pymongo.MongoClient(\"mongodb://localhost:27017/\")\n",
    "\n",
    "# Create a reference to the \"mycollection\" collection in the \"mydatabase\" database\n",
    "db = client[\"mydatabase\"]\n",
    "collection = db[\"mycollection\"]\n",
    "\n",
    "# Insert many records into the collection\n",
    "collection.records_many ([\n",
    "    {\"name\": \"Ram\", \"age\": 26, \"city\": \"Puri\"},\n",
    "    {\"name\": \"Pradosh\", \"age\": 27, \"city\": \"Bhubaneswar\"},\n",
    "    {\"name\": \"Aswini\", \"age\": 28, \"city\": \"Kendrapara\"}\n",
    "])\n",
    "\n",
    "# Sort the documents in the collection by age in ascending order\n",
    "results = collection.find().sort(\"age\", pymongo.ASCENDING)\n",
    "\n",
    "# Print the sorted documents\n",
    "for result in results:\n",
    "    print(result)"
   ]
  },
  {
   "cell_type": "markdown",
   "id": "ccf93c34-be69-4d4f-bb99-d059b08302ba",
   "metadata": {},
   "source": [
    "### Q7. Explain why delete_one(), delete_many(), and drop() is used."
   ]
  },
  {
   "cell_type": "markdown",
   "id": "408663c0-8c2a-4a1a-b0b8-22d9be794f84",
   "metadata": {},
   "source": [
    "In MongoDB, the delete_one() and delete_many() methods are used to remove documents from a collection that match a specified set of criteria. The drop() method is used to remove an entire collection from a database.\n",
    "\n",
    "Here's a brief explanation of each method:\n",
    "\n",
    "delete_one(filter): This method deletes the first document that matches the specified filter criteria. If there are multiple documents that match the criteria, only the first one is deleted. This method returns a DeleteResult object that contains information about the operation, such as the number of documents deleted.\n",
    "\n",
    "delete_many(filter): This method deletes all documents that match the specified filter criteria. This method returns a DeleteResult object that contains information about the operation, such as the number of documents deleted.\n",
    "\n",
    "drop(): This method removes an entire collection from the database. This method returns None.\n",
    "\n",
    "These methods are used to remove documents from a MongoDB collection for various reasons, such as removing outdated or invalid data, cleaning up unused records, or removing duplicates. The drop() method is used when you want to completely remove a collection from the database and all of its associated documents.\n",
    "\n",
    "It's important to note that when using any of these methods, you should exercise caution and double-check that you are deleting the correct documents or collections, as the deleted data cannot be recovered."
   ]
  },
  {
   "cell_type": "code",
   "execution_count": null,
   "id": "f94ebbfa-0294-47b2-9696-ffc5c4d15e47",
   "metadata": {},
   "outputs": [],
   "source": []
  }
 ],
 "metadata": {
  "kernelspec": {
   "display_name": "Python 3 (ipykernel)",
   "language": "python",
   "name": "python3"
  },
  "language_info": {
   "codemirror_mode": {
    "name": "ipython",
    "version": 3
   },
   "file_extension": ".py",
   "mimetype": "text/x-python",
   "name": "python",
   "nbconvert_exporter": "python",
   "pygments_lexer": "ipython3",
   "version": "3.10.8"
  }
 },
 "nbformat": 4,
 "nbformat_minor": 5
}
