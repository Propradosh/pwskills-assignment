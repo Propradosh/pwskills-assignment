{
 "cells": [
  {
   "cell_type": "markdown",
   "id": "20f2658a-f3fd-43dc-873f-ef81258bdff1",
   "metadata": {},
   "source": [
    "### Q1. Calculate the 95% confidence interval for a sample of data with a mean of 50 and a standard deviation of 5 using Python. Interpret the results."
   ]
  },
  {
   "cell_type": "markdown",
   "id": "befa6e0a-4fc7-4580-9ad1-c10c113b3063",
   "metadata": {},
   "source": [
    "##### Assuming sample size of 50"
   ]
  },
  {
   "cell_type": "code",
   "execution_count": 1,
   "id": "e1e55610-f094-48bc-bb38-c1b2ca0403a3",
   "metadata": {},
   "outputs": [
    {
     "name": "stdout",
     "output_type": "stream",
     "text": [
      "Critical t statistic for 95.00% for 50 samples : 2.0096\n",
      "Margin of error is : 1.42\n",
      "Point Estimate of mean is : 50\n",
      "Mean Estimate with 95% Confidence Interval: (48.58, 51.42)\n"
     ]
    }
   ],
   "source": [
    "import scipy.stats as stats\n",
    "\n",
    "sample_mean = 50\n",
    "sample_std_dev = 5\n",
    "sample_size = 50 # assuming a sample size of 50\n",
    "\n",
    "# calculate the standard error of the mean\n",
    "std_error_mean = sample_std_dev / (sample_size ** 0.5)\n",
    "\n",
    "# Confidence Level\n",
    "confidence_level = 0.95\n",
    "\n",
    "# significance level\n",
    "alpha = 1 -  confidence_level\n",
    "\n",
    "# calculate the t-value for a 95% confidence interval with 49 degrees of freedom\n",
    "t_value = stats.t.ppf(1-alpha/2, df=sample_size-1)\n",
    "\n",
    "# Print critical t-value \n",
    "print(f'Critical t statistic for {confidence_level*100:.2f}% for {sample_size} samples : {t_value:.4f}')\n",
    "\n",
    "# calculate the margin of error\n",
    "margin_of_error = t_value * std_error_mean\n",
    "print(f'Margin of error is : {margin_of_error:.2f}')\n",
    "print(f'Point Estimate of mean is : {sample_mean}')\n",
    "\n",
    "# calculate the lower and upper bounds of the confidence interval\n",
    "lower_bound = sample_mean - margin_of_error\n",
    "upper_bound = sample_mean + margin_of_error\n",
    "\n",
    "print(f\"Mean Estimate with 95% Confidence Interval: ({lower_bound:.2f}, {upper_bound:.2f})\")"
   ]
  },
  {
   "cell_type": "markdown",
   "id": "0a7ee505-7b3c-4780-b0fa-aee1284e0598",
   "metadata": {},
   "source": [
    "Interpretation : Above Results conclude that I can say with 95% confidence that my POPULATION MEAN lies in between 48.58 and 51.42 for sample size of 50"
   ]
  },
  {
   "cell_type": "markdown",
   "id": "4f5bf811-c8f5-46fa-8adc-16f7130fe173",
   "metadata": {},
   "source": [
    "### Q2. Conduct a chi-square goodness of fit test to determine if the distribution of colors of M&Ms in a bag matches the expected distribution of 20% blue, 20% orange, 20% green, 10% yellow, 10% red, and 20% brown. Use Python to perform the test with a significance level of 0.05."
   ]
  },
  {
   "cell_type": "markdown",
   "id": "20afd864-3296-4f34-a840-0c0ac036b5c0",
   "metadata": {},
   "source": [
    "Assuming following data : [10, 20, 15, 5, 5, 15]"
   ]
  },
  {
   "cell_type": "code",
   "execution_count": 1,
   "id": "38375299-41b4-480b-94f0-3f9037ce6ea5",
   "metadata": {},
   "outputs": [
    {
     "name": "stdout",
     "output_type": "stream",
     "text": [
      "Test Chi2 statistic: 5.0\n",
      "p-value: 0.4158801869955079\n",
      "Critical Chi Square value for 0.05 significance level for 5 degrees of freedom is : 11.0705\n",
      "Fail to reject null hypothesis\n",
      "Conclusion : The distribution of colors of M&Ms in the bag matches the expected distribution.\n"
     ]
    }
   ],
   "source": [
    "import numpy as np\n",
    "from scipy.stats import chisquare\n",
    "from scipy.stats import chi2\n",
    "\n",
    "# observed frequencies\n",
    "obs_freq = np.array([10, 20, 15, 5, 5, 15])\n",
    "\n",
    "# expected frequencies\n",
    "exp_freq = np.array([0.2, 0.2, 0.2, 0.1, 0.1, 0.2]) * np.sum(obs_freq)\n",
    "\n",
    "# Null and alternate hypothesis\n",
    "null_hypothesis = \"The distribution of colors of M&Ms in the bag matches the expected distribution.\"\n",
    "alternate_hypothesis = \"The distribution of colors of M&Ms in the bag does not match the expected distribution.\"\n",
    "\n",
    "# perform chi-square goodness of fit test\n",
    "test_statistic, p_value = chisquare(obs_freq, exp_freq)\n",
    "\n",
    "# print results\n",
    "print(\"Test Chi2 statistic:\", test_statistic)\n",
    "print(\"p-value:\", p_value)\n",
    "\n",
    "# Critical chi2 value\n",
    "df = len(obs_freq)-1\n",
    "alpha = 0.05\n",
    "chi2_crit = chi2.ppf(1-alpha,df)\n",
    "print(f\"Critical Chi Square value for {alpha} significance level for {df} degrees of freedom is : {chi2_crit:.4f}\")\n",
    "\n",
    "# compare p-value with significance level\n",
    "alpha = 0.05\n",
    "if p_value < alpha:\n",
    "    print(\"Reject null hypothesis\")\n",
    "    print(f\"Conculsion : {alternate_hypothesis}\")\n",
    "else:\n",
    "    print(\"Fail to reject null hypothesis\")\n",
    "    print(f\"Conclusion : {null_hypothesis}\")"
   ]
  },
  {
   "cell_type": "markdown",
   "id": "53bc3a52-7c70-4d40-a6e7-0c38f1d36730",
   "metadata": {},
   "source": [
    "### Q3. Use Python to calculate the chi-square statistic and p-value for a contingency table with the following data:"
   ]
  },
  {
   "attachments": {
    "d673b7f0-3c81-4058-809e-ef7e94d1976a.png": {
     "image/png": "[encoded data removed]"
    }
   },
   "cell_type": "markdown",
   "id": "97d38803-183e-4db2-b8d4-932da2be20c5",
   "metadata": {},
   "source": [
    "![ice_screenshot_20230329-202330.png](attachment:d673b7f0-3c81-4058-809e-ef7e94d1976a.png)"
   ]
  },
  {
   "cell_type": "code",
   "execution_count": 2,
   "id": "afcbaf30-1ec5-417f-b7a2-284b3d78eda1",
   "metadata": {},
   "outputs": [
    {
     "name": "stdout",
     "output_type": "stream",
     "text": [
      "Observed Dataframe Below :\n",
      "\n",
      "           Group A  Group B\n",
      "Outcome 1       20       15\n",
      "Outcome 2       10       25\n",
      "Outcome 3       15       20\n",
      "\n",
      "============================\n",
      "\n",
      "Expected Values Dataframe Below :\n",
      "\n",
      "           Group A  Group B\n",
      "Outcome 1     15.0     20.0\n",
      "Outcome 2     15.0     20.0\n",
      "Outcome 3     15.0     20.0\n",
      "\n",
      "Chi-square statistic: 5.8333\n",
      "p-value: 0.0541\n",
      "Failed to reject the Null Hypothesis\n",
      "Conclusion : The outcomes are independent of the groups.\n"
     ]
    }
   ],
   "source": [
    "from scipy.stats import chi2_contingency\n",
    "import pandas as pd\n",
    "\n",
    "# Defining the observed contingency table in pandas\n",
    "obs_df = pd.DataFrame({'Group A':[20,10,15],'Group B':[15,25,20]})\n",
    "obs_df.index = ['Outcome 1','Outcome 2','Outcome 3']\n",
    "print(\"Observed Dataframe Below :\\n\")\n",
    "print(obs_df)\n",
    "print(\"\\n============================\\n\")\n",
    "\n",
    "# Null and Alternate Hypothesis\n",
    "null_hypothesis = \"The outcomes are independent of the groups.\"\n",
    "alternate_hypothesis = \"The outcomes are Dependent on the groups.\"\n",
    "\n",
    "# Calculate the chi-square statistic and p-value\n",
    "stat, p, dof, expected = chi2_contingency(obs_df)\n",
    "\n",
    "# Print Expected DataFrame\n",
    "expected_df = pd.DataFrame(expected)\n",
    "expected_df.columns = ['Group A','Group B']\n",
    "expected_df.index = ['Outcome 1','Outcome 2','Outcome 3']\n",
    "print(\"Expected Values Dataframe Below :\\n\")\n",
    "print(expected_df)\n",
    "\n",
    "# Print the results\n",
    "print(\"\\nChi-square statistic:\", round(stat,4))\n",
    "print(\"p-value:\", round(p,4))\n",
    "\n",
    "# Significance \n",
    "alpha = 0.05 \n",
    "\n",
    "if p < alpha :\n",
    "    print(\"Reject the Null Hypothesis\")\n",
    "    print(f\"Conclusion : {alternate_hypothesis}\")\n",
    "else:\n",
    "    print(\"Failed to reject the Null Hypothesis\")\n",
    "    print(f\"Conclusion : {null_hypothesis}\")"
   ]
  },
  {
   "cell_type": "markdown",
   "id": "d20f1e30-4fd4-4136-8606-b443f7ca3c28",
   "metadata": {},
   "source": [
    "### Q4. A study of the prevalence of smoking in a population of 500 individuals found that 60 individuals smoked. Use Python to calculate the 95% confidence interval for the true proportion of individuals in the population who smoke."
   ]
  },
  {
   "cell_type": "markdown",
   "id": "57c451cc-c9d9-4d78-a091-040a836b0480",
   "metadata": {},
   "source": [
    "Because sample size is large Z statistic can be used directly"
   ]
  },
  {
   "cell_type": "code",
   "execution_count": 3,
   "id": "33d04051-35e0-4d8e-b2f0-8b51714d3f94",
   "metadata": {},
   "outputs": [
    {
     "name": "stdout",
     "output_type": "stream",
     "text": [
      "Critical Z statistic for 95.0% is 1.9600\n",
      "95% confidence interval : (9.15%, 14.85%)\n"
     ]
    }
   ],
   "source": [
    "import scipy.stats as stats\n",
    "import math\n",
    "\n",
    "# Sample size\n",
    "n = 500\n",
    "\n",
    "# Number of individuals who smoke in the sample\n",
    "x = 60\n",
    "\n",
    "# Proportion of individuals who smoke in the sample\n",
    "p = x/n\n",
    "\n",
    "# Confidence Level\n",
    "confidence_level = 0.95\n",
    "alpha = 1 - confidence_level\n",
    "\n",
    "# Z-value for 95% confidence interval\n",
    "z = stats.norm.ppf(1-alpha/2)\n",
    "\n",
    "# Print critical z value \n",
    "print(f'Critical Z statistic for {confidence_level*100}% is {z:.4f}')\n",
    "\n",
    "# Standard error of proportion\n",
    "se = math.sqrt((p*(1-p))/n)\n",
    "\n",
    "# Calculate confidence interval\n",
    "lower_ci = p - z*se\n",
    "upper_ci = p + z*se\n",
    "\n",
    "print(\"95% confidence interval : ({:.2f}%, {:.2f}%)\".format(lower_ci*100, upper_ci*100))"
   ]
  },
  {
   "cell_type": "markdown",
   "id": "8cddb710-0940-4819-9b2c-1105604dcdc8",
   "metadata": {},
   "source": [
    "### Q5. Calculate the 90% confidence interval for a sample of data with a mean of 75 and a standard deviation of 12 using Python. Interpret the results."
   ]
  },
  {
   "cell_type": "markdown",
   "id": "7242d2ff-6811-44ec-98d4-a54882aaaee1",
   "metadata": {},
   "source": [
    "Assuming the sample size to be 40."
   ]
  },
  {
   "cell_type": "code",
   "execution_count": 7,
   "id": "b9eb5272-8118-4953-8c62-36d5c8a26346",
   "metadata": {},
   "outputs": [
    {
     "name": "stdout",
     "output_type": "stream",
     "text": [
      "t_critical for 40 samples with 90.0% confidence is : 1.6849\n",
      "90% confidence interval: (71.803, 78.197)\n"
     ]
    }
   ],
   "source": [
    "import scipy.stats as stats\n",
    "import math\n",
    "\n",
    "# Given data\n",
    "x_bar = 75\n",
    "sigma = 12\n",
    "n = 40 # Assumed sample size 40\n",
    "\n",
    "# Degrees of freedom\n",
    "df = n - 1\n",
    "\n",
    "# Confidence level \n",
    "confidence_level = 0.90\n",
    "alpha = 1 -  confidence_level\n",
    "\n",
    "# Critical value for 90% confidence interval\n",
    "t_critical = stats.t.ppf(1 - alpha/2, df)\n",
    "print(f't_critical for {n} samples with {confidence_level*100}% confidence is : {t_critical:.4f}')\n",
    "\n",
    "# Calculate standard error of the mean\n",
    "sem = sigma / math.sqrt(n)\n",
    "\n",
    "# Calculate confidence interval\n",
    "lower_ci = x_bar - t_critical * sem\n",
    "upper_ci = x_bar + t_critical * sem\n",
    "\n",
    "print(\"90% confidence interval: ({:.3f}, {:.3f})\".format(lower_ci, upper_ci))"
   ]
  },
  {
   "cell_type": "markdown",
   "id": "fd2721e7-4d68-4040-b69c-9201575b0455",
   "metadata": {},
   "source": [
    "Interpretation : Above results mean that for sample size 40 , the estimated population mean lies between 71.803 and 78.197 with 90% confidence"
   ]
  },
  {
   "cell_type": "markdown",
   "id": "c37b1ad0-70d4-4c92-8e20-ab010755e422",
   "metadata": {},
   "source": [
    "### Q6. Use Python to plot the chi-square distribution with 10 degrees of freedom. Label the axes and shade the area corresponding to a chi-square statistic of 15."
   ]
  },
  {
   "cell_type": "code",
   "execution_count": 8,
   "id": "f2b2e2b2-b15f-436b-9c39-55331716e2d0",
   "metadata": {},
   "outputs": [
    {
     "data": {
      "image/png": "[encoded data removed]",
      "text/plain": [
       "<Figure size 800x500 with 1 Axes>"
      ]
     },
     "metadata": {},
     "output_type": "display_data"
    }
   ],
   "source": [
    "import numpy as np\n",
    "import scipy.stats as stats\n",
    "import matplotlib.pyplot as plt\n",
    "\n",
    "# Set degrees of freedom\n",
    "df = 10\n",
    "\n",
    "# Define range of x-values for plotting\n",
    "x = np.linspace(stats.chi2.ppf(0.0001, df), stats.chi2.ppf(0.999, df), 100)\n",
    "\n",
    "# Create plot\n",
    "fig, ax = plt.subplots(figsize=(8, 5))\n",
    "\n",
    "# Plot chi-square distribution\n",
    "ax.plot(x, stats.chi2.pdf(x, df), 'k-', lw=2, label='Chi-square PDF')\n",
    "\n",
    "# Calculating area under curve \n",
    "area = stats.chi2.cdf(15,df)\n",
    "\n",
    "# Shade area under the curve\n",
    "x_fill = np.linspace(stats.chi2.ppf(0.0001, df), 15, 100)\n",
    "ax.fill_between(x_fill, stats.chi2.pdf(x_fill, df), color='blue', alpha=0.5,label = f'Area under shaded region = {area:.4f}')\n",
    "\n",
    "# Add legend and labels\n",
    "ax.legend(loc='best', frameon=False)\n",
    "ax.set_xlabel('X')\n",
    "ax.set_ylabel('PDF(X)')\n",
    "ax.set_title('Chi-square Distribution with 10 Degrees of Freedom')\n",
    "\n",
    "plt.show()"
   ]
  },
  {
   "cell_type": "markdown",
   "id": "62d18dd8-7163-4ebd-8fec-5ffe694b24f3",
   "metadata": {},
   "source": [
    "### Q7. A random sample of 1000 people was asked if they preferred Coke or Pepsi. Of the sample, 520 preferred Coke. Calculate a 99% confidence interval for the true proportion of people in the population who prefer Coke."
   ]
  },
  {
   "cell_type": "code",
   "execution_count": 9,
   "id": "7757f9d5-afa2-4e5a-8d55-8f4412b0334d",
   "metadata": {},
   "outputs": [
    {
     "name": "stdout",
     "output_type": "stream",
     "text": [
      "Critical T-statistic for 99.0% confidence for 1000 samples is : 2.5808\n",
      "Estimated mean population proportion with 99.0% Confidence interval: (47.92%, 56.08%)\n"
     ]
    }
   ],
   "source": [
    "import scipy.stats as st\n",
    "\n",
    "n = 1000\n",
    "x = 520\n",
    "conf_level = 0.99\n",
    "df = n - 1\n",
    "\n",
    "# Calculate the sample proportion and standard error\n",
    "p = x / n\n",
    "se = ((p * (1 - p)) / n) ** 0.5\n",
    "\n",
    "# Find the t-value\n",
    "t = st.t.ppf((1 + conf_level) / 2, df)\n",
    "\n",
    "# Print the critical value\n",
    "print(f'Critical T-statistic for {conf_level*100}% confidence for {n} samples is : {t:.4f}')\n",
    "\n",
    "# Calculate the confidence interval\n",
    "lower = p - t * se\n",
    "upper = p + t * se\n",
    "\n",
    "print(f\"Estimated mean population proportion with {conf_level*100}% Confidence interval: ({lower*100:.2f}%, {upper*100:.2f}%)\")"
   ]
  },
  {
   "cell_type": "markdown",
   "id": "01f6e4f0-7ef0-45c7-86c1-68d9b741e3e7",
   "metadata": {},
   "source": [
    "### Q8. A researcher hypothesizes that a coin is biased towards tails. They flip the coin 100 times and observe 45 tails. Conduct a chi-square goodness of fit test to determine if the observed frequencies match the expected frequencies of a fair coin. Use a significance level of 0.05."
   ]
  },
  {
   "cell_type": "code",
   "execution_count": 10,
   "id": "ce7b94ff-5740-4dd4-ae8c-de64089c3681",
   "metadata": {},
   "outputs": [
    {
     "name": "stdout",
     "output_type": "stream",
     "text": [
      "Chi-Square Test Statistic: 1.0000\n",
      "P-value: 0.3173\n",
      "Fail to reject the null hypothesis: The Coin is FAIR\n"
     ]
    }
   ],
   "source": [
    "import scipy.stats as stats\n",
    "\n",
    "# Set the observed and expected frequencies\n",
    "observed_frequencies = [45, 55]\n",
    "expected_frequencies = [50, 50]\n",
    "\n",
    "# Null and Alternate Hypothesis \n",
    "null_hypothesis = \"The Coin is FAIR\"\n",
    "alternate_hypothesis = \"The Coin is BIASED\"\n",
    "\n",
    "# Compute the chi-square test statistic and p-value\n",
    "test_statistic, p_value = stats.chisquare(observed_frequencies, f_exp=expected_frequencies)\n",
    "\n",
    "# Print the results\n",
    "print(\"Chi-Square Test Statistic: {:.4f}\".format(test_statistic))\n",
    "print(\"P-value: {:.4f}\".format(p_value))\n",
    "\n",
    "# significance level\n",
    "alpha = 0.05\n",
    "\n",
    "# Compare the p-value to the significance level\n",
    "if p_value < alpha:\n",
    "    print(f\"Reject the null hypothesis: {alternate_hypothesis}\")\n",
    "else:\n",
    "    print(f\"Fail to reject the null hypothesis: {null_hypothesis}\")"
   ]
  },
  {
   "cell_type": "markdown",
   "id": "f89ed3a8-5768-4417-97b5-29e6d3059ac7",
   "metadata": {},
   "source": [
    "### Q9. A study was conducted to determine if there is an association between smoking status (smoker or non-smoker) and lung cancer diagnosis (yes or no). The results are shown in the contingency table below. Conduct a chi-square test for independence to determine if there is a significant association between smoking status and lung cancer diagnosis."
   ]
  },
  {
   "attachments": {
    "7e941e3d-8c91-49aa-b470-5a3bb263c42f.png": {
     "image/png": "[encoded data removed]"
    }
   },
   "cell_type": "markdown",
   "id": "58c50430-d2f9-4d5f-9f03-a314b277afc3",
   "metadata": {},
   "source": [
    "![ice_screenshot_20230329-203616.png](attachment:7e941e3d-8c91-49aa-b470-5a3bb263c42f.png)"
   ]
  },
  {
   "cell_type": "code",
   "execution_count": 11,
   "id": "067e2796-c7a0-4114-be70-a98681aeb28a",
   "metadata": {},
   "outputs": [
    {
     "name": "stdout",
     "output_type": "stream",
     "text": [
      "Observed Data :\n",
      "            Lung Cancer:Yes  Lung Cancer:No\n",
      "Smoker                   60             140\n",
      "Non Smoker               30             170\n",
      "\n",
      "========================================\n",
      "\n",
      "Expected Data :\n",
      "            Lung Cancer:Yes  Lung Cancer:No\n",
      "Smoker                 45.0           155.0\n",
      "Non Smoker             45.0           155.0\n",
      "\n",
      "Chi-Square Test Statistic: 12.0573\n",
      "P-value: 0.0005\n",
      "Reject the null hypothesis.\n",
      "Conclusion : There is a SIGNIFICANT association between smoking status and lung cancer diagnosis.\n"
     ]
    }
   ],
   "source": [
    "import pandas as pd\n",
    "import scipy.stats as stats\n",
    "\n",
    "# Set up the contingency table\n",
    "observed_df = pd.DataFrame({'Lung Cancer:Yes':[60,30], 'Lung Cancer:No':[140,170]})\n",
    "observed_df.index = ['Smoker','Non Smoker']\n",
    "\n",
    "# Null Hypothesis and Alternate Hypothesis\n",
    "null_hypothesis = \"There is NO significant association between smoking status and lung cancer diagnosis.\"\n",
    "alternate_hypothesis = \"There is a SIGNIFICANT association between smoking status and lung cancer diagnosis.\"\n",
    "\n",
    "# Print Observed data\n",
    "print('Observed Data :')\n",
    "print(observed_df)\n",
    "print('\\n========================================\\n')\n",
    "\n",
    "# Compute the chi-square test statistic and p-value\n",
    "test_statistic, p_value, dof, expected = stats.chi2_contingency(observed_df)\n",
    "\n",
    "# Print expected df\n",
    "expected_df = pd.DataFrame(expected)\n",
    "expected_df.columns = observed_df.columns\n",
    "expected_df.index = observed_df.index\n",
    "print('Expected Data :')\n",
    "print(expected_df)\n",
    "\n",
    "# Print the results\n",
    "print(\"\\nChi-Square Test Statistic: {:.4f}\".format(test_statistic))\n",
    "print(\"P-value: {:.4f}\".format(p_value))\n",
    "\n",
    "# Significance value\n",
    "alpha = 0.05\n",
    "\n",
    "# Compare the p-value to the significance level\n",
    "if p_value < alpha:\n",
    "    print(f\"Reject the null hypothesis.\\nConclusion : {alternate_hypothesis}\")\n",
    "else:\n",
    "    print(f\"Fail to reject the null hypothesis.\\nConculsion : {null_hypothesis}\")"
   ]
  },
  {
   "cell_type": "markdown",
   "id": "e350290e-2cc9-47f1-adc3-f25d9cf156f0",
   "metadata": {},
   "source": [
    "### Q10. A study was conducted to determine if the proportion of people who prefer milk chocolate, dark chocolate, or white chocolate is different in the U.S. versus the U.K. A random sample of 500 people from the U.S. and a random sample of 500 people from the U.K. were surveyed. The results are shown in the contingency table below. Conduct a chi-square test for independence to determine if there is a significant association between chocolate preference and country of origin."
   ]
  },
  {
   "attachments": {
    "4fb70cbf-dd4d-4b88-9a1a-a842039460b5.png": {
     "image/png": "[encoded data removed]"
    }
   },
   "cell_type": "markdown",
   "id": "790e6ac9-a499-4845-b151-19b227910cbb",
   "metadata": {},
   "source": [
    "![ice_screenshot_20230329-204124.png](attachment:4fb70cbf-dd4d-4b88-9a1a-a842039460b5.png)"
   ]
  },
  {
   "cell_type": "code",
   "execution_count": 12,
   "id": "a81980d1-68d7-47d4-9dcf-384de6df077f",
   "metadata": {},
   "outputs": [
    {
     "name": "stdout",
     "output_type": "stream",
     "text": [
      "Observed Data :\n",
      "              Milk Chocolate  Dark Chocolate  White Chocolate\n",
      "U.S. (n=500)             200             150              150\n",
      "U.K. (n=500)             225             175              100\n",
      "\n",
      "================================================================\n",
      "\n",
      "Expected Data :\n",
      "              Milk Chocolate  Dark Chocolate  White Chocolate\n",
      "U.S. (n=500)           212.5           162.5            125.0\n",
      "U.K. (n=500)           212.5           162.5            125.0\n",
      "\n",
      "Chi-Square Test Statistic: 13.3937\n",
      "P-value: 0.0012\n",
      "Reject the null hypothesis.\n",
      "Conclusion : There is a SIGNIFICANT association between Country and Chocolate type preffered.\n"
     ]
    }
   ],
   "source": [
    "import pandas as pd\n",
    "import scipy.stats as stats\n",
    "\n",
    "# Set up the contingency table\n",
    "observed_df = pd.DataFrame({'Milk Chocolate':[200,225], 'Dark Chocolate':[150,175], 'White Chocolate':[150,100]})\n",
    "observed_df.index = ['U.S. (n=500)','U.K. (n=500)']\n",
    "print('Observed Data :')\n",
    "print(observed_df)\n",
    "\n",
    "# Null Hypothesis and Alternate Hypothesis\n",
    "null_hypothesis = \"There is NO significant association between Country and Chocolate type preffered.\"\n",
    "alternate_hypothesis = \"There is a SIGNIFICANT association between Country and Chocolate type preffered.\"\n",
    "\n",
    "print('\\n================================================================\\n')\n",
    "\n",
    "# Compute the chi-square test statistic and p-value\n",
    "test_statistic, p_value, dof, expected = stats.chi2_contingency(observed_df)\n",
    "\n",
    "# Print expected df\n",
    "expected_df = pd.DataFrame(expected)\n",
    "expected_df.columns = observed_df.columns\n",
    "expected_df.index = observed_df.index\n",
    "print('Expected Data :')\n",
    "print(expected_df)\n",
    "\n",
    "# Print the results\n",
    "print(\"\\nChi-Square Test Statistic: {:.4f}\".format(test_statistic))\n",
    "print(\"P-value: {:.4f}\".format(p_value))\n",
    "\n",
    "# Significance value\n",
    "alpha = 0.01\n",
    "\n",
    "# Compare the p-value to the significance level\n",
    "if p_value < alpha:\n",
    "    print(f\"Reject the null hypothesis.\\nConclusion : {alternate_hypothesis}\")\n",
    "else:\n",
    "    print(f\"Fail to reject the null hypothesis.\\nConculsion : {null_hypothesis}\")"
   ]
  },
  {
   "cell_type": "markdown",
   "id": "1c98f3f4-92d1-4034-9b9b-f58529633793",
   "metadata": {},
   "source": [
    "### Q11. A random sample of 30 people was selected from a population with an unknown mean and standard deviation. The sample mean was found to be 72 and the sample standard deviation was found to be 10. Conduct a hypothesis test to determine if the population mean is significantly different from 70. Use a significance level of 0.05."
   ]
  },
  {
   "cell_type": "code",
   "execution_count": 13,
   "id": "72f14d87-a743-41ad-9d75-3947dafeedfc",
   "metadata": {},
   "outputs": [
    {
     "name": "stdout",
     "output_type": "stream",
     "text": [
      "Fail to reject the null hypothesis. The population mean is equal to 70. (p-value=0.2823362372860698)\n"
     ]
    }
   ],
   "source": [
    "# Using a t-test to compare the means\n",
    "import math\n",
    "from scipy.stats import t\n",
    "\n",
    "# Sample data\n",
    "sample_mean = 72\n",
    "sample_std = 10\n",
    "sample_size = 30\n",
    "\n",
    "# Hypotheses\n",
    "null_hypothesis = \"The population mean is equal to 70.\"\n",
    "alternative_hypothesis = \"The population mean is significantly different from 70.\"\n",
    "\n",
    "# Significance level\n",
    "alpha = 0.05\n",
    "\n",
    "# Degrees of freedom\n",
    "df = sample_size - 1\n",
    "\n",
    "# Calculate the t-statistic\n",
    "t_stat = (sample_mean - 70) / (sample_std / math.sqrt(sample_size))\n",
    "\n",
    "# Calculate the p-value\n",
    "p_value = 2 * (1 - t.cdf(abs(t_stat), df))\n",
    "\n",
    "# Compare the p-value to the significance level\n",
    "if p_value < alpha:\n",
    "    print(f\"Reject the null hypothesis. {alternative_hypothesis} (p-value={p_value})\")\n",
    "else:\n",
    "    print(f\"Fail to reject the null hypothesis. {null_hypothesis} (p-value={p_value})\")"
   ]
  },
  {
   "cell_type": "code",
   "execution_count": null,
   "id": "6d448538-8311-4bd4-9101-dc379943934b",
   "metadata": {},
   "outputs": [],
   "source": []
  }
 ],
 "metadata": {
  "kernelspec": {
   "display_name": "Python 3 (ipykernel)",
   "language": "python",
   "name": "python3"
  },
  "language_info": {
   "codemirror_mode": {
    "name": "ipython",
    "version": 3
   },
   "file_extension": ".py",
   "mimetype": "text/x-python",
   "name": "python",
   "nbconvert_exporter": "python",
   "pygments_lexer": "ipython3",
   "version": "3.10.8"
  }
 },
 "nbformat": 4,
 "nbformat_minor": 5
}
