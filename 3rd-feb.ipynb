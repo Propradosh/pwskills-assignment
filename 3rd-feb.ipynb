{
 "cells": [
  {
   "cell_type": "markdown",
   "id": "7ca27b9b-0c61-4603-b785-72581887f184",
   "metadata": {},
   "source": [
    "#### Q1. Which keyword is used to create a function? Create a function to return a list of odd numbers in the range of 1 to 25."
   ]
  },
  {
   "cell_type": "code",
   "execution_count": 2,
   "id": "b2cf61ef-aef0-4be5-91e9-f3cb83209553",
   "metadata": {},
   "outputs": [
    {
     "data": {
      "text/plain": [
       "[2, 4, 6, 8, 10, 12, 14, 16, 18, 20, 22, 24]"
      ]
     },
     "execution_count": 2,
     "metadata": {},
     "output_type": "execute_result"
    }
   ],
   "source": [
    "## \"def\" keyword is used to create a function.\n",
    "def evenlist():\n",
    "    list=[]\n",
    "    for i in range(1,25):\n",
    "        if i%2 ==0:\n",
    "            list.append(i)\n",
    "    return list\n",
    "evenlist()"
   ]
  },
  {
   "cell_type": "markdown",
   "id": "a43f0d33-2f5e-49af-8506-33237a903861",
   "metadata": {},
   "source": [
    "#### Q.2 Why *args and **kwargs is used in some functions? Create a function each for *args and **kwargs to demonstrate their use."
   ]
  },
  {
   "cell_type": "code",
   "execution_count": 7,
   "id": "95cff777-c58d-452e-8088-35e56fe06d88",
   "metadata": {},
   "outputs": [],
   "source": [
    "### When we have pass 'n' number of arguments or we do't know the number of arguments to be passed in the function, in that case we use *args and **kwargs"
   ]
  },
  {
   "cell_type": "code",
   "execution_count": 8,
   "id": "7e972f7b-21d8-4f03-b8a4-eb554f0ce6dc",
   "metadata": {},
   "outputs": [
    {
     "name": "stdout",
     "output_type": "stream",
     "text": [
      "The args[0] having: Hi\n",
      "The args[1] having: There\n",
      "The args[2] having: Myself Pradosh\n"
     ]
    }
   ],
   "source": [
    "def demo1(*args):\n",
    "    \"\"\"a function for *args to demonstrate its use.\"\"\"\n",
    "    index=0\n",
    "    for i in args:\n",
    "        print(\"The args[\"+str(index)+\"] having:\",i)\n",
    "        index+=1\n",
    "demo1(\"Hi\", \"There\", \"Myself Pradosh\")"
   ]
  },
  {
   "cell_type": "code",
   "execution_count": 10,
   "id": "f71cd9e1-00d3-4eb0-997a-cd8268aa5dfd",
   "metadata": {},
   "outputs": [
    {
     "name": "stdout",
     "output_type": "stream",
     "text": [
      "The kwargs[0] having key 'FirstName' and value 'Pradosh'\n",
      "The kwargs[1] having key 'LastName' and value 'Kumar'\n",
      "The kwargs[2] having key 'Study_at' and value 'pwskills'\n"
     ]
    }
   ],
   "source": [
    "#a function for kwargs to demonstrate its use.\n",
    "def demo2(**kwargs):\n",
    "    \"\"\"a function for kwargs to demonstrate its use.\"\"\"\n",
    "    index=0\n",
    "    for key, value in kwargs.items():\n",
    "        print(\"The kwargs[\"+str(index)+\"] having key '\"+str(key)+ \"' and value '\"+str(value)+\"'\")\n",
    "        index+=1\n",
    "demo2(FirstName= \"Pradosh\", LastName= \"Kumar\",Study_at =\"pwskills\")\n"
   ]
  },
  {
   "cell_type": "markdown",
   "id": "2759b2fa-4877-485f-a60c-e1051c64b568",
   "metadata": {},
   "source": [
    "#### Q.3 What is an iterator in python? Name the method used to initialise the iterator object and the method used for iteration. Use these methods to print the first five elements of the given list [2, 4, 6, 8, 10, 12, 14, 16, 18, 20].\n"
   ]
  },
  {
   "cell_type": "code",
   "execution_count": 17,
   "id": "dd9d67cf-323e-42d5-92a5-35e124f4dc6d",
   "metadata": {},
   "outputs": [
    {
     "name": "stdout",
     "output_type": "stream",
     "text": [
      "2\n",
      "4\n",
      "6\n",
      "8\n",
      "10\n"
     ]
    }
   ],
   "source": [
    "## Ans: Iterators are methods that iterate collections like lists, tuples, etc. Using an iterator method, we can loop through an object and return its elements. The for loop in Python is used to iterate over a sequence of elements, such as a list, tuple, or string. When we use the for loop with an iterator, the loop will automatically iterate over the elements of the iterator until it is exhausted.\n",
    "\n",
    "lst=[2, 4, 6, 8, 10, 12, 14, 16, 18, 20]\n",
    "count=0\n",
    "for i in lst:\n",
    "    if count<5:\n",
    "        print(i)\n",
    "        count+=1"
   ]
  },
  {
   "cell_type": "markdown",
   "id": "62a80b2c-aad4-48bb-9834-c6ef5bf08bd1",
   "metadata": {},
   "source": [
    "#### Q.4 What is a generator function in python? Why yield keyword is used? Give an example of a generator function."
   ]
  },
  {
   "cell_type": "code",
   "execution_count": 19,
   "id": "22788dee-f17b-41c1-a951-5c46ce4bb6d2",
   "metadata": {},
   "outputs": [
    {
     "name": "stdout",
     "output_type": "stream",
     "text": [
      "0\n",
      "1\n",
      "1\n",
      "2\n",
      "3\n",
      "5\n",
      "8\n",
      "13\n",
      "21\n",
      "34\n"
     ]
    }
   ],
   "source": [
    "## A generator is a function that returns an iterator that produces a sequence of values when iterated over. Generators are useful when we want to produce a large sequence of values, but we don't want to store all of them in memory at once.\n",
    "## Yield keyword is used to create a generator function.\n",
    "\n",
    "# Example:-\n",
    "def test_fib(n) :\n",
    "    a,b = 0,1\n",
    "    for i in range(n):\n",
    "        yield a \n",
    "        a,b = b ,a+b\n",
    "for i in test_fib(10):\n",
    "    print(i)\n"
   ]
  },
  {
   "cell_type": "markdown",
   "id": "5e9df98d-938a-4a54-b030-3884e2b1c091",
   "metadata": {},
   "source": [
    "#### Q5. Create a generator function for prime numbers less than 1000. Use the next() method to print the first 20 prime numbers."
   ]
  },
  {
   "cell_type": "code",
   "execution_count": 24,
   "id": "82f1ce56-83f6-4392-ab3f-ea99b1e2a1ec",
   "metadata": {},
   "outputs": [
    {
     "name": "stdout",
     "output_type": "stream",
     "text": [
      "2\n",
      "3\n",
      "5\n",
      "7\n",
      "11\n",
      "13\n",
      "17\n",
      "19\n",
      "23\n",
      "29\n",
      "31\n",
      "37\n",
      "41\n",
      "43\n",
      "47\n",
      "53\n",
      "59\n",
      "61\n",
      "67\n",
      "71\n"
     ]
    }
   ],
   "source": [
    "#a generator function for prime numbers less than 1000. Use the next() method to print the first 20 prime numbers.\n",
    "def primes():\n",
    "    yield 2\n",
    "    primes_list = [2]\n",
    "    for i in range(3, 1000):\n",
    "        is_prime = True\n",
    "        for prime in primes_list:\n",
    "            if i % prime == 0:\n",
    "                is_prime = False\n",
    "                break\n",
    "        if is_prime:\n",
    "            primes_list.append(i)\n",
    "            yield i\n",
    "prime_gen = primes()\n",
    "\n",
    "# the method to print the first 20 prime numbers.\n",
    "for i in range(20):\n",
    "    print(next(prime_gen))"
   ]
  },
  {
   "cell_type": "markdown",
   "id": "94ec90d7-6e34-4062-96c8-a6cd2c1e03f3",
   "metadata": {},
   "source": [
    "#### Q6. Write a python program to print the first 10 Fibonacci numbers using a while loop."
   ]
  },
  {
   "cell_type": "code",
   "execution_count": 27,
   "id": "240aed13-4b95-424e-9eb8-f0f57fbc64cc",
   "metadata": {},
   "outputs": [
    {
     "name": "stdout",
     "output_type": "stream",
     "text": [
      "0\n",
      "1\n",
      "1\n",
      "2\n",
      "3\n",
      "5\n",
      "8\n",
      "13\n",
      "21\n",
      "34\n"
     ]
    }
   ],
   "source": [
    "def fibonacci(n):\n",
    "    a, b=0, 1\n",
    "    count=0\n",
    "    while count<n:\n",
    "        print(a)\n",
    "        a, b= b,a+b\n",
    "        count+=1\n",
    "fibonacci(10)"
   ]
  },
  {
   "cell_type": "markdown",
   "id": "a4bc94d9-ae2f-41e4-96e4-5deacda0d2b4",
   "metadata": {},
   "source": [
    "#### Q7. Write a List Comprehension to iterate through the given string: ‘pwskills’.Expected output: ['p', 'w', 's', 'k', 'i', 'l', 'l', 's']"
   ]
  },
  {
   "cell_type": "code",
   "execution_count": 34,
   "id": "148139ad-8410-4546-bbde-3c45a7df4e9f",
   "metadata": {},
   "outputs": [
    {
     "name": "stdout",
     "output_type": "stream",
     "text": [
      "['p', 'w', 's', 'k', 'i', 'l', 'l', 's']\n"
     ]
    }
   ],
   "source": [
    "str=\"pwskills\"\n",
    "lst=[i for i in str]\n",
    "print(lst)"
   ]
  },
  {
   "cell_type": "markdown",
   "id": "08f39c09-e462-4967-a335-985e1d2f2e25",
   "metadata": {},
   "source": [
    "#### Q8. Write a python program to check whether a given number is Palindrome or not using a while loop."
   ]
  },
  {
   "cell_type": "code",
   "execution_count": null,
   "id": "df0debc7-d77b-4c0d-9a4f-cacb531a3267",
   "metadata": {},
   "outputs": [],
   "source": [
    "number = int(input(\"Enter a number to check for Palindrome\"))\n",
    "number1 = str(number)\n",
    "length = len(number1)\n",
    "reverse = \"\"\n",
    "while( length > 0):\n",
    "    reverse = reverse + number1[length-1] \n",
    "    length -= 1\n",
    "if number1 == reverse:\n",
    "    print (\"Palindrome!\")\n",
    "else:\n",
    "    print (\"Not a Palindrome!\")"
   ]
  },
  {
   "cell_type": "markdown",
   "id": "a1008a54-d55d-4745-8060-d62c23773029",
   "metadata": {},
   "source": [
    "#### Q9. Write a code to print odd numbers from 1 to 100 using list comprehension."
   ]
  },
  {
   "cell_type": "code",
   "execution_count": 54,
   "id": "ff39c4c3-84dd-4a15-b72e-4b5f218ddfaa",
   "metadata": {},
   "outputs": [
    {
     "name": "stdout",
     "output_type": "stream",
     "text": [
      "[1, 3, 5, 7, 9, 11, 13, 15, 17, 19, 21, 23, 25, 27, 29, 31, 33, 35, 37, 39, 41, 43, 45, 47, 49, 51, 53, 55, 57, 59, 61, 63, 65, 67, 69, 71, 73, 75, 77, 79, 81, 83, 85, 87, 89, 91, 93, 95, 97, 99]\n"
     ]
    }
   ],
   "source": [
    "odd_num=[odd for odd in range(1,100) if odd%2!=0]\n",
    "print(odd_num)"
   ]
  },
  {
   "cell_type": "code",
   "execution_count": null,
   "id": "97f66d50-ed87-46c7-be4a-dc2e0270c009",
   "metadata": {},
   "outputs": [],
   "source": []
  }
 ],
 "metadata": {
  "kernelspec": {
   "display_name": "Python 3 (ipykernel)",
   "language": "python",
   "name": "python3"
  },
  "language_info": {
   "codemirror_mode": {
    "name": "ipython",
    "version": 3
   },
   "file_extension": ".py",
   "mimetype": "text/x-python",
   "name": "python",
   "nbconvert_exporter": "python",
   "pygments_lexer": "ipython3",
   "version": "3.10.8"
  }
 },
 "nbformat": 4,
 "nbformat_minor": 5
}
