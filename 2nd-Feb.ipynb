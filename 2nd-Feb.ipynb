{
 "cells": [
  {
   "cell_type": "markdown",
   "id": "7b9a1daa-8b5b-45e5-ab94-6fd303a6560c",
   "metadata": {},
   "source": [
    "#### Q1. Explain with an example each when to use a for loop and a while loop?"
   ]
  },
  {
   "cell_type": "code",
   "execution_count": 3,
   "id": "7bd534fa-4255-4958-9166-5bfeb4211021",
   "metadata": {},
   "outputs": [
    {
     "name": "stdout",
     "output_type": "stream",
     "text": [
      "0\n",
      "1\n",
      "2\n",
      "3\n",
      "4\n",
      "-------------------------------\n",
      "0\n",
      "1\n",
      "2\n",
      "3\n",
      "4\n"
     ]
    }
   ],
   "source": [
    "## For loops are used when you have a known number of iterations or when you want to iterate through a sequence (list, tuple, string, etc.) to perform an action for each item in the sequence.\n",
    "\n",
    "## Example of For Loop:-\n",
    "\n",
    "for x in range(5):\n",
    "    print(x)\n",
    "    \n",
    "print(\"-------------------------------\")\n",
    "\n",
    "## While loops are used when you want to keep executing a block of code as long as a certain condition is met. It is important to keep in mind that while loops can lead to infinite loops if the termination condition is never met, so it's crucial to make sure that the condition eventually becomes false.\n",
    "## Example of while Loop:-\n",
    "i=0\n",
    "while i<5:\n",
    "    print(i)\n",
    "    i +=1"
   ]
  },
  {
   "cell_type": "markdown",
   "id": "497bf558-b0fc-4929-98f8-2a8dd2cdb0a0",
   "metadata": {},
   "source": [
    "#### Q2. Write a python program to print the sum and product of the first 10 natural numbers using for and while loop?"
   ]
  },
  {
   "cell_type": "code",
   "execution_count": 10,
   "id": "2eec57ce-51f4-4230-a0d0-fab80b98e8e8",
   "metadata": {},
   "outputs": [
    {
     "name": "stdout",
     "output_type": "stream",
     "text": [
      "Sum Of first 10 natural number is 55.\n",
      "Product Of first 10 natural number is 3628800.\n"
     ]
    }
   ],
   "source": [
    "sum=0\n",
    "product=1\n",
    "for i in range(1, 11):\n",
    "    sum += i\n",
    "    product *=i\n",
    "print (f\"Sum Of first 10 natural number is {sum}.\")\n",
    "print (f\"Product Of first 10 natural number is {product}.\")\n",
    "    "
   ]
  },
  {
   "cell_type": "markdown",
   "id": "bf703dcf-b2b4-41c6-ad05-0164d84a9ded",
   "metadata": {},
   "source": [
    "#### Q3. Create a python program to compute the electricity bill for a household. The per-unit charges in rupees are as follows: For the first 100 units, the user will be charged Rs. 4.5 per unit, for the next 100 units, the user will be charged Rs. 6 per unit, and for the next 100 units, the user will be charged Rs. 10 per unit, After 300 units and above the user will be charged Rs. 20 per unit. You are required to take the units of electricity consumed in a month from the user as input. Your program must pass this test case: when the unit of electricity consumed by the user in a month is 310, the total electricity bill should be 2250."
   ]
  },
  {
   "cell_type": "code",
   "execution_count": 22,
   "id": "93e16976-651e-444f-baa4-d0d31f3a8bd7",
   "metadata": {},
   "outputs": [
    {
     "name": "stdin",
     "output_type": "stream",
     "text": [
      "Enter Your Electricity bill unit: 400\n"
     ]
    },
    {
     "name": "stdout",
     "output_type": "stream",
     "text": [
      "Your bill amount is Rs.4050\n"
     ]
    }
   ],
   "source": [
    "unit=int(input(\"Enter Your Electricity bill unit:\"))\n",
    "\n",
    "if unit<=100:\n",
    "    print(f\"Your bill amount is Rs.{unit*4.5}\")\n",
    "elif unit<=200:\n",
    "    print(f\"Your bill amount is Rs.{450 + (unit-100)*6}\")\n",
    "elif unit<=300:\n",
    "    print(f\"Your bill amount is RS.{450 + 600 + (unit-200)*10}\")\n",
    "else:\n",
    "    print(f\"Your bill amount is Rs.{450 + 600 +1000 + (unit-300)*20}\")"
   ]
  },
  {
   "cell_type": "markdown",
   "id": "65473353-d395-4f17-a6fa-a5220e57e518",
   "metadata": {},
   "source": [
    "#### Q4. Create a list of numbers from 1 to 100. Use for loop and while loop to calculate the cube of each number and if the cube of that number is divisible by 4 or 5 then append that number in a list and print that list."
   ]
  },
  {
   "cell_type": "code",
   "execution_count": 37,
   "id": "d062b6a8-d55d-4f30-b20c-33a4576de354",
   "metadata": {},
   "outputs": [
    {
     "name": "stdout",
     "output_type": "stream",
     "text": [
      "The list of cubes that are divisible by 4 or 5: [8, 64, 125, 216, 512, 1000, 1728, 2744, 3375, 4096, 5832, 8000, 10648, 13824, 15625, 17576, 21952, 27000, 32768, 39304, 42875, 46656, 54872, 64000, 74088, 85184, 91125, 97336, 110592, 125000, 140608, 157464, 166375, 175616, 195112, 216000, 238328, 262144, 274625, 287496, 314432, 343000, 373248, 405224, 421875, 438976, 474552, 512000, 551368, 592704, 614125, 636056, 681472, 729000, 778688, 830584, 857375, 884736, 941192, 1000000]\n"
     ]
    }
   ],
   "source": [
    "# Using For Loop\n",
    "\n",
    "number=[]\n",
    "cube_divisibility=[]\n",
    "for i in range(1,101):\n",
    "    number.append(i)\n",
    "    cube = i**3\n",
    "    if cube % 4==0 or cube % 5 ==0:\n",
    "        cube_divisibility.append(cube)\n",
    "print(f\"The list of cubes that are divisible by 4 or 5: {cube_divisibility}\")"
   ]
  },
  {
   "cell_type": "code",
   "execution_count": 43,
   "id": "036e00e2-4f9a-4a44-a871-92ffec6e72f6",
   "metadata": {},
   "outputs": [
    {
     "name": "stdout",
     "output_type": "stream",
     "text": [
      "The list of cubes that are divisible by 4 or 5: [8, 64, 125, 216, 512, 1000, 1728, 2744, 3375, 4096, 5832, 8000, 10648, 13824, 15625, 17576, 21952, 27000, 32768, 39304, 42875, 46656, 54872, 64000, 74088, 85184, 91125, 97336, 110592, 125000, 140608, 157464, 166375, 175616, 195112, 216000, 238328, 262144, 274625, 287496, 314432, 343000, 373248, 405224, 421875, 438976, 474552, 512000, 551368, 592704, 614125, 636056, 681472, 729000, 778688, 830584, 857375, 884736, 941192, 1000000]\n"
     ]
    }
   ],
   "source": [
    "# Using While Loop\n",
    "number=[]\n",
    "cube_divisibility=[]\n",
    "i=1\n",
    "while i<=100:\n",
    "    number.append(number)\n",
    "    cube=i ** 3\n",
    "    if cube % 4 == 0 or cube % 5 == 0:\n",
    "        cube_divisibility.append(cube)\n",
    "    i+=1\n",
    "print(f\"The list of cubes that are divisible by 4 or 5: {cube_divisibility}\")"
   ]
  },
  {
   "cell_type": "markdown",
   "id": "acfb9cfe-f543-4327-9bd7-47ca62a2c748",
   "metadata": {},
   "source": [
    "#### Q5. Write a program to filter count vowels in the below-given string. string = \"I want to become a data scientist\""
   ]
  },
  {
   "cell_type": "code",
   "execution_count": 62,
   "id": "d24dd792-22c5-4122-965a-5fbae1eabf46",
   "metadata": {},
   "outputs": [
    {
     "name": "stdout",
     "output_type": "stream",
     "text": [
      "Number of vowel in string is: 12\n"
     ]
    }
   ],
   "source": [
    "str= \"I want to become a data scientist\"\n",
    "vowel= \"aAeEiIoOuU\"\n",
    "count=0\n",
    "for i in str:\n",
    "    if i in vowel:\n",
    "        count +=1\n",
    "print(f'Number of vowel in string is: {count}')\n",
    "        "
   ]
  },
  {
   "cell_type": "code",
   "execution_count": 60,
   "id": "a09d65da-e098-47f2-b03d-c9d4aae7e01c",
   "metadata": {},
   "outputs": [
    {
     "name": "stdout",
     "output_type": "stream",
     "text": [
      "The number of vowels in the string is: 12\n"
     ]
    }
   ],
   "source": []
  },
  {
   "cell_type": "code",
   "execution_count": null,
   "id": "38cafe02-61b1-4270-ba83-ee0f7cb4ba34",
   "metadata": {},
   "outputs": [],
   "source": []
  }
 ],
 "metadata": {
  "kernelspec": {
   "display_name": "Python 3 (ipykernel)",
   "language": "python",
   "name": "python3"
  },
  "language_info": {
   "codemirror_mode": {
    "name": "ipython",
    "version": 3
   },
   "file_extension": ".py",
   "mimetype": "text/x-python",
   "name": "python",
   "nbconvert_exporter": "python",
   "pygments_lexer": "ipython3",
   "version": "3.10.8"
  }
 },
 "nbformat": 4,
 "nbformat_minor": 5
}
