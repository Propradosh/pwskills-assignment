{
 "cells": [
  {
   "cell_type": "markdown",
   "id": "82b1b434-95fb-4816-a96a-74d02b172f96",
   "metadata": {},
   "source": [
    "#### Q1. Explain Class and Object with respect to Object-Oriented Programming. Give a suitable example."
   ]
  },
  {
   "cell_type": "markdown",
   "id": "21b73038-95a9-48b9-97ea-301f1b9753ab",
   "metadata": {},
   "source": [
    "\"\"\" In object-oriented programming, a class is a blueprint for creating objects (instances), which define the attributes and behaviors of the objects.\n",
    "An object is an instance of a class, and it represents a specific element of the class.\n",
    "\n",
    "For example, consider the class \"Person\". A Person class might have attributes like name, age, address, and behaviors like speak, walk, and eat. An object of the class Person might represent a specific person, like \"Pradosh Kumar\", who is 32 years old, lives at \"Bhubaneswar\", and can perform actions like speaking, walking, and eating. \"\"\""
   ]
  },
  {
   "cell_type": "markdown",
   "id": "569279df-024a-4d38-8e29-3405b3055cf4",
   "metadata": {},
   "source": [
    "#### Q2. Name the four pillars of OOPs."
   ]
  },
  {
   "cell_type": "markdown",
   "id": "cd2cd655-8f8e-4e03-bd87-4f4752ba960f",
   "metadata": {},
   "source": [
    "The four pillars of object-oriented programming (OOP) are:\n",
    "\n",
    "1. Abstraction: The process of hiding the implementation details and showing only the necessary information to the user. It helps in reducing complexity and creating a clear structure.\n",
    "\n",
    "2. Encapsulation: The mechanism of wrapping data and functions into a single unit (object) and providing controlled access to the data and functions. It helps in maintaining the integrity of the data and reduces the impact of changes in the implementation.\n",
    "\n",
    "3. Inheritance: The mechanism of acquiring properties and behaviors from a parent class to a child class. It helps in reducing the code duplication and creating a hierarchical relationship between classes.\n",
    "\n",
    "4. Polymorphism: The ability of an object to take on many forms. It allows objects of different classes to be treated as objects of the same class. This is achieved through method overloading and method overriding.\n",
    "\n",
    "\n",
    "\n",
    "\n"
   ]
  },
  {
   "cell_type": "markdown",
   "id": "ea8ef512-c782-4b09-934f-a5ea6df47fea",
   "metadata": {},
   "source": [
    "#### Q3. Explain why the __init__() function is used. Give a suitable example."
   ]
  },
  {
   "cell_type": "markdown",
   "id": "b443da34-09b3-453a-aca3-3adbef006756",
   "metadata": {},
   "source": [
    "The __init__ method, also known as the constructor, is a special method in Python classes. It is called automatically when an object of the class is created and is used to initialize the attributes of the object. The __init__ method takes the first parameter self (which is a reference to the instance being created) and any additional parameters that are needed to initialize the object's attributes."
   ]
  },
  {
   "cell_type": "code",
   "execution_count": 7,
   "id": "0af63ba2-2040-4f75-a6a4-0aa6ed8d96c2",
   "metadata": {},
   "outputs": [
    {
     "name": "stdout",
     "output_type": "stream",
     "text": [
      "Pradosh\n",
      "27\n",
      "Male\n"
     ]
    }
   ],
   "source": [
    "##Example:\n",
    "class Person:\n",
    "    def __init__(self, name, age,gender):\n",
    "        self.name = name\n",
    "        self.age = age\n",
    "        self.gender = gender\n",
    "\n",
    "person = Person(\"Pradosh\", 27, \"Male\")\n",
    "print(person.name)\n",
    "print(person.age)\n",
    "print(person.gender)"
   ]
  },
  {
   "cell_type": "markdown",
   "id": "802b625a-0e0a-426c-b902-1f2153e1cd2c",
   "metadata": {},
   "source": [
    "#### Q4. Why self is used in OOPs?"
   ]
  },
  {
   "cell_type": "markdown",
   "id": "9cc3b277-f3a6-43f7-a220-f933cfff3168",
   "metadata": {},
   "source": [
    "In object-oriented programming (OOPs), self is a special keyword that is used to refer to the instance of the class being defined. The first parameter of every method in a class must be self so that the method can access the properties and methods of the object it belongs to.The purpose of using self is to allow the object to access and manipulate its own properties and methods."
   ]
  },
  {
   "cell_type": "markdown",
   "id": "2a2fb824-3ef2-48fd-a338-7ba0a076042f",
   "metadata": {},
   "source": [
    "### Q5. What is inheritance? Give an example for each type of inheritance."
   ]
  },
  {
   "cell_type": "markdown",
   "id": "af565fe1-2893-48dd-9609-ef05d09890a2",
   "metadata": {},
   "source": [
    "Inheritance is a fundamental concept in object-oriented programming (OOP) that allows you to create a new class that inherits attributes and behaviors from an existing class, which is known as the base class or parent class. The new class is called the derived class or child class. Inheritance provides a way to reuse and extend existing code, making it easier to develop complex applications."
   ]
  },
  {
   "cell_type": "code",
   "execution_count": 9,
   "id": "8b124f4c-6df8-406f-b30c-54b3ea752d77",
   "metadata": {},
   "outputs": [
    {
     "name": "stdout",
     "output_type": "stream",
     "text": [
      "600\n"
     ]
    }
   ],
   "source": [
    "### 1. Single Inheritance: In single inheritance, a child class inherits from a single parent class. This is the simplest form of inheritance, and it allows a child class to inherit all the attributes and behaviors of its parent class.\n",
    "\n",
    "#Example:\n",
    "class Shape:\n",
    "    def __init__(self, width, height):\n",
    "        self.width = width\n",
    "        self.height = height\n",
    "\n",
    "    def area(self):\n",
    "        return self.width * self.height\n",
    "\n",
    "class Rectangle(Shape):\n",
    "    pass\n",
    "\n",
    "rect = Rectangle(20, 30)\n",
    "print(rect.area())\n"
   ]
  },
  {
   "cell_type": "code",
   "execution_count": 20,
   "id": "611d4ec7-a63e-4dc8-99b6-681a6c0fa70a",
   "metadata": {},
   "outputs": [
    {
     "name": "stdout",
     "output_type": "stream",
     "text": [
      "Some animal sound\n",
      "The bird is flying\n"
     ]
    }
   ],
   "source": [
    "## 2. Multiple Inheritance: In multiple inheritance, a child class inherits from multiple parent classes. This allows a child class to inherit attributes and behaviors from multiple parent classes, making it more flexible and powerful.\n",
    "## Example:\n",
    "\n",
    "class Animal:\n",
    "    def __init__(self, name, species):\n",
    "        self.name = name\n",
    "        self.species = species\n",
    "\n",
    "    def make_sound(self):\n",
    "        print(\"Some animal sound\")\n",
    "\n",
    "class Bird:\n",
    "    def __init__(self, wingspan):\n",
    "        self.wingspan = wingspan\n",
    "\n",
    "    def fly(self):\n",
    "        print(\"The bird is flying\")\n",
    "\n",
    "class FlyingAnimal(Animal, Bird):\n",
    "    pass\n",
    "\n",
    "fa = FlyingAnimal(\"Eagle\", \"Birds\")\n",
    "fa.make_sound() \n",
    "fa.fly() \n"
   ]
  },
  {
   "cell_type": "code",
   "execution_count": 19,
   "id": "3c96cfb8-995b-499e-b517-379bdc74a92b",
   "metadata": {},
   "outputs": [
    {
     "name": "stdout",
     "output_type": "stream",
     "text": [
      "The engine is starting\n"
     ]
    }
   ],
   "source": [
    "## 3. Multilevel Inheritance: In multilevel inheritance, a child class inherits from a parent class, which in turn inherits from another parent class. This allows you to create a hierarchy of classes, where each child class inherits attributes and behaviors from its parent class.\n",
    "\n",
    "# Example:-\n",
    "\n",
    "class Vehicle:\n",
    "    def __init__(self, make, model):\n",
    "        self.make = make\n",
    "        self.model = model\n",
    "\n",
    "    def start_engine(self):\n",
    "        print(\"The engine is starting\")\n",
    "\n",
    "class Car(Vehicle):\n",
    "    pass\n",
    "\n",
    "class SportsCar(Car):\n",
    "    pass\n",
    "\n",
    "sc = SportsCar(\"Ferrari\", \"458\")\n",
    "sc.start_engine()"
   ]
  },
  {
   "cell_type": "code",
   "execution_count": 18,
   "id": "e84dd164-f720-437f-8170-44f0c5db5179",
   "metadata": {},
   "outputs": [
    {
     "name": "stdout",
     "output_type": "stream",
     "text": [
      "Name: Pradosh, Salary: 70000\n"
     ]
    }
   ],
   "source": [
    "## 4.Hierarchical Inheritance: In hierarchical inheritance, multiple child classes inherit from a single parent class. This allows you to create a hierarchy of classes where multiple child classes inherit from a single parent class.\n",
    "# Example:\n",
    "class Employee:\n",
    "    def __init__(self, name, salary):\n",
    "        self.name = name\n",
    "        self.salary = salary\n",
    "\n",
    "    def display_employee_details(self):\n",
    "        print(f\"Name: {self.name}, Salary: {self.salary}\")\n",
    "\n",
    "class Manager(Employee):\n",
    "    pass\n",
    "\n",
    "class Developer(Employee):\n",
    "    pass\n",
    "\n",
    "mngr = Manager(\"Pradosh\", 70000)\n",
    "mngr.display_employee_details()\n"
   ]
  }
 ],
 "metadata": {
  "kernelspec": {
   "display_name": "Python 3 (ipykernel)",
   "language": "python",
   "name": "python3"
  },
  "language_info": {
   "codemirror_mode": {
    "name": "ipython",
    "version": 3
   },
   "file_extension": ".py",
   "mimetype": "text/x-python",
   "name": "python",
   "nbconvert_exporter": "python",
   "pygments_lexer": "ipython3",
   "version": "3.10.8"
  }
 },
 "nbformat": 4,
 "nbformat_minor": 5
}
